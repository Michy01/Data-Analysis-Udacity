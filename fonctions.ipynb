{
 "cells": [
  {
   "cell_type": "markdown",
   "id": "d00ec675",
   "metadata": {},
   "source": [
    "**Créé par Gael AHOUANVOEDO (Fr Session Lead)**\n",
    "\n",
    "**🚀 Préparation de données 📊 ALX Udacity Data Analyst NanoDegree 📈**\n",
    "\n",
    "**08 Juillet 2022**"
   ]
  },
  {
   "cell_type": "markdown",
   "id": "5752d771",
   "metadata": {},
   "source": [
    "# **<center><span style=\"color:#01c9e0;\">🚀 PREPARATION DE DONNEES  🚀   </span></center>**\n",
    "## <center>Pour plus d'informations contctez moi sur Slack 👍</center>"
   ]
  },
  {
   "cell_type": "code",
   "execution_count": 1,
   "id": "130fde26",
   "metadata": {},
   "outputs": [],
   "source": [
    "import numpy as np\n",
    "import pandas as pd\n",
    "import matplotlib.pyplot as plt\n",
    "import seaborn as sns\n",
    "import warnings\n",
    "import scipy.stats as stats\n",
    "warnings.filterwarnings('ignore')"
   ]
  },
  {
   "cell_type": "markdown",
   "id": "35e0dbbe",
   "metadata": {},
   "source": [
    "# **<center><span style=\"color:#01c9e0;\">Collecter les données </span></center>**"
   ]
  },
  {
   "cell_type": "markdown",
   "id": "414c9e05",
   "metadata": {},
   "source": [
    "## **<span style=\"color:#1c4587;\">Importer fichier CSV</span>**"
   ]
  },
  {
   "cell_type": "code",
   "execution_count": 2,
   "id": "76f1c100",
   "metadata": {},
   "outputs": [],
   "source": [
    "data = pd.read_csv('Software_Professional_Salaries - modif.csv')\n",
    "df = data.copy()"
   ]
  },
  {
   "cell_type": "markdown",
   "id": "d8bb9c87",
   "metadata": {},
   "source": [
    "# **<center><span style=\"color:#01c9e0;\">Evaluer les données </span></center>**"
   ]
  },
  {
   "cell_type": "markdown",
   "id": "a59d8689",
   "metadata": {},
   "source": [
    "## **<span style=\"color:#1c4587;\">Voir l'entete</span>**"
   ]
  },
  {
   "cell_type": "code",
   "execution_count": 3,
   "id": "b4cc35bd",
   "metadata": {},
   "outputs": [
    {
     "data": {
      "text/html": [
       "<div>\n",
       "<style scoped>\n",
       "    .dataframe tbody tr th:only-of-type {\n",
       "        vertical-align: middle;\n",
       "    }\n",
       "\n",
       "    .dataframe tbody tr th {\n",
       "        vertical-align: top;\n",
       "    }\n",
       "\n",
       "    .dataframe thead th {\n",
       "        text-align: right;\n",
       "    }\n",
       "</style>\n",
       "<table border=\"1\" class=\"dataframe\">\n",
       "  <thead>\n",
       "    <tr style=\"text-align: right;\">\n",
       "      <th></th>\n",
       "      <th>Rating</th>\n",
       "      <th>Company Name</th>\n",
       "      <th>Job Title</th>\n",
       "      <th>Salary</th>\n",
       "      <th>Salaries Reported</th>\n",
       "      <th>Location</th>\n",
       "    </tr>\n",
       "  </thead>\n",
       "  <tbody>\n",
       "    <tr>\n",
       "      <th>0</th>\n",
       "      <td>3.8</td>\n",
       "      <td>Sasken</td>\n",
       "      <td>Android Developer</td>\n",
       "      <td>400000.0</td>\n",
       "      <td>3</td>\n",
       "      <td>Bangalore</td>\n",
       "    </tr>\n",
       "    <tr>\n",
       "      <th>1</th>\n",
       "      <td>4.5</td>\n",
       "      <td>Advanced Millennium Technologies</td>\n",
       "      <td>Android Developer</td>\n",
       "      <td>400000.0</td>\n",
       "      <td>3</td>\n",
       "      <td>Bangalore</td>\n",
       "    </tr>\n",
       "    <tr>\n",
       "      <th>2</th>\n",
       "      <td>4.0</td>\n",
       "      <td>Unacademy</td>\n",
       "      <td>Android Developer</td>\n",
       "      <td>1000000.0</td>\n",
       "      <td>3</td>\n",
       "      <td>Bangalore</td>\n",
       "    </tr>\n",
       "    <tr>\n",
       "      <th>3</th>\n",
       "      <td>3.8</td>\n",
       "      <td>SnapBizz Cloudtech</td>\n",
       "      <td>Android Developer</td>\n",
       "      <td>300000.0</td>\n",
       "      <td>3</td>\n",
       "      <td>Bangalore</td>\n",
       "    </tr>\n",
       "    <tr>\n",
       "      <th>4</th>\n",
       "      <td>4.4</td>\n",
       "      <td>Appoids Tech Solutions</td>\n",
       "      <td>Android Developer</td>\n",
       "      <td>600000.0</td>\n",
       "      <td>3</td>\n",
       "      <td>Bangalore</td>\n",
       "    </tr>\n",
       "  </tbody>\n",
       "</table>\n",
       "</div>"
      ],
      "text/plain": [
       "   Rating                      Company Name          Job Title     Salary  \\\n",
       "0     3.8                            Sasken  Android Developer   400000.0   \n",
       "1     4.5  Advanced Millennium Technologies  Android Developer   400000.0   \n",
       "2     4.0                         Unacademy  Android Developer  1000000.0   \n",
       "3     3.8                SnapBizz Cloudtech  Android Developer   300000.0   \n",
       "4     4.4            Appoids Tech Solutions  Android Developer   600000.0   \n",
       "\n",
       "  Salaries Reported   Location  \n",
       "0                 3  Bangalore  \n",
       "1                 3  Bangalore  \n",
       "2                 3  Bangalore  \n",
       "3                 3  Bangalore  \n",
       "4                 3  Bangalore  "
      ]
     },
     "execution_count": 3,
     "metadata": {},
     "output_type": "execute_result"
    }
   ],
   "source": [
    "df.head()"
   ]
  },
  {
   "cell_type": "markdown",
   "id": "39a453c4",
   "metadata": {},
   "source": [
    "## **<span style=\"color:#1c4587;\">Voir la queue</span>**"
   ]
  },
  {
   "cell_type": "code",
   "execution_count": 4,
   "id": "58ad22ea",
   "metadata": {},
   "outputs": [
    {
     "data": {
      "text/html": [
       "<div>\n",
       "<style scoped>\n",
       "    .dataframe tbody tr th:only-of-type {\n",
       "        vertical-align: middle;\n",
       "    }\n",
       "\n",
       "    .dataframe tbody tr th {\n",
       "        vertical-align: top;\n",
       "    }\n",
       "\n",
       "    .dataframe thead th {\n",
       "        text-align: right;\n",
       "    }\n",
       "</style>\n",
       "<table border=\"1\" class=\"dataframe\">\n",
       "  <thead>\n",
       "    <tr style=\"text-align: right;\">\n",
       "      <th></th>\n",
       "      <th>Rating</th>\n",
       "      <th>Company Name</th>\n",
       "      <th>Job Title</th>\n",
       "      <th>Salary</th>\n",
       "      <th>Salaries Reported</th>\n",
       "      <th>Location</th>\n",
       "    </tr>\n",
       "  </thead>\n",
       "  <tbody>\n",
       "    <tr>\n",
       "      <th>22778</th>\n",
       "      <td>4.1</td>\n",
       "      <td>Fresher</td>\n",
       "      <td>Full Stack Web Developer</td>\n",
       "      <td>192000.0</td>\n",
       "      <td>13</td>\n",
       "      <td>Bangalore</td>\n",
       "    </tr>\n",
       "    <tr>\n",
       "      <th>22779</th>\n",
       "      <td>4.1</td>\n",
       "      <td>Accenture</td>\n",
       "      <td>Full Stack Web Developer</td>\n",
       "      <td>300000.0</td>\n",
       "      <td>7</td>\n",
       "      <td>Bangalore</td>\n",
       "    </tr>\n",
       "    <tr>\n",
       "      <th>22780</th>\n",
       "      <td>3.8</td>\n",
       "      <td>Thomson Reuters</td>\n",
       "      <td>Associate Web Developer</td>\n",
       "      <td>300000.0</td>\n",
       "      <td>7</td>\n",
       "      <td>Bangalore</td>\n",
       "    </tr>\n",
       "  </tbody>\n",
       "</table>\n",
       "</div>"
      ],
      "text/plain": [
       "       Rating     Company Name                 Job Title    Salary  \\\n",
       "22778     4.1          Fresher  Full Stack Web Developer  192000.0   \n",
       "22779     4.1        Accenture  Full Stack Web Developer  300000.0   \n",
       "22780     3.8  Thomson Reuters   Associate Web Developer  300000.0   \n",
       "\n",
       "      Salaries Reported   Location  \n",
       "22778                13  Bangalore  \n",
       "22779                 7  Bangalore  \n",
       "22780                 7  Bangalore  "
      ]
     },
     "execution_count": 4,
     "metadata": {},
     "output_type": "execute_result"
    }
   ],
   "source": [
    "df.tail(3)"
   ]
  },
  {
   "cell_type": "markdown",
   "id": "d943383b",
   "metadata": {},
   "source": [
    "## **<span style=\"color:#1c4587;\">Voir une ligne aléatoire</span>**"
   ]
  },
  {
   "cell_type": "code",
   "execution_count": 5,
   "id": "89d9283c",
   "metadata": {},
   "outputs": [
    {
     "data": {
      "text/html": [
       "<div>\n",
       "<style scoped>\n",
       "    .dataframe tbody tr th:only-of-type {\n",
       "        vertical-align: middle;\n",
       "    }\n",
       "\n",
       "    .dataframe tbody tr th {\n",
       "        vertical-align: top;\n",
       "    }\n",
       "\n",
       "    .dataframe thead th {\n",
       "        text-align: right;\n",
       "    }\n",
       "</style>\n",
       "<table border=\"1\" class=\"dataframe\">\n",
       "  <thead>\n",
       "    <tr style=\"text-align: right;\">\n",
       "      <th></th>\n",
       "      <th>Rating</th>\n",
       "      <th>Company Name</th>\n",
       "      <th>Job Title</th>\n",
       "      <th>Salary</th>\n",
       "      <th>Salaries Reported</th>\n",
       "      <th>Location</th>\n",
       "    </tr>\n",
       "  </thead>\n",
       "  <tbody>\n",
       "    <tr>\n",
       "      <th>8050</th>\n",
       "      <td>4.0</td>\n",
       "      <td>Appster</td>\n",
       "      <td>Software Engineer (Ios Developer)</td>\n",
       "      <td>600000.0</td>\n",
       "      <td>2</td>\n",
       "      <td>New Delhi</td>\n",
       "    </tr>\n",
       "  </tbody>\n",
       "</table>\n",
       "</div>"
      ],
      "text/plain": [
       "      Rating Company Name                          Job Title    Salary  \\\n",
       "8050     4.0      Appster  Software Engineer (Ios Developer)  600000.0   \n",
       "\n",
       "     Salaries Reported   Location  \n",
       "8050                 2  New Delhi  "
      ]
     },
     "execution_count": 5,
     "metadata": {},
     "output_type": "execute_result"
    }
   ],
   "source": [
    "df.sample(1)"
   ]
  },
  {
   "cell_type": "markdown",
   "id": "925409b1",
   "metadata": {},
   "source": [
    "## **<span style=\"color:#1c4587;\">Dimension (lignes et colonnes)</span>**"
   ]
  },
  {
   "cell_type": "code",
   "execution_count": 6,
   "id": "870bfe70",
   "metadata": {},
   "outputs": [
    {
     "data": {
      "text/plain": [
       "(22781, 6)"
      ]
     },
     "execution_count": 6,
     "metadata": {},
     "output_type": "execute_result"
    }
   ],
   "source": [
    "df.shape"
   ]
  },
  {
   "cell_type": "markdown",
   "id": "2f8782fc",
   "metadata": {},
   "source": [
    "## **<span style=\"color:#1c4587;\">Longeur du dataframe</span>**"
   ]
  },
  {
   "cell_type": "code",
   "execution_count": 7,
   "id": "e4b60e69",
   "metadata": {},
   "outputs": [
    {
     "data": {
      "text/plain": [
       "22781"
      ]
     },
     "execution_count": 7,
     "metadata": {},
     "output_type": "execute_result"
    }
   ],
   "source": [
    "len(df)"
   ]
  },
  {
   "cell_type": "markdown",
   "id": "8ef64804",
   "metadata": {},
   "source": [
    "## **<span style=\"color:#1c4587;\">Types de données</span>**"
   ]
  },
  {
   "cell_type": "code",
   "execution_count": 8,
   "id": "49643309",
   "metadata": {},
   "outputs": [
    {
     "data": {
      "text/plain": [
       "Rating               float64\n",
       "Company Name          object\n",
       "Job Title             object\n",
       "Salary               float64\n",
       "Salaries Reported     object\n",
       "Location              object\n",
       "dtype: object"
      ]
     },
     "execution_count": 8,
     "metadata": {},
     "output_type": "execute_result"
    }
   ],
   "source": [
    "df.dtypes"
   ]
  },
  {
   "cell_type": "markdown",
   "id": "955c4703",
   "metadata": {},
   "source": [
    "## **<span style=\"color:#1c4587;\">Résumé</span>**"
   ]
  },
  {
   "cell_type": "code",
   "execution_count": 9,
   "id": "7cc70f08",
   "metadata": {},
   "outputs": [
    {
     "name": "stdout",
     "output_type": "stream",
     "text": [
      "<class 'pandas.core.frame.DataFrame'>\n",
      "RangeIndex: 22781 entries, 0 to 22780\n",
      "Data columns (total 6 columns):\n",
      " #   Column             Non-Null Count  Dtype  \n",
      "---  ------             --------------  -----  \n",
      " 0   Rating             22779 non-null  float64\n",
      " 1   Company Name       22779 non-null  object \n",
      " 2   Job Title          22778 non-null  object \n",
      " 3   Salary             22780 non-null  float64\n",
      " 4   Salaries Reported  22781 non-null  object \n",
      " 5   Location           22777 non-null  object \n",
      "dtypes: float64(2), object(4)\n",
      "memory usage: 1.0+ MB\n"
     ]
    }
   ],
   "source": [
    "df.info()"
   ]
  },
  {
   "cell_type": "markdown",
   "id": "a0dd888e",
   "metadata": {},
   "source": [
    "## **<span style=\"color:#1c4587;\">Liste des colones</span>**"
   ]
  },
  {
   "cell_type": "code",
   "execution_count": 10,
   "id": "3f7c880d",
   "metadata": {},
   "outputs": [
    {
     "data": {
      "text/plain": [
       "Index(['Rating', 'Company Name', 'Job Title', 'Salary', 'Salaries Reported',\n",
       "       'Location'],\n",
       "      dtype='object')"
      ]
     },
     "execution_count": 10,
     "metadata": {},
     "output_type": "execute_result"
    }
   ],
   "source": [
    "df.columns"
   ]
  },
  {
   "cell_type": "markdown",
   "id": "cea94de7",
   "metadata": {},
   "source": [
    "## **<span style=\"color:#1c4587;\">Description des données</span>**"
   ]
  },
  {
   "cell_type": "code",
   "execution_count": 11,
   "id": "d884d410",
   "metadata": {},
   "outputs": [
    {
     "data": {
      "text/html": [
       "<div>\n",
       "<style scoped>\n",
       "    .dataframe tbody tr th:only-of-type {\n",
       "        vertical-align: middle;\n",
       "    }\n",
       "\n",
       "    .dataframe tbody tr th {\n",
       "        vertical-align: top;\n",
       "    }\n",
       "\n",
       "    .dataframe thead th {\n",
       "        text-align: right;\n",
       "    }\n",
       "</style>\n",
       "<table border=\"1\" class=\"dataframe\">\n",
       "  <thead>\n",
       "    <tr style=\"text-align: right;\">\n",
       "      <th></th>\n",
       "      <th>Rating</th>\n",
       "      <th>Company Name</th>\n",
       "      <th>Job Title</th>\n",
       "      <th>Salary</th>\n",
       "      <th>Salaries Reported</th>\n",
       "      <th>Location</th>\n",
       "    </tr>\n",
       "  </thead>\n",
       "  <tbody>\n",
       "    <tr>\n",
       "      <th>count</th>\n",
       "      <td>22779.000000</td>\n",
       "      <td>22779</td>\n",
       "      <td>22778</td>\n",
       "      <td>2.278000e+04</td>\n",
       "      <td>22781</td>\n",
       "      <td>22777</td>\n",
       "    </tr>\n",
       "    <tr>\n",
       "      <th>unique</th>\n",
       "      <td>NaN</td>\n",
       "      <td>11263</td>\n",
       "      <td>1084</td>\n",
       "      <td>NaN</td>\n",
       "      <td>83</td>\n",
       "      <td>10</td>\n",
       "    </tr>\n",
       "    <tr>\n",
       "      <th>top</th>\n",
       "      <td>NaN</td>\n",
       "      <td>Tata Consultancy Services</td>\n",
       "      <td>Software Development Engineer</td>\n",
       "      <td>NaN</td>\n",
       "      <td>1</td>\n",
       "      <td>Bangalore</td>\n",
       "    </tr>\n",
       "    <tr>\n",
       "      <th>freq</th>\n",
       "      <td>NaN</td>\n",
       "      <td>271</td>\n",
       "      <td>2351</td>\n",
       "      <td>NaN</td>\n",
       "      <td>18216</td>\n",
       "      <td>8268</td>\n",
       "    </tr>\n",
       "    <tr>\n",
       "      <th>mean</th>\n",
       "      <td>3.918377</td>\n",
       "      <td>NaN</td>\n",
       "      <td>NaN</td>\n",
       "      <td>6.953204e+05</td>\n",
       "      <td>NaN</td>\n",
       "      <td>NaN</td>\n",
       "    </tr>\n",
       "    <tr>\n",
       "      <th>std</th>\n",
       "      <td>0.519694</td>\n",
       "      <td>NaN</td>\n",
       "      <td>NaN</td>\n",
       "      <td>8.842295e+05</td>\n",
       "      <td>NaN</td>\n",
       "      <td>NaN</td>\n",
       "    </tr>\n",
       "    <tr>\n",
       "      <th>min</th>\n",
       "      <td>1.000000</td>\n",
       "      <td>NaN</td>\n",
       "      <td>NaN</td>\n",
       "      <td>1.000000e+00</td>\n",
       "      <td>NaN</td>\n",
       "      <td>NaN</td>\n",
       "    </tr>\n",
       "    <tr>\n",
       "      <th>25%</th>\n",
       "      <td>3.700000</td>\n",
       "      <td>NaN</td>\n",
       "      <td>NaN</td>\n",
       "      <td>3.000000e+05</td>\n",
       "      <td>NaN</td>\n",
       "      <td>NaN</td>\n",
       "    </tr>\n",
       "    <tr>\n",
       "      <th>50%</th>\n",
       "      <td>3.900000</td>\n",
       "      <td>NaN</td>\n",
       "      <td>NaN</td>\n",
       "      <td>5.000000e+05</td>\n",
       "      <td>NaN</td>\n",
       "      <td>NaN</td>\n",
       "    </tr>\n",
       "    <tr>\n",
       "      <th>75%</th>\n",
       "      <td>4.200000</td>\n",
       "      <td>NaN</td>\n",
       "      <td>NaN</td>\n",
       "      <td>9.000000e+05</td>\n",
       "      <td>NaN</td>\n",
       "      <td>NaN</td>\n",
       "    </tr>\n",
       "    <tr>\n",
       "      <th>max</th>\n",
       "      <td>5.000000</td>\n",
       "      <td>NaN</td>\n",
       "      <td>NaN</td>\n",
       "      <td>9.000000e+07</td>\n",
       "      <td>NaN</td>\n",
       "      <td>NaN</td>\n",
       "    </tr>\n",
       "  </tbody>\n",
       "</table>\n",
       "</div>"
      ],
      "text/plain": [
       "              Rating               Company Name  \\\n",
       "count   22779.000000                      22779   \n",
       "unique           NaN                      11263   \n",
       "top              NaN  Tata Consultancy Services   \n",
       "freq             NaN                        271   \n",
       "mean        3.918377                        NaN   \n",
       "std         0.519694                        NaN   \n",
       "min         1.000000                        NaN   \n",
       "25%         3.700000                        NaN   \n",
       "50%         3.900000                        NaN   \n",
       "75%         4.200000                        NaN   \n",
       "max         5.000000                        NaN   \n",
       "\n",
       "                            Job Title        Salary Salaries Reported  \\\n",
       "count                           22778  2.278000e+04             22781   \n",
       "unique                           1084           NaN                83   \n",
       "top     Software Development Engineer           NaN                 1   \n",
       "freq                             2351           NaN             18216   \n",
       "mean                              NaN  6.953204e+05               NaN   \n",
       "std                               NaN  8.842295e+05               NaN   \n",
       "min                               NaN  1.000000e+00               NaN   \n",
       "25%                               NaN  3.000000e+05               NaN   \n",
       "50%                               NaN  5.000000e+05               NaN   \n",
       "75%                               NaN  9.000000e+05               NaN   \n",
       "max                               NaN  9.000000e+07               NaN   \n",
       "\n",
       "         Location  \n",
       "count       22777  \n",
       "unique         10  \n",
       "top     Bangalore  \n",
       "freq         8268  \n",
       "mean          NaN  \n",
       "std           NaN  \n",
       "min           NaN  \n",
       "25%           NaN  \n",
       "50%           NaN  \n",
       "75%           NaN  \n",
       "max           NaN  "
      ]
     },
     "execution_count": 11,
     "metadata": {},
     "output_type": "execute_result"
    }
   ],
   "source": [
    "df.describe(include='all')"
   ]
  },
  {
   "cell_type": "markdown",
   "id": "a6201f8f",
   "metadata": {},
   "source": [
    "## **<span style=\"color:#1c4587;\">Nombre de valeurs nulles</span>**"
   ]
  },
  {
   "cell_type": "code",
   "execution_count": 12,
   "id": "1f60efec",
   "metadata": {},
   "outputs": [
    {
     "data": {
      "text/plain": [
       "Rating               2\n",
       "Company Name         2\n",
       "Job Title            3\n",
       "Salary               1\n",
       "Salaries Reported    0\n",
       "Location             4\n",
       "dtype: int64"
      ]
     },
     "execution_count": 12,
     "metadata": {},
     "output_type": "execute_result"
    }
   ],
   "source": [
    "df.isnull().sum()"
   ]
  },
  {
   "cell_type": "markdown",
   "id": "7440c342",
   "metadata": {},
   "source": [
    "## **<span style=\"color:#1c4587;\">Nombre de valeurs dupliqués</span>**"
   ]
  },
  {
   "cell_type": "code",
   "execution_count": 13,
   "id": "54f7ee6b",
   "metadata": {},
   "outputs": [
    {
     "data": {
      "text/plain": [
       "7"
      ]
     },
     "execution_count": 13,
     "metadata": {},
     "output_type": "execute_result"
    }
   ],
   "source": [
    "df.duplicated().sum()"
   ]
  },
  {
   "cell_type": "markdown",
   "id": "83898549",
   "metadata": {},
   "source": [
    "## **<span style=\"color:#1c4587;\">Nombre de valeurs unique</span>**"
   ]
  },
  {
   "cell_type": "code",
   "execution_count": 14,
   "id": "fd9681aa",
   "metadata": {},
   "outputs": [
    {
     "data": {
      "text/plain": [
       "Rating                  41\n",
       "Company Name         11263\n",
       "Job Title             1084\n",
       "Salary                 317\n",
       "Salaries Reported       83\n",
       "Location                10\n",
       "dtype: int64"
      ]
     },
     "execution_count": 14,
     "metadata": {},
     "output_type": "execute_result"
    }
   ],
   "source": [
    "df.nunique()"
   ]
  },
  {
   "cell_type": "markdown",
   "id": "414c9e05",
   "metadata": {},
   "source": [
    "## **<span style=\"color:#1c4587;\"> Liste des valeurs unique</span>**"
   ]
  },
  {
   "cell_type": "code",
   "execution_count": 15,
   "id": "00c7f501",
   "metadata": {},
   "outputs": [
    {
     "data": {
      "text/plain": [
       "array(['Bangalore', nan, 'Chennai', 'Hyderabad', 'New Delhi', 'Pune',\n",
       "       'Jaipur', 'Kerala', 'Kolkata', 'Madhya Pradesh', 'Mumbai'],\n",
       "      dtype=object)"
      ]
     },
     "execution_count": 15,
     "metadata": {},
     "output_type": "execute_result"
    }
   ],
   "source": [
    "df.Location.unique()"
   ]
  },
  {
   "cell_type": "markdown",
   "id": "414c9e05",
   "metadata": {},
   "source": [
    "## **<span style=\"color:#1c4587;\">Afficher une ligne a partir de l'index</span>**"
   ]
  },
  {
   "cell_type": "code",
   "execution_count": 16,
   "id": "63043627",
   "metadata": {},
   "outputs": [
    {
     "data": {
      "text/plain": [
       "Rating                             4.1\n",
       "Company Name                       IBM\n",
       "Job Title            Android Developer\n",
       "Salary                        540000.0\n",
       "Salaries Reported                    2\n",
       "Location                     Bangalore\n",
       "Name: 44, dtype: object"
      ]
     },
     "execution_count": 16,
     "metadata": {},
     "output_type": "execute_result"
    }
   ],
   "source": [
    "df.iloc[44]"
   ]
  },
  {
   "cell_type": "markdown",
   "id": "414c9e05",
   "metadata": {},
   "source": [
    "## **<span style=\"color:#1c4587;\">Faire une requete</span>**"
   ]
  },
  {
   "cell_type": "code",
   "execution_count": 17,
   "id": "1259ecd4",
   "metadata": {},
   "outputs": [
    {
     "data": {
      "text/html": [
       "<div>\n",
       "<style scoped>\n",
       "    .dataframe tbody tr th:only-of-type {\n",
       "        vertical-align: middle;\n",
       "    }\n",
       "\n",
       "    .dataframe tbody tr th {\n",
       "        vertical-align: top;\n",
       "    }\n",
       "\n",
       "    .dataframe thead th {\n",
       "        text-align: right;\n",
       "    }\n",
       "</style>\n",
       "<table border=\"1\" class=\"dataframe\">\n",
       "  <thead>\n",
       "    <tr style=\"text-align: right;\">\n",
       "      <th></th>\n",
       "      <th>Rating</th>\n",
       "      <th>Company Name</th>\n",
       "      <th>Job Title</th>\n",
       "      <th>Salary</th>\n",
       "      <th>Salaries Reported</th>\n",
       "      <th>Location</th>\n",
       "    </tr>\n",
       "  </thead>\n",
       "  <tbody>\n",
       "    <tr>\n",
       "      <th>15972</th>\n",
       "      <td>3.9</td>\n",
       "      <td>Tata Consultancy Services</td>\n",
       "      <td>Software Development Engineer</td>\n",
       "      <td>500000.0</td>\n",
       "      <td>7</td>\n",
       "      <td>Kolkata</td>\n",
       "    </tr>\n",
       "    <tr>\n",
       "      <th>15973</th>\n",
       "      <td>4.2</td>\n",
       "      <td>Applied Research Works</td>\n",
       "      <td>Software Development Engineer</td>\n",
       "      <td>900000.0</td>\n",
       "      <td>6</td>\n",
       "      <td>Kolkata</td>\n",
       "    </tr>\n",
       "    <tr>\n",
       "      <th>15974</th>\n",
       "      <td>3.8</td>\n",
       "      <td>Cognizant Technology Solutions</td>\n",
       "      <td>Software Development Engineer</td>\n",
       "      <td>850000.0</td>\n",
       "      <td>4</td>\n",
       "      <td>Kolkata</td>\n",
       "    </tr>\n",
       "    <tr>\n",
       "      <th>15975</th>\n",
       "      <td>3.9</td>\n",
       "      <td>Tata Consultancy Services</td>\n",
       "      <td>Software Development Engineer - Intern</td>\n",
       "      <td>102000.0</td>\n",
       "      <td>2</td>\n",
       "      <td>Kolkata</td>\n",
       "    </tr>\n",
       "    <tr>\n",
       "      <th>15976</th>\n",
       "      <td>3.6</td>\n",
       "      <td>Tech Mahindra</td>\n",
       "      <td>Software Development Engineer</td>\n",
       "      <td>384000.0</td>\n",
       "      <td>2</td>\n",
       "      <td>Kolkata</td>\n",
       "    </tr>\n",
       "    <tr>\n",
       "      <th>...</th>\n",
       "      <td>...</td>\n",
       "      <td>...</td>\n",
       "      <td>...</td>\n",
       "      <td>...</td>\n",
       "      <td>...</td>\n",
       "      <td>...</td>\n",
       "    </tr>\n",
       "    <tr>\n",
       "      <th>16145</th>\n",
       "      <td>4.5</td>\n",
       "      <td>JUSPAY</td>\n",
       "      <td>Software Development Engineer(SDE) - Intern</td>\n",
       "      <td>480000.0</td>\n",
       "      <td>1</td>\n",
       "      <td>Kolkata</td>\n",
       "    </tr>\n",
       "    <tr>\n",
       "      <th>16146</th>\n",
       "      <td>4.4</td>\n",
       "      <td>SuperProcure</td>\n",
       "      <td>Software Development Engineer Trainee</td>\n",
       "      <td>522000.0</td>\n",
       "      <td>1</td>\n",
       "      <td>Kolkata</td>\n",
       "    </tr>\n",
       "    <tr>\n",
       "      <th>16147</th>\n",
       "      <td>3.5</td>\n",
       "      <td>LSI</td>\n",
       "      <td>Software Development Engineer Staff</td>\n",
       "      <td>2800000.0</td>\n",
       "      <td>1</td>\n",
       "      <td>Kolkata</td>\n",
       "    </tr>\n",
       "    <tr>\n",
       "      <th>16148</th>\n",
       "      <td>3.0</td>\n",
       "      <td>Softech ERP Solutions</td>\n",
       "      <td>PHP development, Full Stack Web Developer/Web ...</td>\n",
       "      <td>126000.0</td>\n",
       "      <td>1</td>\n",
       "      <td>Kolkata</td>\n",
       "    </tr>\n",
       "    <tr>\n",
       "      <th>16149</th>\n",
       "      <td>4.0</td>\n",
       "      <td>Interra Information Technologies</td>\n",
       "      <td>Associate Member of Technical Staff (Software ...</td>\n",
       "      <td>300000.0</td>\n",
       "      <td>1</td>\n",
       "      <td>Kolkata</td>\n",
       "    </tr>\n",
       "  </tbody>\n",
       "</table>\n",
       "<p>178 rows × 6 columns</p>\n",
       "</div>"
      ],
      "text/plain": [
       "       Rating                      Company Name  \\\n",
       "15972     3.9         Tata Consultancy Services   \n",
       "15973     4.2            Applied Research Works   \n",
       "15974     3.8    Cognizant Technology Solutions   \n",
       "15975     3.9         Tata Consultancy Services   \n",
       "15976     3.6                     Tech Mahindra   \n",
       "...       ...                               ...   \n",
       "16145     4.5                            JUSPAY   \n",
       "16146     4.4                      SuperProcure   \n",
       "16147     3.5                               LSI   \n",
       "16148     3.0             Softech ERP Solutions   \n",
       "16149     4.0  Interra Information Technologies   \n",
       "\n",
       "                                               Job Title     Salary  \\\n",
       "15972                      Software Development Engineer   500000.0   \n",
       "15973                      Software Development Engineer   900000.0   \n",
       "15974                      Software Development Engineer   850000.0   \n",
       "15975             Software Development Engineer - Intern   102000.0   \n",
       "15976                      Software Development Engineer   384000.0   \n",
       "...                                                  ...        ...   \n",
       "16145        Software Development Engineer(SDE) - Intern   480000.0   \n",
       "16146              Software Development Engineer Trainee   522000.0   \n",
       "16147                Software Development Engineer Staff  2800000.0   \n",
       "16148  PHP development, Full Stack Web Developer/Web ...   126000.0   \n",
       "16149  Associate Member of Technical Staff (Software ...   300000.0   \n",
       "\n",
       "      Salaries Reported Location  \n",
       "15972                 7  Kolkata  \n",
       "15973                 6  Kolkata  \n",
       "15974                 4  Kolkata  \n",
       "15975                 2  Kolkata  \n",
       "15976                 2  Kolkata  \n",
       "...                 ...      ...  \n",
       "16145                 1  Kolkata  \n",
       "16146                 1  Kolkata  \n",
       "16147                 1  Kolkata  \n",
       "16148                 1  Kolkata  \n",
       "16149                 1  Kolkata  \n",
       "\n",
       "[178 rows x 6 columns]"
      ]
     },
     "execution_count": 17,
     "metadata": {},
     "output_type": "execute_result"
    }
   ],
   "source": [
    "df.query('Location==\"Kolkata\"')"
   ]
  },
  {
   "cell_type": "markdown",
   "id": "35e0dbbe",
   "metadata": {},
   "source": [
    "# **<center><span style=\"color:#01c9e0;\">Nettoyer les données </span></center>**"
   ]
  },
  {
   "cell_type": "markdown",
   "id": "414c9e05",
   "metadata": {},
   "source": [
    "## **<span style=\"color:#1c4587;\">Copier un dataframe</span>**"
   ]
  },
  {
   "cell_type": "code",
   "execution_count": 18,
   "id": "cdfb630e",
   "metadata": {},
   "outputs": [
    {
     "data": {
      "text/html": [
       "<div>\n",
       "<style scoped>\n",
       "    .dataframe tbody tr th:only-of-type {\n",
       "        vertical-align: middle;\n",
       "    }\n",
       "\n",
       "    .dataframe tbody tr th {\n",
       "        vertical-align: top;\n",
       "    }\n",
       "\n",
       "    .dataframe thead th {\n",
       "        text-align: right;\n",
       "    }\n",
       "</style>\n",
       "<table border=\"1\" class=\"dataframe\">\n",
       "  <thead>\n",
       "    <tr style=\"text-align: right;\">\n",
       "      <th></th>\n",
       "      <th>Rating</th>\n",
       "      <th>Company Name</th>\n",
       "      <th>Job Title</th>\n",
       "      <th>Salary</th>\n",
       "      <th>Salaries Reported</th>\n",
       "      <th>Location</th>\n",
       "    </tr>\n",
       "  </thead>\n",
       "  <tbody>\n",
       "    <tr>\n",
       "      <th>0</th>\n",
       "      <td>7.6</td>\n",
       "      <td>SaskenSasken</td>\n",
       "      <td>Android DeveloperAndroid Developer</td>\n",
       "      <td>800000.0</td>\n",
       "      <td>33</td>\n",
       "      <td>BangaloreBangalore</td>\n",
       "    </tr>\n",
       "    <tr>\n",
       "      <th>1</th>\n",
       "      <td>9.0</td>\n",
       "      <td>Advanced Millennium TechnologiesAdvanced Mille...</td>\n",
       "      <td>Android DeveloperAndroid Developer</td>\n",
       "      <td>800000.0</td>\n",
       "      <td>33</td>\n",
       "      <td>BangaloreBangalore</td>\n",
       "    </tr>\n",
       "    <tr>\n",
       "      <th>2</th>\n",
       "      <td>8.0</td>\n",
       "      <td>UnacademyUnacademy</td>\n",
       "      <td>Android DeveloperAndroid Developer</td>\n",
       "      <td>2000000.0</td>\n",
       "      <td>33</td>\n",
       "      <td>BangaloreBangalore</td>\n",
       "    </tr>\n",
       "    <tr>\n",
       "      <th>3</th>\n",
       "      <td>7.6</td>\n",
       "      <td>SnapBizz CloudtechSnapBizz Cloudtech</td>\n",
       "      <td>Android DeveloperAndroid Developer</td>\n",
       "      <td>600000.0</td>\n",
       "      <td>33</td>\n",
       "      <td>BangaloreBangalore</td>\n",
       "    </tr>\n",
       "    <tr>\n",
       "      <th>4</th>\n",
       "      <td>8.8</td>\n",
       "      <td>Appoids Tech SolutionsAppoids Tech Solutions</td>\n",
       "      <td>Android DeveloperAndroid Developer</td>\n",
       "      <td>1200000.0</td>\n",
       "      <td>33</td>\n",
       "      <td>BangaloreBangalore</td>\n",
       "    </tr>\n",
       "  </tbody>\n",
       "</table>\n",
       "</div>"
      ],
      "text/plain": [
       "   Rating                                       Company Name  \\\n",
       "0     7.6                                       SaskenSasken   \n",
       "1     9.0  Advanced Millennium TechnologiesAdvanced Mille...   \n",
       "2     8.0                                 UnacademyUnacademy   \n",
       "3     7.6               SnapBizz CloudtechSnapBizz Cloudtech   \n",
       "4     8.8       Appoids Tech SolutionsAppoids Tech Solutions   \n",
       "\n",
       "                            Job Title     Salary Salaries Reported  \\\n",
       "0  Android DeveloperAndroid Developer   800000.0                33   \n",
       "1  Android DeveloperAndroid Developer   800000.0                33   \n",
       "2  Android DeveloperAndroid Developer  2000000.0                33   \n",
       "3  Android DeveloperAndroid Developer   600000.0                33   \n",
       "4  Android DeveloperAndroid Developer  1200000.0                33   \n",
       "\n",
       "             Location  \n",
       "0  BangaloreBangalore  \n",
       "1  BangaloreBangalore  \n",
       "2  BangaloreBangalore  \n",
       "3  BangaloreBangalore  \n",
       "4  BangaloreBangalore  "
      ]
     },
     "execution_count": 18,
     "metadata": {},
     "output_type": "execute_result"
    }
   ],
   "source": [
    "df2 = df.copy()*2\n",
    "df3 = df.copy()\n",
    "df2.head()"
   ]
  },
  {
   "cell_type": "markdown",
   "id": "414c9e05",
   "metadata": {},
   "source": [
    "## **<span style=\"color:#1c4587;\">Supprimer une ligne à partir de l'index</span>**"
   ]
  },
  {
   "cell_type": "code",
   "execution_count": 19,
   "id": "e982acb1",
   "metadata": {},
   "outputs": [
    {
     "data": {
      "text/html": [
       "<div>\n",
       "<style scoped>\n",
       "    .dataframe tbody tr th:only-of-type {\n",
       "        vertical-align: middle;\n",
       "    }\n",
       "\n",
       "    .dataframe tbody tr th {\n",
       "        vertical-align: top;\n",
       "    }\n",
       "\n",
       "    .dataframe thead th {\n",
       "        text-align: right;\n",
       "    }\n",
       "</style>\n",
       "<table border=\"1\" class=\"dataframe\">\n",
       "  <thead>\n",
       "    <tr style=\"text-align: right;\">\n",
       "      <th></th>\n",
       "      <th>Rating</th>\n",
       "      <th>Company Name</th>\n",
       "      <th>Job Title</th>\n",
       "      <th>Salary</th>\n",
       "      <th>Salaries Reported</th>\n",
       "      <th>Location</th>\n",
       "    </tr>\n",
       "  </thead>\n",
       "  <tbody>\n",
       "    <tr>\n",
       "      <th>0</th>\n",
       "      <td>7.6</td>\n",
       "      <td>SaskenSasken</td>\n",
       "      <td>Android DeveloperAndroid Developer</td>\n",
       "      <td>800000.0</td>\n",
       "      <td>33</td>\n",
       "      <td>BangaloreBangalore</td>\n",
       "    </tr>\n",
       "    <tr>\n",
       "      <th>1</th>\n",
       "      <td>9.0</td>\n",
       "      <td>Advanced Millennium TechnologiesAdvanced Mille...</td>\n",
       "      <td>Android DeveloperAndroid Developer</td>\n",
       "      <td>800000.0</td>\n",
       "      <td>33</td>\n",
       "      <td>BangaloreBangalore</td>\n",
       "    </tr>\n",
       "    <tr>\n",
       "      <th>3</th>\n",
       "      <td>7.6</td>\n",
       "      <td>SnapBizz CloudtechSnapBizz Cloudtech</td>\n",
       "      <td>Android DeveloperAndroid Developer</td>\n",
       "      <td>600000.0</td>\n",
       "      <td>33</td>\n",
       "      <td>BangaloreBangalore</td>\n",
       "    </tr>\n",
       "    <tr>\n",
       "      <th>4</th>\n",
       "      <td>8.8</td>\n",
       "      <td>Appoids Tech SolutionsAppoids Tech Solutions</td>\n",
       "      <td>Android DeveloperAndroid Developer</td>\n",
       "      <td>1200000.0</td>\n",
       "      <td>33</td>\n",
       "      <td>BangaloreBangalore</td>\n",
       "    </tr>\n",
       "    <tr>\n",
       "      <th>5</th>\n",
       "      <td>8.4</td>\n",
       "      <td>FreelancerFreelancer</td>\n",
       "      <td>Android DeveloperAndroid Developer</td>\n",
       "      <td>200000.0</td>\n",
       "      <td>33</td>\n",
       "      <td>BangaloreBangalore</td>\n",
       "    </tr>\n",
       "  </tbody>\n",
       "</table>\n",
       "</div>"
      ],
      "text/plain": [
       "   Rating                                       Company Name  \\\n",
       "0     7.6                                       SaskenSasken   \n",
       "1     9.0  Advanced Millennium TechnologiesAdvanced Mille...   \n",
       "3     7.6               SnapBizz CloudtechSnapBizz Cloudtech   \n",
       "4     8.8       Appoids Tech SolutionsAppoids Tech Solutions   \n",
       "5     8.4                               FreelancerFreelancer   \n",
       "\n",
       "                            Job Title     Salary Salaries Reported  \\\n",
       "0  Android DeveloperAndroid Developer   800000.0                33   \n",
       "1  Android DeveloperAndroid Developer   800000.0                33   \n",
       "3  Android DeveloperAndroid Developer   600000.0                33   \n",
       "4  Android DeveloperAndroid Developer  1200000.0                33   \n",
       "5  Android DeveloperAndroid Developer   200000.0                33   \n",
       "\n",
       "             Location  \n",
       "0  BangaloreBangalore  \n",
       "1  BangaloreBangalore  \n",
       "3  BangaloreBangalore  \n",
       "4  BangaloreBangalore  \n",
       "5  BangaloreBangalore  "
      ]
     },
     "execution_count": 19,
     "metadata": {},
     "output_type": "execute_result"
    }
   ],
   "source": [
    "df2.drop(2, inplace=True)\n",
    "df2.head()"
   ]
  },
  {
   "cell_type": "markdown",
   "id": "414c9e05",
   "metadata": {},
   "source": [
    "## **<span style=\"color:#1c4587;\">Supprimer une colonnes</span>**"
   ]
  },
  {
   "cell_type": "code",
   "execution_count": 20,
   "id": "ecf861c1",
   "metadata": {},
   "outputs": [
    {
     "data": {
      "text/html": [
       "<div>\n",
       "<style scoped>\n",
       "    .dataframe tbody tr th:only-of-type {\n",
       "        vertical-align: middle;\n",
       "    }\n",
       "\n",
       "    .dataframe tbody tr th {\n",
       "        vertical-align: top;\n",
       "    }\n",
       "\n",
       "    .dataframe thead th {\n",
       "        text-align: right;\n",
       "    }\n",
       "</style>\n",
       "<table border=\"1\" class=\"dataframe\">\n",
       "  <thead>\n",
       "    <tr style=\"text-align: right;\">\n",
       "      <th></th>\n",
       "      <th>Rating</th>\n",
       "      <th>Company Name</th>\n",
       "      <th>Job Title</th>\n",
       "      <th>Salaries Reported</th>\n",
       "      <th>Location</th>\n",
       "    </tr>\n",
       "  </thead>\n",
       "  <tbody>\n",
       "    <tr>\n",
       "      <th>0</th>\n",
       "      <td>7.6</td>\n",
       "      <td>SaskenSasken</td>\n",
       "      <td>Android DeveloperAndroid Developer</td>\n",
       "      <td>33</td>\n",
       "      <td>BangaloreBangalore</td>\n",
       "    </tr>\n",
       "    <tr>\n",
       "      <th>1</th>\n",
       "      <td>9.0</td>\n",
       "      <td>Advanced Millennium TechnologiesAdvanced Mille...</td>\n",
       "      <td>Android DeveloperAndroid Developer</td>\n",
       "      <td>33</td>\n",
       "      <td>BangaloreBangalore</td>\n",
       "    </tr>\n",
       "    <tr>\n",
       "      <th>3</th>\n",
       "      <td>7.6</td>\n",
       "      <td>SnapBizz CloudtechSnapBizz Cloudtech</td>\n",
       "      <td>Android DeveloperAndroid Developer</td>\n",
       "      <td>33</td>\n",
       "      <td>BangaloreBangalore</td>\n",
       "    </tr>\n",
       "    <tr>\n",
       "      <th>4</th>\n",
       "      <td>8.8</td>\n",
       "      <td>Appoids Tech SolutionsAppoids Tech Solutions</td>\n",
       "      <td>Android DeveloperAndroid Developer</td>\n",
       "      <td>33</td>\n",
       "      <td>BangaloreBangalore</td>\n",
       "    </tr>\n",
       "    <tr>\n",
       "      <th>5</th>\n",
       "      <td>8.4</td>\n",
       "      <td>FreelancerFreelancer</td>\n",
       "      <td>Android DeveloperAndroid Developer</td>\n",
       "      <td>33</td>\n",
       "      <td>BangaloreBangalore</td>\n",
       "    </tr>\n",
       "  </tbody>\n",
       "</table>\n",
       "</div>"
      ],
      "text/plain": [
       "   Rating                                       Company Name  \\\n",
       "0     7.6                                       SaskenSasken   \n",
       "1     9.0  Advanced Millennium TechnologiesAdvanced Mille...   \n",
       "3     7.6               SnapBizz CloudtechSnapBizz Cloudtech   \n",
       "4     8.8       Appoids Tech SolutionsAppoids Tech Solutions   \n",
       "5     8.4                               FreelancerFreelancer   \n",
       "\n",
       "                            Job Title Salaries Reported            Location  \n",
       "0  Android DeveloperAndroid Developer                33  BangaloreBangalore  \n",
       "1  Android DeveloperAndroid Developer                33  BangaloreBangalore  \n",
       "3  Android DeveloperAndroid Developer                33  BangaloreBangalore  \n",
       "4  Android DeveloperAndroid Developer                33  BangaloreBangalore  \n",
       "5  Android DeveloperAndroid Developer                33  BangaloreBangalore  "
      ]
     },
     "execution_count": 20,
     "metadata": {},
     "output_type": "execute_result"
    }
   ],
   "source": [
    "df2.drop('Salary', axis=1,inplace=True)\n",
    "df2.head()"
   ]
  },
  {
   "cell_type": "markdown",
   "id": "414c9e05",
   "metadata": {},
   "source": [
    "## **<span style=\"color:#1c4587;\">Supprimer plusieurs colonnes</span>**"
   ]
  },
  {
   "cell_type": "code",
   "execution_count": 21,
   "id": "fbc1136d",
   "metadata": {},
   "outputs": [
    {
     "data": {
      "text/html": [
       "<div>\n",
       "<style scoped>\n",
       "    .dataframe tbody tr th:only-of-type {\n",
       "        vertical-align: middle;\n",
       "    }\n",
       "\n",
       "    .dataframe tbody tr th {\n",
       "        vertical-align: top;\n",
       "    }\n",
       "\n",
       "    .dataframe thead th {\n",
       "        text-align: right;\n",
       "    }\n",
       "</style>\n",
       "<table border=\"1\" class=\"dataframe\">\n",
       "  <thead>\n",
       "    <tr style=\"text-align: right;\">\n",
       "      <th></th>\n",
       "      <th>Company Name</th>\n",
       "      <th>Job Title</th>\n",
       "      <th>Salaries Reported</th>\n",
       "    </tr>\n",
       "  </thead>\n",
       "  <tbody>\n",
       "    <tr>\n",
       "      <th>0</th>\n",
       "      <td>SaskenSasken</td>\n",
       "      <td>Android DeveloperAndroid Developer</td>\n",
       "      <td>33</td>\n",
       "    </tr>\n",
       "    <tr>\n",
       "      <th>1</th>\n",
       "      <td>Advanced Millennium TechnologiesAdvanced Mille...</td>\n",
       "      <td>Android DeveloperAndroid Developer</td>\n",
       "      <td>33</td>\n",
       "    </tr>\n",
       "    <tr>\n",
       "      <th>3</th>\n",
       "      <td>SnapBizz CloudtechSnapBizz Cloudtech</td>\n",
       "      <td>Android DeveloperAndroid Developer</td>\n",
       "      <td>33</td>\n",
       "    </tr>\n",
       "    <tr>\n",
       "      <th>4</th>\n",
       "      <td>Appoids Tech SolutionsAppoids Tech Solutions</td>\n",
       "      <td>Android DeveloperAndroid Developer</td>\n",
       "      <td>33</td>\n",
       "    </tr>\n",
       "    <tr>\n",
       "      <th>5</th>\n",
       "      <td>FreelancerFreelancer</td>\n",
       "      <td>Android DeveloperAndroid Developer</td>\n",
       "      <td>33</td>\n",
       "    </tr>\n",
       "  </tbody>\n",
       "</table>\n",
       "</div>"
      ],
      "text/plain": [
       "                                        Company Name  \\\n",
       "0                                       SaskenSasken   \n",
       "1  Advanced Millennium TechnologiesAdvanced Mille...   \n",
       "3               SnapBizz CloudtechSnapBizz Cloudtech   \n",
       "4       Appoids Tech SolutionsAppoids Tech Solutions   \n",
       "5                               FreelancerFreelancer   \n",
       "\n",
       "                            Job Title Salaries Reported  \n",
       "0  Android DeveloperAndroid Developer                33  \n",
       "1  Android DeveloperAndroid Developer                33  \n",
       "3  Android DeveloperAndroid Developer                33  \n",
       "4  Android DeveloperAndroid Developer                33  \n",
       "5  Android DeveloperAndroid Developer                33  "
      ]
     },
     "execution_count": 21,
     "metadata": {},
     "output_type": "execute_result"
    }
   ],
   "source": [
    "df2.drop(['Rating','Location',],axis=1,inplace=True)\n",
    "df2.head()"
   ]
  },
  {
   "cell_type": "markdown",
   "id": "414c9e05",
   "metadata": {},
   "source": [
    "## **<span style=\"color:#1c4587;\">Supprimer ou remplir valeurs nulles</span>**"
   ]
  },
  {
   "cell_type": "code",
   "execution_count": 22,
   "id": "6e51a9c0",
   "metadata": {},
   "outputs": [
    {
     "data": {
      "text/plain": [
       "0"
      ]
     },
     "execution_count": 22,
     "metadata": {},
     "output_type": "execute_result"
    }
   ],
   "source": [
    "df.dropna(inplace=True) \n",
    "#df.fillna(value = 0, inplace=True)\n",
    "df.isnull().sum().sum()"
   ]
  },
  {
   "cell_type": "markdown",
   "id": "414c9e05",
   "metadata": {},
   "source": [
    "## **<span style=\"color:#1c4587;\">Supprimer valeurs dupliquer</span>**"
   ]
  },
  {
   "cell_type": "code",
   "execution_count": 23,
   "id": "f531e003",
   "metadata": {},
   "outputs": [
    {
     "data": {
      "text/plain": [
       "0"
      ]
     },
     "execution_count": 23,
     "metadata": {},
     "output_type": "execute_result"
    }
   ],
   "source": [
    "df.drop_duplicates(inplace=True)\n",
    "df.duplicated().sum()"
   ]
  },
  {
   "cell_type": "markdown",
   "id": "414c9e05",
   "metadata": {},
   "source": [
    "## **<span style=\"color:#1c4587;\">Réorganiser les colones</span>**"
   ]
  },
  {
   "cell_type": "code",
   "execution_count": 24,
   "id": "be1504b8",
   "metadata": {},
   "outputs": [
    {
     "data": {
      "text/html": [
       "<div>\n",
       "<style scoped>\n",
       "    .dataframe tbody tr th:only-of-type {\n",
       "        vertical-align: middle;\n",
       "    }\n",
       "\n",
       "    .dataframe tbody tr th {\n",
       "        vertical-align: top;\n",
       "    }\n",
       "\n",
       "    .dataframe thead th {\n",
       "        text-align: right;\n",
       "    }\n",
       "</style>\n",
       "<table border=\"1\" class=\"dataframe\">\n",
       "  <thead>\n",
       "    <tr style=\"text-align: right;\">\n",
       "      <th></th>\n",
       "      <th>Salaries Reported</th>\n",
       "      <th>Company Name</th>\n",
       "      <th>Job Title</th>\n",
       "    </tr>\n",
       "  </thead>\n",
       "  <tbody>\n",
       "    <tr>\n",
       "      <th>0</th>\n",
       "      <td>3</td>\n",
       "      <td>Sasken</td>\n",
       "      <td>Android Developer</td>\n",
       "    </tr>\n",
       "    <tr>\n",
       "      <th>1</th>\n",
       "      <td>3</td>\n",
       "      <td>Advanced Millennium Technologies</td>\n",
       "      <td>Android Developer</td>\n",
       "    </tr>\n",
       "    <tr>\n",
       "      <th>2</th>\n",
       "      <td>3</td>\n",
       "      <td>Unacademy</td>\n",
       "      <td>Android Developer</td>\n",
       "    </tr>\n",
       "    <tr>\n",
       "      <th>3</th>\n",
       "      <td>3</td>\n",
       "      <td>SnapBizz Cloudtech</td>\n",
       "      <td>Android Developer</td>\n",
       "    </tr>\n",
       "    <tr>\n",
       "      <th>4</th>\n",
       "      <td>3</td>\n",
       "      <td>Appoids Tech Solutions</td>\n",
       "      <td>Android Developer</td>\n",
       "    </tr>\n",
       "  </tbody>\n",
       "</table>\n",
       "</div>"
      ],
      "text/plain": [
       "  Salaries Reported                      Company Name          Job Title\n",
       "0                 3                            Sasken  Android Developer\n",
       "1                 3  Advanced Millennium Technologies  Android Developer\n",
       "2                 3                         Unacademy  Android Developer\n",
       "3                 3                SnapBizz Cloudtech  Android Developer\n",
       "4                 3            Appoids Tech Solutions  Android Developer"
      ]
     },
     "execution_count": 24,
     "metadata": {},
     "output_type": "execute_result"
    }
   ],
   "source": [
    "df = df[['Salaries Reported', 'Company Name', 'Job Title']]\n",
    "df.head()"
   ]
  },
  {
   "cell_type": "markdown",
   "id": "414c9e05",
   "metadata": {},
   "source": [
    "## **<span style=\"color:#1c4587;\"> Convertir une var en string </span>**"
   ]
  },
  {
   "cell_type": "code",
   "execution_count": 25,
   "id": "01f3c238",
   "metadata": {},
   "outputs": [
    {
     "data": {
      "text/plain": [
       "dtype('O')"
      ]
     },
     "execution_count": 25,
     "metadata": {},
     "output_type": "execute_result"
    }
   ],
   "source": [
    "df['Salaries Reported'].to_string()\n",
    "df['Salaries Reported'].dtypes## **<span style=\"color:#1c4587;\">Seaborn</span>**"
   ]
  },
  {
   "cell_type": "markdown",
   "id": "414c9e05",
   "metadata": {},
   "source": [
    "## **<span style=\"color:#1c4587;\">Fusioner deux datasets</span>**"
   ]
  },
  {
   "cell_type": "code",
   "execution_count": 26,
   "id": "c3cd446a",
   "metadata": {},
   "outputs": [
    {
     "data": {
      "text/html": [
       "<div>\n",
       "<style scoped>\n",
       "    .dataframe tbody tr th:only-of-type {\n",
       "        vertical-align: middle;\n",
       "    }\n",
       "\n",
       "    .dataframe tbody tr th {\n",
       "        vertical-align: top;\n",
       "    }\n",
       "\n",
       "    .dataframe thead th {\n",
       "        text-align: right;\n",
       "    }\n",
       "</style>\n",
       "<table border=\"1\" class=\"dataframe\">\n",
       "  <thead>\n",
       "    <tr style=\"text-align: right;\">\n",
       "      <th></th>\n",
       "      <th>Company Name_x</th>\n",
       "      <th>Job Title</th>\n",
       "      <th>Salaries Reported_x</th>\n",
       "      <th>Rating</th>\n",
       "      <th>Company Name_y</th>\n",
       "      <th>Salary</th>\n",
       "      <th>Salaries Reported_y</th>\n",
       "      <th>Location</th>\n",
       "    </tr>\n",
       "  </thead>\n",
       "  <tbody>\n",
       "    <tr>\n",
       "      <th>0</th>\n",
       "      <td>DcoderDcoder</td>\n",
       "      <td>NaN</td>\n",
       "      <td>22</td>\n",
       "      <td>4.2</td>\n",
       "      <td>Dcoder</td>\n",
       "      <td>700000.0</td>\n",
       "      <td>2</td>\n",
       "      <td>Bangalore</td>\n",
       "    </tr>\n",
       "    <tr>\n",
       "      <th>1</th>\n",
       "      <td>DcoderDcoder</td>\n",
       "      <td>NaN</td>\n",
       "      <td>22</td>\n",
       "      <td>3.4</td>\n",
       "      <td>Vensure Employer Services</td>\n",
       "      <td>732000.0</td>\n",
       "      <td>1</td>\n",
       "      <td>Bangalore</td>\n",
       "    </tr>\n",
       "    <tr>\n",
       "      <th>2</th>\n",
       "      <td>DcoderDcoder</td>\n",
       "      <td>NaN</td>\n",
       "      <td>22</td>\n",
       "      <td>4.6</td>\n",
       "      <td>Android Developer - Intern</td>\n",
       "      <td>1.0</td>\n",
       "      <td>Bangalore</td>\n",
       "      <td>NaN</td>\n",
       "    </tr>\n",
       "    <tr>\n",
       "      <th>3</th>\n",
       "      <td>Vensure Employer ServicesVensure Employer Serv...</td>\n",
       "      <td>NaN</td>\n",
       "      <td>11</td>\n",
       "      <td>4.2</td>\n",
       "      <td>Dcoder</td>\n",
       "      <td>700000.0</td>\n",
       "      <td>2</td>\n",
       "      <td>Bangalore</td>\n",
       "    </tr>\n",
       "    <tr>\n",
       "      <th>4</th>\n",
       "      <td>Vensure Employer ServicesVensure Employer Serv...</td>\n",
       "      <td>NaN</td>\n",
       "      <td>11</td>\n",
       "      <td>3.4</td>\n",
       "      <td>Vensure Employer Services</td>\n",
       "      <td>732000.0</td>\n",
       "      <td>1</td>\n",
       "      <td>Bangalore</td>\n",
       "    </tr>\n",
       "  </tbody>\n",
       "</table>\n",
       "</div>"
      ],
      "text/plain": [
       "                                      Company Name_x Job Title  \\\n",
       "0                                       DcoderDcoder       NaN   \n",
       "1                                       DcoderDcoder       NaN   \n",
       "2                                       DcoderDcoder       NaN   \n",
       "3  Vensure Employer ServicesVensure Employer Serv...       NaN   \n",
       "4  Vensure Employer ServicesVensure Employer Serv...       NaN   \n",
       "\n",
       "  Salaries Reported_x  Rating              Company Name_y    Salary  \\\n",
       "0                  22     4.2                      Dcoder  700000.0   \n",
       "1                  22     3.4   Vensure Employer Services  732000.0   \n",
       "2                  22     4.6  Android Developer - Intern       1.0   \n",
       "3                  11     4.2                      Dcoder  700000.0   \n",
       "4                  11     3.4   Vensure Employer Services  732000.0   \n",
       "\n",
       "  Salaries Reported_y   Location  \n",
       "0                   2  Bangalore  \n",
       "1                   1  Bangalore  \n",
       "2           Bangalore        NaN  \n",
       "3                   2  Bangalore  \n",
       "4                   1  Bangalore  "
      ]
     },
     "execution_count": 26,
     "metadata": {},
     "output_type": "execute_result"
    }
   ],
   "source": [
    "df4 = df2.merge(df3, how='inner', on= 'Job Title' )\n",
    "df4.head()"
   ]
  },
  {
   "cell_type": "markdown",
   "id": "414c9e05",
   "metadata": {},
   "source": [
    "## **<span style=\"color:#1c4587;\">Renomer une colonne</span>**"
   ]
  },
  {
   "cell_type": "code",
   "execution_count": 27,
   "id": "b88477e1",
   "metadata": {},
   "outputs": [
    {
     "data": {
      "text/html": [
       "<div>\n",
       "<style scoped>\n",
       "    .dataframe tbody tr th:only-of-type {\n",
       "        vertical-align: middle;\n",
       "    }\n",
       "\n",
       "    .dataframe tbody tr th {\n",
       "        vertical-align: top;\n",
       "    }\n",
       "\n",
       "    .dataframe thead th {\n",
       "        text-align: right;\n",
       "    }\n",
       "</style>\n",
       "<table border=\"1\" class=\"dataframe\">\n",
       "  <thead>\n",
       "    <tr style=\"text-align: right;\">\n",
       "      <th></th>\n",
       "      <th>Entreprise</th>\n",
       "      <th>Job Title</th>\n",
       "      <th>Salaries Reported</th>\n",
       "    </tr>\n",
       "  </thead>\n",
       "  <tbody>\n",
       "    <tr>\n",
       "      <th>0</th>\n",
       "      <td>SaskenSasken</td>\n",
       "      <td>Android DeveloperAndroid Developer</td>\n",
       "      <td>33</td>\n",
       "    </tr>\n",
       "    <tr>\n",
       "      <th>1</th>\n",
       "      <td>Advanced Millennium TechnologiesAdvanced Mille...</td>\n",
       "      <td>Android DeveloperAndroid Developer</td>\n",
       "      <td>33</td>\n",
       "    </tr>\n",
       "    <tr>\n",
       "      <th>3</th>\n",
       "      <td>SnapBizz CloudtechSnapBizz Cloudtech</td>\n",
       "      <td>Android DeveloperAndroid Developer</td>\n",
       "      <td>33</td>\n",
       "    </tr>\n",
       "    <tr>\n",
       "      <th>4</th>\n",
       "      <td>Appoids Tech SolutionsAppoids Tech Solutions</td>\n",
       "      <td>Android DeveloperAndroid Developer</td>\n",
       "      <td>33</td>\n",
       "    </tr>\n",
       "    <tr>\n",
       "      <th>5</th>\n",
       "      <td>FreelancerFreelancer</td>\n",
       "      <td>Android DeveloperAndroid Developer</td>\n",
       "      <td>33</td>\n",
       "    </tr>\n",
       "  </tbody>\n",
       "</table>\n",
       "</div>"
      ],
      "text/plain": [
       "                                          Entreprise  \\\n",
       "0                                       SaskenSasken   \n",
       "1  Advanced Millennium TechnologiesAdvanced Mille...   \n",
       "3               SnapBizz CloudtechSnapBizz Cloudtech   \n",
       "4       Appoids Tech SolutionsAppoids Tech Solutions   \n",
       "5                               FreelancerFreelancer   \n",
       "\n",
       "                            Job Title Salaries Reported  \n",
       "0  Android DeveloperAndroid Developer                33  \n",
       "1  Android DeveloperAndroid Developer                33  \n",
       "3  Android DeveloperAndroid Developer                33  \n",
       "4  Android DeveloperAndroid Developer                33  \n",
       "5  Android DeveloperAndroid Developer                33  "
      ]
     },
     "execution_count": 27,
     "metadata": {},
     "output_type": "execute_result"
    }
   ],
   "source": [
    "df2 =df2.rename(columns = {'Company Name' : 'Entreprise'})\n",
    "df2.head()"
   ]
  },
  {
   "cell_type": "code",
   "execution_count": null,
   "id": "c9ca2426",
   "metadata": {},
   "outputs": [],
   "source": []
  },
  {
   "cell_type": "code",
   "execution_count": null,
   "id": "4f2a743b",
   "metadata": {},
   "outputs": [],
   "source": []
  },
  {
   "cell_type": "code",
   "execution_count": null,
   "id": "3706f7cc",
   "metadata": {},
   "outputs": [],
   "source": []
  },
  {
   "cell_type": "markdown",
   "id": "5752d771",
   "metadata": {},
   "source": [
    "# **<center><span style=\"color:#01c9e0;\">🚀 LES GRAPHIQUES  🚀   </span></center>**\n",
    "## <center>Pour plus d'informations contctez moi sur Slack 👍</center>"
   ]
  },
  {
   "cell_type": "code",
   "execution_count": 28,
   "id": "a38af919",
   "metadata": {},
   "outputs": [],
   "source": [
    "import numpy as np\n",
    "import pandas as pd\n",
    "import matplotlib.pyplot as plt\n",
    "import seaborn as sns\n",
    "import warnings\n",
    "import scipy.stats as stats\n",
    "warnings.filterwarnings('ignore')"
   ]
  },
  {
   "cell_type": "code",
   "execution_count": 29,
   "id": "6b593195",
   "metadata": {},
   "outputs": [],
   "source": [
    "colors = sns.color_palette('pastel')[0:5]"
   ]
  },
  {
   "cell_type": "code",
   "execution_count": 30,
   "id": "5d0c1ce4",
   "metadata": {},
   "outputs": [],
   "source": [
    "data = pd.read_csv('Software_Professional_Salaries.csv')\n",
    "df = data.copy()"
   ]
  },
  {
   "cell_type": "code",
   "execution_count": 31,
   "id": "1174d1b5",
   "metadata": {},
   "outputs": [
    {
     "data": {
      "text/html": [
       "<div>\n",
       "<style scoped>\n",
       "    .dataframe tbody tr th:only-of-type {\n",
       "        vertical-align: middle;\n",
       "    }\n",
       "\n",
       "    .dataframe tbody tr th {\n",
       "        vertical-align: top;\n",
       "    }\n",
       "\n",
       "    .dataframe thead th {\n",
       "        text-align: right;\n",
       "    }\n",
       "</style>\n",
       "<table border=\"1\" class=\"dataframe\">\n",
       "  <thead>\n",
       "    <tr style=\"text-align: right;\">\n",
       "      <th></th>\n",
       "      <th>Rating</th>\n",
       "      <th>Company Name</th>\n",
       "      <th>Job Title</th>\n",
       "      <th>Salary</th>\n",
       "      <th>Salaries Reported</th>\n",
       "      <th>Location</th>\n",
       "    </tr>\n",
       "  </thead>\n",
       "  <tbody>\n",
       "    <tr>\n",
       "      <th>0</th>\n",
       "      <td>3.8</td>\n",
       "      <td>Sasken</td>\n",
       "      <td>Android Developer</td>\n",
       "      <td>400000</td>\n",
       "      <td>3</td>\n",
       "      <td>Bangalore</td>\n",
       "    </tr>\n",
       "    <tr>\n",
       "      <th>1</th>\n",
       "      <td>4.5</td>\n",
       "      <td>Advanced Millennium Technologies</td>\n",
       "      <td>Android Developer</td>\n",
       "      <td>400000</td>\n",
       "      <td>3</td>\n",
       "      <td>Bangalore</td>\n",
       "    </tr>\n",
       "    <tr>\n",
       "      <th>2</th>\n",
       "      <td>4.0</td>\n",
       "      <td>Unacademy</td>\n",
       "      <td>Android Developer</td>\n",
       "      <td>1000000</td>\n",
       "      <td>3</td>\n",
       "      <td>Bangalore</td>\n",
       "    </tr>\n",
       "    <tr>\n",
       "      <th>3</th>\n",
       "      <td>3.8</td>\n",
       "      <td>SnapBizz Cloudtech</td>\n",
       "      <td>Android Developer</td>\n",
       "      <td>300000</td>\n",
       "      <td>3</td>\n",
       "      <td>Bangalore</td>\n",
       "    </tr>\n",
       "    <tr>\n",
       "      <th>4</th>\n",
       "      <td>4.4</td>\n",
       "      <td>Appoids Tech Solutions</td>\n",
       "      <td>Android Developer</td>\n",
       "      <td>600000</td>\n",
       "      <td>3</td>\n",
       "      <td>Bangalore</td>\n",
       "    </tr>\n",
       "  </tbody>\n",
       "</table>\n",
       "</div>"
      ],
      "text/plain": [
       "   Rating                      Company Name          Job Title   Salary  \\\n",
       "0     3.8                            Sasken  Android Developer   400000   \n",
       "1     4.5  Advanced Millennium Technologies  Android Developer   400000   \n",
       "2     4.0                         Unacademy  Android Developer  1000000   \n",
       "3     3.8                SnapBizz Cloudtech  Android Developer   300000   \n",
       "4     4.4            Appoids Tech Solutions  Android Developer   600000   \n",
       "\n",
       "   Salaries Reported   Location  \n",
       "0                  3  Bangalore  \n",
       "1                  3  Bangalore  \n",
       "2                  3  Bangalore  \n",
       "3                  3  Bangalore  \n",
       "4                  3  Bangalore  "
      ]
     },
     "execution_count": 31,
     "metadata": {},
     "output_type": "execute_result"
    }
   ],
   "source": [
    "df.head(5)"
   ]
  },
  {
   "cell_type": "code",
   "execution_count": 32,
   "id": "7617e992",
   "metadata": {},
   "outputs": [],
   "source": [
    "df_salary = df.query('Salary < 3000000')['Salary']"
   ]
  },
  {
   "cell_type": "markdown",
   "id": "35e0dbbe",
   "metadata": {},
   "source": [
    "# **<center><span style=\"color:#01c9e0;\">Grahique linéaire </span></center>**"
   ]
  },
  {
   "cell_type": "markdown",
   "id": "414c9e05",
   "metadata": {},
   "source": [
    "## **<span style=\"color:#1c4587;\">Matplotlib</span>**"
   ]
  },
  {
   "cell_type": "code",
   "execution_count": 33,
   "id": "470e72fe",
   "metadata": {},
   "outputs": [
    {
     "data": {
      "image/png": "[encoded data removed]",
      "text/plain": [
       "<Figure size 720x576 with 1 Axes>"
      ]
     },
     "metadata": {
      "needs_background": "light"
     },
     "output_type": "display_data"
    }
   ],
   "source": [
    "plt.figure(figsize=(10,8))\n",
    "plt.plot(df.Rating.head(50), color='r')\n",
    "plt.show()"
   ]
  },
  {
   "cell_type": "markdown",
   "id": "414c9e05",
   "metadata": {},
   "source": [
    "## **<span style=\"color:#1c4587;\">Seaborn</span>**"
   ]
  },
  {
   "cell_type": "code",
   "execution_count": 34,
   "id": "04172d0a",
   "metadata": {},
   "outputs": [
    {
     "data": {
      "image/png": "[encoded data removed]",
      "text/plain": [
       "<Figure size 720x576 with 1 Axes>"
      ]
     },
     "metadata": {
      "needs_background": "light"
     },
     "output_type": "display_data"
    }
   ],
   "source": [
    "plt.figure(figsize=(10,8))\n",
    "sns.lineplot(x=df.Rating, y=df.Salary, palette=colors)\n",
    "plt.show()"
   ]
  },
  {
   "cell_type": "markdown",
   "id": "35e0dbbe",
   "metadata": {},
   "source": [
    "# **<center><span style=\"color:#01c9e0;\">Diagramme à barres </span></center>**"
   ]
  },
  {
   "cell_type": "markdown",
   "id": "414c9e05",
   "metadata": {},
   "source": [
    "## **<span style=\"color:#1c4587;\">Matplotlib</span>**"
   ]
  },
  {
   "cell_type": "code",
   "execution_count": 35,
   "id": "407293e7",
   "metadata": {},
   "outputs": [
    {
     "data": {
      "image/png": "[encoded data removed]",
      "text/plain": [
       "<Figure size 720x576 with 1 Axes>"
      ]
     },
     "metadata": {
      "needs_background": "light"
     },
     "output_type": "display_data"
    }
   ],
   "source": [
    "plt.figure(figsize=(10,8))\n",
    "df.Location.value_counts().plot(kind='bar', color='r')\n",
    "plt.show()"
   ]
  },
  {
   "cell_type": "markdown",
   "id": "77e762dd",
   "metadata": {},
   "source": [
    "## **<span style=\"color:#1c4587;\">Seaborn</span>**"
   ]
  },
  {
   "cell_type": "code",
   "execution_count": 36,
   "id": "faf1f7fa",
   "metadata": {},
   "outputs": [
    {
     "data": {
      "image/png": "[encoded data removed]",
      "text/plain": [
       "<Figure size 720x576 with 1 Axes>"
      ]
     },
     "metadata": {
      "needs_background": "light"
     },
     "output_type": "display_data"
    }
   ],
   "source": [
    "plt.figure(figsize=(10,8))\n",
    "sns.countplot(df.Location, palette=colors)\n",
    "plt.show()"
   ]
  },
  {
   "cell_type": "code",
   "execution_count": 37,
   "id": "2819149c",
   "metadata": {},
   "outputs": [
    {
     "data": {
      "image/png": "[encoded data removed]",
      "text/plain": [
       "<Figure size 720x576 with 1 Axes>"
      ]
     },
     "metadata": {
      "needs_background": "light"
     },
     "output_type": "display_data"
    }
   ],
   "source": [
    "plt.figure(figsize=(10,8))\n",
    "sns.barplot(x=df.Location, y=df.Salary, palette=colors)\n",
    "plt.show()"
   ]
  },
  {
   "cell_type": "markdown",
   "id": "35e0dbbe",
   "metadata": {},
   "source": [
    "# **<center><span style=\"color:#01c9e0;\">Diagramme circulaire </span></center>**"
   ]
  },
  {
   "cell_type": "markdown",
   "id": "414c9e05",
   "metadata": {},
   "source": [
    "## **<span style=\"color:#1c4587;\">Matplotlib</span>**"
   ]
  },
  {
   "cell_type": "code",
   "execution_count": 38,
   "id": "ed38d06a",
   "metadata": {},
   "outputs": [
    {
     "data": {
      "image/png": "[encoded data removed]",
      "text/plain": [
       "<Figure size 720x576 with 1 Axes>"
      ]
     },
     "metadata": {},
     "output_type": "display_data"
    }
   ],
   "source": [
    "plt.figure(figsize=(10,8))\n",
    "df['Company Name'].value_counts().head(5).plot(kind='pie', autopct='%.0f%%', colors = colors)\n",
    "plt.show()"
   ]
  },
  {
   "cell_type": "markdown",
   "id": "35e0dbbe",
   "metadata": {},
   "source": [
    "# **<center><span style=\"color:#01c9e0;\">Histogramme </span></center>**"
   ]
  },
  {
   "cell_type": "markdown",
   "id": "1c1e882a",
   "metadata": {},
   "source": [
    "## **<span style=\"color:#1c4587;\">Matplotlib</span>**"
   ]
  },
  {
   "cell_type": "code",
   "execution_count": 39,
   "id": "f966b1b2",
   "metadata": {},
   "outputs": [
    {
     "data": {
      "image/png": "[encoded data removed]",
      "text/plain": [
       "<Figure size 720x576 with 1 Axes>"
      ]
     },
     "metadata": {
      "needs_background": "light"
     },
     "output_type": "display_data"
    }
   ],
   "source": [
    "plt.figure(figsize=(10,8))\n",
    "plt.hist(df_salary, color='r', bins=30)\n",
    "plt.show()"
   ]
  },
  {
   "cell_type": "markdown",
   "id": "4ad346b1",
   "metadata": {},
   "source": [
    " ## **<span style=\"color:#1c4587;\">Seaborn</span>**"
   ]
  },
  {
   "cell_type": "code",
   "execution_count": 40,
   "id": "566b9f47",
   "metadata": {},
   "outputs": [
    {
     "data": {
      "image/png": "[encoded data removed]",
      "text/plain": [
       "<Figure size 720x576 with 1 Axes>"
      ]
     },
     "metadata": {
      "needs_background": "light"
     },
     "output_type": "display_data"
    }
   ],
   "source": [
    "plt.figure(figsize=(10,8))\n",
    "sns.histplot(df_salary, bins=30)\n",
    "plt.show()"
   ]
  },
  {
   "cell_type": "markdown",
   "id": "35e0dbbe",
   "metadata": {},
   "source": [
    "# **<center><span style=\"color:#01c9e0;\">Boîte à moustaches </span></center>**"
   ]
  },
  {
   "cell_type": "markdown",
   "id": "414c9e05",
   "metadata": {},
   "source": [
    "## **<span style=\"color:#1c4587;\">Matplotlib</span>**"
   ]
  },
  {
   "cell_type": "code",
   "execution_count": 41,
   "id": "80be8601",
   "metadata": {},
   "outputs": [
    {
     "data": {
      "image/png": "[encoded data removed]",
      "text/plain": [
       "<Figure size 720x576 with 1 Axes>"
      ]
     },
     "metadata": {
      "needs_background": "light"
     },
     "output_type": "display_data"
    }
   ],
   "source": [
    "plt.figure(figsize=(10,8))\n",
    "plt.boxplot(df.Salary.head(200))\n",
    "plt.show()"
   ]
  },
  {
   "cell_type": "markdown",
   "id": "23f0f8f8",
   "metadata": {},
   "source": [
    " ## **<span style=\"color:#1c4587;\">Seaborn</span>**"
   ]
  },
  {
   "cell_type": "code",
   "execution_count": 42,
   "id": "98d5aa2e",
   "metadata": {},
   "outputs": [
    {
     "data": {
      "image/png": "[encoded data removed]",
      "text/plain": [
       "<Figure size 720x576 with 1 Axes>"
      ]
     },
     "metadata": {
      "needs_background": "light"
     },
     "output_type": "display_data"
    }
   ],
   "source": [
    "plt.figure(figsize=(10,8))\n",
    "sns.boxplot(y=df.Salary.head(200), palette=colors)\n",
    "plt.show()"
   ]
  },
  {
   "cell_type": "markdown",
   "id": "35e0dbbe",
   "metadata": {},
   "source": [
    "# **<center><span style=\"color:#01c9e0;\">Nuage de points </span></center>**"
   ]
  },
  {
   "cell_type": "markdown",
   "id": "414c9e05",
   "metadata": {},
   "source": [
    "## **<span style=\"color:#1c4587;\">Matplotlib</span>**"
   ]
  },
  {
   "cell_type": "code",
   "execution_count": 43,
   "id": "8cdcd6b7",
   "metadata": {},
   "outputs": [
    {
     "data": {
      "image/png": "[encoded data removed]",
      "text/plain": [
       "<Figure size 720x576 with 1 Axes>"
      ]
     },
     "metadata": {
      "needs_background": "light"
     },
     "output_type": "display_data"
    }
   ],
   "source": [
    "plt.figure(figsize=(10,8))\n",
    "plt.scatter(x = df.Rating.head(50), y = df.Salary.head(50), color='r')\n",
    "plt.show()"
   ]
  },
  {
   "cell_type": "markdown",
   "id": "6d2839bd",
   "metadata": {},
   "source": [
    " ## **<span style=\"color:#1c4587;\">Seaborn</span>**"
   ]
  },
  {
   "cell_type": "code",
   "execution_count": 44,
   "id": "ce039e8b",
   "metadata": {},
   "outputs": [
    {
     "data": {
      "image/png": "[encoded data removed]",
      "text/plain": [
       "<Figure size 720x576 with 1 Axes>"
      ]
     },
     "metadata": {
      "needs_background": "light"
     },
     "output_type": "display_data"
    }
   ],
   "source": [
    "plt.figure(figsize=(10,8))\n",
    "sns.scatterplot(x = df.Rating.head(50), y = df.Salary.head(50))\n",
    "plt.show()"
   ]
  },
  {
   "cell_type": "markdown",
   "id": "b3a0b33b",
   "metadata": {},
   "source": [
    "**Un bon graphe doit contenir**\n",
    "- un titre (plt.title)\n",
    "- des étiquettes (plt.text)\n",
    "- des labels (plt.xlabel, plt.ylabel)\n",
    "- une échelle (plt.xlim, plt.ylim)\n",
    "- une légende (plt.legend)\n",
    "- un type de tracé appropriés"
   ]
  },
  {
   "cell_type": "code",
   "execution_count": null,
   "id": "79dc7d85",
   "metadata": {},
   "outputs": [],
   "source": []
  },
  {
   "cell_type": "code",
   "execution_count": null,
   "id": "04a29c01",
   "metadata": {},
   "outputs": [],
   "source": []
  },
  {
   "cell_type": "code",
   "execution_count": null,
   "id": "b1bc259c",
   "metadata": {},
   "outputs": [],
   "source": []
  },
  {
   "cell_type": "markdown",
   "id": "5752d771",
   "metadata": {},
   "source": [
    "# **<center><span style=\"color:#01c9e0;\">🚀 PROJETS DE GROUPE  🚀   </span></center>**\n",
    "## <center>Pour plus d'informations contctez moi sur Slack 👍</center>"
   ]
  },
  {
   "cell_type": "markdown",
   "id": "ea3dc8a9",
   "metadata": {},
   "source": [
    "**Énoncé**\n",
    "\n",
    "Ce dataset contient des informations sur plus de 22700 professionnels du logiciel avec différentes caractéristiques telles que leurs salaires (₹), le nom de l'entreprise, l'évaluation de l'entreprise, le nombre de fois que les salaires sont déclarés et l'emplacement de l'entreprise.\n",
    "- Quelles sont les meilleures entreprises du jeu de données ?\n",
    "- Quel est le salaire pour chaque poste ?\n",
    "\n",
    "https://drive.google.com/file/d/1f9oU5RahTZnBd5unPtoIbfXAjSdYWUHg/view?usp=sharing\n"
   ]
  },
  {
   "cell_type": "code",
   "execution_count": null,
   "id": "7fef68d1",
   "metadata": {},
   "outputs": [],
   "source": []
  }
 ],
 "metadata": {
  "kernelspec": {
   "display_name": "Python 3 (ipykernel)",
   "language": "python",
   "name": "python3"
  },
  "language_info": {
   "codemirror_mode": {
    "name": "ipython",
    "version": 3
   },
   "file_extension": ".py",
   "mimetype": "text/x-python",
   "name": "python",
   "nbconvert_exporter": "python",
   "pygments_lexer": "ipython3",
   "version": "3.9.7"
  }
 },
 "nbformat": 4,
 "nbformat_minor": 5
}
