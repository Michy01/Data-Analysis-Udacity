{
  "cells": [
    {
      "cell_type": "markdown",
      "metadata": {
        "id": "0R384uNkhEic"
      },
      "source": [
        "# Michael NANA KAMENI"
      ]
    },
    {
      "cell_type": "markdown",
      "metadata": {
        "id": "GPkX0k4MVaX5"
      },
      "source": [
        "# [No-show appointments](https://d17h27t6h515a5.cloudfront.net/topher/2017/October/59dd2e9a_noshowappointments-kagglev2-may-2016/noshowappointments-kagglev2-may-2016.csv)"
      ]
    },
    {
      "cell_type": "code",
      "execution_count": null,
      "metadata": {
        "colab": {
          "base_uri": "https://localhost:8080/"
        },
        "id": "XoiaACg1RZyf",
        "outputId": "44d6419e-94bd-4645-de58-e51b938372ae"
      },
      "outputs": [
        {
          "output_type": "stream",
          "name": "stdout",
          "text": [
            "Mounted at /content/drive\n"
          ]
        }
      ],
      "source": [
        "from google.colab import drive\n",
        "drive.mount('/content/drive')"
      ]
    },
    {
      "cell_type": "markdown",
      "metadata": {
        "id": "MX6qzXhfU3d_"
      },
      "source": [
        "What factors are\n",
        "important for us to\n",
        "know in order to\n",
        "predict if a patient will\n",
        "show up for their\n",
        "scheduled\n",
        "appointment?"
      ]
    },
    {
      "cell_type": "markdown",
      "metadata": {
        "id": "GGzqn_PbU8Bh"
      },
      "source": [
        "This dataset collects information\n",
        "from 100k medical appointments in\n",
        "Brazil and is focused on the question\n",
        "of whether or not patients show up\n",
        "for their appointment. A number of\n",
        "characteristics about the patient are\n",
        "included in each row.\n",
        "- `ScheduledDay` tells us on\n",
        "what day the patient set up their\n",
        "appointment.\n",
        "- `Neighborhood` indicates the\n",
        "location of the hospital.\n",
        "- `Scholarship` indicates\n",
        "whether or not the patient is\n",
        "enrolled in Brasilian welfare\n",
        "program [Bolsa Família](https://www.google.com/url?q=https://en.wikipedia.org/wiki/Bolsa_Fam%25C3%25ADlia&sa=D&ust=1532469042119000).\n",
        "- Be careful about the encoding\n",
        "of the last column: it says `No` if\n",
        "the patient showed up to their\n",
        "appointment, and `Yes` if they\n",
        "did not show up."
      ]
    },
    {
      "cell_type": "markdown",
      "metadata": {
        "id": "KOiSz5g5TRHY"
      },
      "source": [
        "## Importer les librairies utiles"
      ]
    },
    {
      "cell_type": "code",
      "execution_count": null,
      "metadata": {
        "id": "Fl27KZcuS02-"
      },
      "outputs": [],
      "source": [
        "import pandas as pd\n",
        "import numpy as np\n",
        "import matplotlib.pyplot as plt\n",
        "import seaborn as sns\n",
        "\n",
        "import warnings\n",
        "warnings.filterwarnings('ignore')\n",
        "\n",
        "%matplotlib inline"
      ]
    },
    {
      "cell_type": "code",
      "execution_count": null,
      "metadata": {
        "colab": {
          "base_uri": "https://localhost:8080/",
          "height": 374
        },
        "id": "0aK8imwpa7Gr",
        "outputId": "5fc1d855-6b55-451c-88b3-f6e284c3c13a"
      },
      "outputs": [
        {
          "output_type": "execute_result",
          "data": {
            "text/plain": [
              "           PatientId  AppointmentID Gender          ScheduledDay  \\\n",
              "63063   8.375452e+12        5705040      F  2016-05-16T17:35:00Z   \n",
              "85922   9.949264e+12        5568187      F  2016-04-11T14:04:42Z   \n",
              "35093   6.994267e+11        5743986      M  2016-05-30T09:40:32Z   \n",
              "105434  5.198893e+13        5772273      M  2016-06-03T15:01:58Z   \n",
              "100131  3.843583e+12        5747818      F  2016-05-30T16:22:57Z   \n",
              "\n",
              "              AppointmentDay  Age   Neighbourhood  Scholarship  Hipertension  \\\n",
              "63063   2016-05-18T00:00:00Z   66  JARDIM CAMBURI            0             0   \n",
              "85922   2016-06-07T00:00:00Z    6  JARDIM CAMBURI            0             0   \n",
              "35093   2016-05-31T00:00:00Z    0       BOA VISTA            0             0   \n",
              "105434  2016-06-03T00:00:00Z    0      GOIABEIRAS            0             0   \n",
              "100131  2016-06-02T00:00:00Z   61     MARIA ORTIZ            0             0   \n",
              "\n",
              "        Diabetes  Alcoholism  Handcap  SMS_received No-show  \n",
              "63063          0           0        0             0      No  \n",
              "85922          0           0        0             1     Yes  \n",
              "35093          0           0        0             0      No  \n",
              "105434         0           0        0             0      No  \n",
              "100131         0           0        0             0      No  "
            ],
            "text/html": [
              "\n",
              "  <div id=\"df-939da8c3-2126-4803-a1ec-431abc56b07c\">\n",
              "    <div class=\"colab-df-container\">\n",
              "      <div>\n",
              "<style scoped>\n",
              "    .dataframe tbody tr th:only-of-type {\n",
              "        vertical-align: middle;\n",
              "    }\n",
              "\n",
              "    .dataframe tbody tr th {\n",
              "        vertical-align: top;\n",
              "    }\n",
              "\n",
              "    .dataframe thead th {\n",
              "        text-align: right;\n",
              "    }\n",
              "</style>\n",
              "<table border=\"1\" class=\"dataframe\">\n",
              "  <thead>\n",
              "    <tr style=\"text-align: right;\">\n",
              "      <th></th>\n",
              "      <th>PatientId</th>\n",
              "      <th>AppointmentID</th>\n",
              "      <th>Gender</th>\n",
              "      <th>ScheduledDay</th>\n",
              "      <th>AppointmentDay</th>\n",
              "      <th>Age</th>\n",
              "      <th>Neighbourhood</th>\n",
              "      <th>Scholarship</th>\n",
              "      <th>Hipertension</th>\n",
              "      <th>Diabetes</th>\n",
              "      <th>Alcoholism</th>\n",
              "      <th>Handcap</th>\n",
              "      <th>SMS_received</th>\n",
              "      <th>No-show</th>\n",
              "    </tr>\n",
              "  </thead>\n",
              "  <tbody>\n",
              "    <tr>\n",
              "      <th>63063</th>\n",
              "      <td>8.375452e+12</td>\n",
              "      <td>5705040</td>\n",
              "      <td>F</td>\n",
              "      <td>2016-05-16T17:35:00Z</td>\n",
              "      <td>2016-05-18T00:00:00Z</td>\n",
              "      <td>66</td>\n",
              "      <td>JARDIM CAMBURI</td>\n",
              "      <td>0</td>\n",
              "      <td>0</td>\n",
              "      <td>0</td>\n",
              "      <td>0</td>\n",
              "      <td>0</td>\n",
              "      <td>0</td>\n",
              "      <td>No</td>\n",
              "    </tr>\n",
              "    <tr>\n",
              "      <th>85922</th>\n",
              "      <td>9.949264e+12</td>\n",
              "      <td>5568187</td>\n",
              "      <td>F</td>\n",
              "      <td>2016-04-11T14:04:42Z</td>\n",
              "      <td>2016-06-07T00:00:00Z</td>\n",
              "      <td>6</td>\n",
              "      <td>JARDIM CAMBURI</td>\n",
              "      <td>0</td>\n",
              "      <td>0</td>\n",
              "      <td>0</td>\n",
              "      <td>0</td>\n",
              "      <td>0</td>\n",
              "      <td>1</td>\n",
              "      <td>Yes</td>\n",
              "    </tr>\n",
              "    <tr>\n",
              "      <th>35093</th>\n",
              "      <td>6.994267e+11</td>\n",
              "      <td>5743986</td>\n",
              "      <td>M</td>\n",
              "      <td>2016-05-30T09:40:32Z</td>\n",
              "      <td>2016-05-31T00:00:00Z</td>\n",
              "      <td>0</td>\n",
              "      <td>BOA VISTA</td>\n",
              "      <td>0</td>\n",
              "      <td>0</td>\n",
              "      <td>0</td>\n",
              "      <td>0</td>\n",
              "      <td>0</td>\n",
              "      <td>0</td>\n",
              "      <td>No</td>\n",
              "    </tr>\n",
              "    <tr>\n",
              "      <th>105434</th>\n",
              "      <td>5.198893e+13</td>\n",
              "      <td>5772273</td>\n",
              "      <td>M</td>\n",
              "      <td>2016-06-03T15:01:58Z</td>\n",
              "      <td>2016-06-03T00:00:00Z</td>\n",
              "      <td>0</td>\n",
              "      <td>GOIABEIRAS</td>\n",
              "      <td>0</td>\n",
              "      <td>0</td>\n",
              "      <td>0</td>\n",
              "      <td>0</td>\n",
              "      <td>0</td>\n",
              "      <td>0</td>\n",
              "      <td>No</td>\n",
              "    </tr>\n",
              "    <tr>\n",
              "      <th>100131</th>\n",
              "      <td>3.843583e+12</td>\n",
              "      <td>5747818</td>\n",
              "      <td>F</td>\n",
              "      <td>2016-05-30T16:22:57Z</td>\n",
              "      <td>2016-06-02T00:00:00Z</td>\n",
              "      <td>61</td>\n",
              "      <td>MARIA ORTIZ</td>\n",
              "      <td>0</td>\n",
              "      <td>0</td>\n",
              "      <td>0</td>\n",
              "      <td>0</td>\n",
              "      <td>0</td>\n",
              "      <td>0</td>\n",
              "      <td>No</td>\n",
              "    </tr>\n",
              "  </tbody>\n",
              "</table>\n",
              "</div>\n",
              "      <button class=\"colab-df-convert\" onclick=\"convertToInteractive('df-939da8c3-2126-4803-a1ec-431abc56b07c')\"\n",
              "              title=\"Convert this dataframe to an interactive table.\"\n",
              "              style=\"display:none;\">\n",
              "        \n",
              "  <svg xmlns=\"http://www.w3.org/2000/svg\" height=\"24px\"viewBox=\"0 0 24 24\"\n",
              "       width=\"24px\">\n",
              "    <path d=\"M0 0h24v24H0V0z\" fill=\"none\"/>\n",
              "    <path d=\"M18.56 5.44l.94 2.06.94-2.06 2.06-.94-2.06-.94-.94-2.06-.94 2.06-2.06.94zm-11 1L8.5 8.5l.94-2.06 2.06-.94-2.06-.94L8.5 2.5l-.94 2.06-2.06.94zm10 10l.94 2.06.94-2.06 2.06-.94-2.06-.94-.94-2.06-.94 2.06-2.06.94z\"/><path d=\"M17.41 7.96l-1.37-1.37c-.4-.4-.92-.59-1.43-.59-.52 0-1.04.2-1.43.59L10.3 9.45l-7.72 7.72c-.78.78-.78 2.05 0 2.83L4 21.41c.39.39.9.59 1.41.59.51 0 1.02-.2 1.41-.59l7.78-7.78 2.81-2.81c.8-.78.8-2.07 0-2.86zM5.41 20L4 18.59l7.72-7.72 1.47 1.35L5.41 20z\"/>\n",
              "  </svg>\n",
              "      </button>\n",
              "      \n",
              "  <style>\n",
              "    .colab-df-container {\n",
              "      display:flex;\n",
              "      flex-wrap:wrap;\n",
              "      gap: 12px;\n",
              "    }\n",
              "\n",
              "    .colab-df-convert {\n",
              "      background-color: #E8F0FE;\n",
              "      border: none;\n",
              "      border-radius: 50%;\n",
              "      cursor: pointer;\n",
              "      display: none;\n",
              "      fill: #1967D2;\n",
              "      height: 32px;\n",
              "      padding: 0 0 0 0;\n",
              "      width: 32px;\n",
              "    }\n",
              "\n",
              "    .colab-df-convert:hover {\n",
              "      background-color: #E2EBFA;\n",
              "      box-shadow: 0px 1px 2px rgba(60, 64, 67, 0.3), 0px 1px 3px 1px rgba(60, 64, 67, 0.15);\n",
              "      fill: #174EA6;\n",
              "    }\n",
              "\n",
              "    [theme=dark] .colab-df-convert {\n",
              "      background-color: #3B4455;\n",
              "      fill: #D2E3FC;\n",
              "    }\n",
              "\n",
              "    [theme=dark] .colab-df-convert:hover {\n",
              "      background-color: #434B5C;\n",
              "      box-shadow: 0px 1px 3px 1px rgba(0, 0, 0, 0.15);\n",
              "      filter: drop-shadow(0px 1px 2px rgba(0, 0, 0, 0.3));\n",
              "      fill: #FFFFFF;\n",
              "    }\n",
              "  </style>\n",
              "\n",
              "      <script>\n",
              "        const buttonEl =\n",
              "          document.querySelector('#df-939da8c3-2126-4803-a1ec-431abc56b07c button.colab-df-convert');\n",
              "        buttonEl.style.display =\n",
              "          google.colab.kernel.accessAllowed ? 'block' : 'none';\n",
              "\n",
              "        async function convertToInteractive(key) {\n",
              "          const element = document.querySelector('#df-939da8c3-2126-4803-a1ec-431abc56b07c');\n",
              "          const dataTable =\n",
              "            await google.colab.kernel.invokeFunction('convertToInteractive',\n",
              "                                                     [key], {});\n",
              "          if (!dataTable) return;\n",
              "\n",
              "          const docLinkHtml = 'Like what you see? Visit the ' +\n",
              "            '<a target=\"_blank\" href=https://colab.research.google.com/notebooks/data_table.ipynb>data table notebook</a>'\n",
              "            + ' to learn more about interactive tables.';\n",
              "          element.innerHTML = '';\n",
              "          dataTable['output_type'] = 'display_data';\n",
              "          await google.colab.output.renderOutput(dataTable, element);\n",
              "          const docLink = document.createElement('div');\n",
              "          docLink.innerHTML = docLinkHtml;\n",
              "          element.appendChild(docLink);\n",
              "        }\n",
              "      </script>\n",
              "    </div>\n",
              "  </div>\n",
              "  "
            ]
          },
          "metadata": {},
          "execution_count": 3
        }
      ],
      "source": [
        "# Load data to a dataframe\n",
        "lien = \"https://d17h27t6h515a5.cloudfront.net/topher/2017/October/59dd2e9a_noshowappointments-kagglev2-may-2016/noshowappointments-kagglev2-may-2016.csv\"\n",
        "data = pd.read_csv(lien, sep= ',')\n",
        "\n",
        "# Copy data to a different dataframe\n",
        "cp = data.copy()\n",
        "cp.sample(5)"
      ]
    },
    {
      "cell_type": "code",
      "execution_count": null,
      "metadata": {
        "colab": {
          "base_uri": "https://localhost:8080/"
        },
        "id": "VfWSzGIRIAt0",
        "outputId": "e63edcf4-51c5-4884-d81d-406f86290faf"
      },
      "outputs": [
        {
          "output_type": "execute_result",
          "data": {
            "text/plain": [
              "(110527, 14)"
            ]
          },
          "metadata": {},
          "execution_count": 4
        }
      ],
      "source": [
        "# Learn the size of the dataset\n",
        "cp.shape"
      ]
    },
    {
      "cell_type": "markdown",
      "metadata": {
        "id": "HEL7v_YFIbzA"
      },
      "source": [
        "Ce tableau de donnees contient **110527 lignes** et **14 colonnes**"
      ]
    },
    {
      "cell_type": "code",
      "execution_count": null,
      "metadata": {
        "colab": {
          "base_uri": "https://localhost:8080/"
        },
        "id": "-7L33PVXJRYW",
        "outputId": "edb40ef3-d858-4ea4-e38f-a534e8494225"
      },
      "outputs": [
        {
          "output_type": "execute_result",
          "data": {
            "text/plain": [
              "Index(['PatientId', 'AppointmentID', 'Gender', 'ScheduledDay',\n",
              "       'AppointmentDay', 'Age', 'Neighbourhood', 'Scholarship', 'Hipertension',\n",
              "       'Diabetes', 'Alcoholism', 'Handcap', 'SMS_received', 'No-show'],\n",
              "      dtype='object')"
            ]
          },
          "metadata": {},
          "execution_count": 5
        }
      ],
      "source": [
        "# Determinons ces colonnes:\n",
        "cp.columns"
      ]
    },
    {
      "cell_type": "code",
      "execution_count": null,
      "metadata": {
        "colab": {
          "base_uri": "https://localhost:8080/"
        },
        "id": "nx-XCs0tUOYO",
        "outputId": "18b6f3cc-49b4-4701-bb19-d7a50c9492a1"
      },
      "outputs": [
        {
          "output_type": "stream",
          "name": "stdout",
          "text": [
            "<class 'pandas.core.frame.DataFrame'>\n",
            "RangeIndex: 110527 entries, 0 to 110526\n",
            "Data columns (total 14 columns):\n",
            " #   Column          Non-Null Count   Dtype  \n",
            "---  ------          --------------   -----  \n",
            " 0   PatientId       110527 non-null  float64\n",
            " 1   AppointmentID   110527 non-null  int64  \n",
            " 2   Gender          110527 non-null  object \n",
            " 3   ScheduledDay    110527 non-null  object \n",
            " 4   AppointmentDay  110527 non-null  object \n",
            " 5   Age             110527 non-null  int64  \n",
            " 6   Neighbourhood   110527 non-null  object \n",
            " 7   Scholarship     110527 non-null  int64  \n",
            " 8   Hipertension    110527 non-null  int64  \n",
            " 9   Diabetes        110527 non-null  int64  \n",
            " 10  Alcoholism      110527 non-null  int64  \n",
            " 11  Handcap         110527 non-null  int64  \n",
            " 12  SMS_received    110527 non-null  int64  \n",
            " 13  No-show         110527 non-null  object \n",
            "dtypes: float64(1), int64(8), object(5)\n",
            "memory usage: 11.8+ MB\n"
          ]
        }
      ],
      "source": [
        "#Verifions le type des attributs:\n",
        "cp.info()"
      ]
    },
    {
      "cell_type": "markdown",
      "metadata": {
        "id": "78PuNScKdk4v"
      },
      "source": [
        "# Interpretation:\n",
        "1. Il n'existe pas de donnees manquantes dans le dataframe(le tableau de valeurs).\n",
        "2. La colonne `PatientId` a des valeurs de type réelles et devraient etre convertir en valeurs entières.\n",
        "3. Les colonnees `ScheduledDay` et `AppointmentDay` sont des types chaines de caracteres et devraient etre convertir respectivement en datetime et en date.\n",
        "4. La colonne `No-show` a des valeurs de types chaines de caracteres que nous pouvons convertir en booleen entier.\n",
        "5. Il existe 13 variables independantes et une variable dependante.\n"
      ]
    },
    {
      "cell_type": "code",
      "execution_count": null,
      "metadata": {
        "colab": {
          "base_uri": "https://localhost:8080/"
        },
        "id": "6yrqoqUgTjh4",
        "outputId": "be61923d-ef50-485b-e82c-bc196a963c7f"
      },
      "outputs": [
        {
          "output_type": "execute_result",
          "data": {
            "text/plain": [
              "52464    2016-05-17 06:59:38+00:00\n",
              "81719    2016-04-15 12:10:04+00:00\n",
              "100657   2016-04-26 10:09:23+00:00\n",
              "88185    2016-05-24 07:05:30+00:00\n",
              "93238    2016-06-03 11:44:02+00:00\n",
              "Name: ScheduledDay, dtype: datetime64[ns, UTC]"
            ]
          },
          "metadata": {},
          "execution_count": 7
        }
      ],
      "source": [
        "# Convertir la date au type datetime\n",
        "cp['ScheduledDay'] = pd.to_datetime(cp['ScheduledDay'])\n",
        "cp['ScheduledDay'].sample(5)"
      ]
    },
    {
      "cell_type": "code",
      "execution_count": null,
      "metadata": {
        "colab": {
          "base_uri": "https://localhost:8080/"
        },
        "id": "yv5i2Qmqa9RF",
        "outputId": "9552add7-9bc5-463f-b6db-563807e610bc"
      },
      "outputs": [
        {
          "output_type": "execute_result",
          "data": {
            "text/plain": [
              "86251   2016-06-03\n",
              "70193   2016-05-11\n",
              "58742   2016-05-10\n",
              "12540   2016-05-06\n",
              "86938   2016-06-01\n",
              "Name: AppointmentDay, dtype: datetime64[ns]"
            ]
          },
          "metadata": {},
          "execution_count": 8
        }
      ],
      "source": [
        "# Convertir la date au type date\n",
        "cp['AppointmentDay'] = pd.to_datetime(cp['AppointmentDay']).dt.date.astype('datetime64[ns]')\n",
        "cp['AppointmentDay'].sample(5)"
      ]
    },
    {
      "cell_type": "code",
      "execution_count": null,
      "metadata": {
        "id": "_tuYxA-OU23U"
      },
      "outputs": [],
      "source": [
        "# Convertir la colonne \"PatientId\" en entier:\n",
        "cp['PatientId']= cp['PatientId'].astype(int)"
      ]
    },
    {
      "cell_type": "code",
      "execution_count": null,
      "metadata": {
        "colab": {
          "base_uri": "https://localhost:8080/"
        },
        "id": "zmsfzbbHLt-Z",
        "outputId": "f97e255a-a675-4b41-c4e6-c862f457f8a0"
      },
      "outputs": [
        {
          "output_type": "execute_result",
          "data": {
            "text/plain": [
              "89930      No\n",
              "103018     No\n",
              "95830      No\n",
              "101155     No\n",
              "23922      No\n",
              "89634      No\n",
              "75024      No\n",
              "99591      No\n",
              "49964      No\n",
              "11360      No\n",
              "16032     Yes\n",
              "16515      No\n",
              "87976     Yes\n",
              "37160      No\n",
              "94820      No\n",
              "33234      No\n",
              "42110      No\n",
              "19341     Yes\n",
              "101046     No\n",
              "70830      No\n",
              "Name: No-show, dtype: object"
            ]
          },
          "metadata": {},
          "execution_count": 10
        }
      ],
      "source": [
        "# Visualisons un extrait aleatoire:\n",
        "cp['No-show'].sample(20)"
      ]
    },
    {
      "cell_type": "code",
      "execution_count": null,
      "metadata": {
        "colab": {
          "base_uri": "https://localhost:8080/"
        },
        "id": "_kXcdyigUVVS",
        "outputId": "583fead5-7458-48e0-ac5c-07467ed3d239"
      },
      "outputs": [
        {
          "output_type": "execute_result",
          "data": {
            "text/plain": [
              "PatientId         0\n",
              "AppointmentID     0\n",
              "Gender            0\n",
              "ScheduledDay      0\n",
              "AppointmentDay    0\n",
              "Age               0\n",
              "Neighbourhood     0\n",
              "Scholarship       0\n",
              "Hipertension      0\n",
              "Diabetes          0\n",
              "Alcoholism        0\n",
              "Handcap           0\n",
              "SMS_received      0\n",
              "No-show           0\n",
              "dtype: int64"
            ]
          },
          "metadata": {},
          "execution_count": 11
        }
      ],
      "source": [
        "# Confirmons le nombre de cellule avec des donnees manquantes par colonne:\n",
        "cp.isna().sum()"
      ]
    },
    {
      "cell_type": "code",
      "execution_count": null,
      "metadata": {
        "colab": {
          "base_uri": "https://localhost:8080/",
          "height": 679
        },
        "id": "CIo8e4DodJeb",
        "outputId": "f05aba37-4262-4cec-9c76-5be73daf645c"
      },
      "outputs": [
        {
          "output_type": "execute_result",
          "data": {
            "text/plain": [
              "              PatientId  AppointmentID Gender              ScheduledDay  \\\n",
              "27       12154843752835        5628345      F 2016-04-27 10:51:45+00:00   \n",
              "154         19252634865        5636933      F 2016-04-28 16:38:34+00:00   \n",
              "288      22462135793684        5532908      M 2016-03-31 12:39:06+00:00   \n",
              "290       7222383233748        5566070      M 2016-04-11 09:50:18+00:00   \n",
              "316      17565785761493        5582867      F 2016-04-14 10:01:09+00:00   \n",
              "...                 ...            ...    ...                       ...   \n",
              "110521   36355337746436        5651072      F 2016-05-03 08:23:40+00:00   \n",
              "110522    2572134369293        5651768      F 2016-05-03 09:15:35+00:00   \n",
              "110523    3596266328735        5650093      F 2016-05-03 07:27:33+00:00   \n",
              "110525   92134931435557        5630323      F 2016-04-27 15:09:23+00:00   \n",
              "110526  377511518121127        5629448      F 2016-04-27 13:30:56+00:00   \n",
              "\n",
              "       AppointmentDay  Age Neighbourhood  Scholarship  Hipertension  Diabetes  \\\n",
              "27         2016-04-29    4     CONQUISTA            0             0         0   \n",
              "154        2016-04-29   30       ITARARÉ            0             0         0   \n",
              "288        2016-04-29   43     CARATOÍRA            0             0         0   \n",
              "290        2016-04-29    7     CARATOÍRA            0             0         0   \n",
              "316        2016-04-29    1   JOANA D´ARC            0             0         0   \n",
              "...               ...  ...           ...          ...           ...       ...   \n",
              "110521     2016-06-07   53   MARIA ORTIZ            0             0         0   \n",
              "110522     2016-06-07   56   MARIA ORTIZ            0             0         0   \n",
              "110523     2016-06-07   51   MARIA ORTIZ            0             0         0   \n",
              "110525     2016-06-07   38   MARIA ORTIZ            0             0         0   \n",
              "110526     2016-06-07   54   MARIA ORTIZ            0             0         0   \n",
              "\n",
              "        Alcoholism  Handcap  SMS_received No-show  \n",
              "27               0        0             0      No  \n",
              "154              0        0             0      No  \n",
              "288              0        0             1     Yes  \n",
              "290              0        0             1      No  \n",
              "316              0        0             0      No  \n",
              "...            ...      ...           ...     ...  \n",
              "110521           0        0             1      No  \n",
              "110522           0        0             1      No  \n",
              "110523           0        0             1      No  \n",
              "110525           0        0             1      No  \n",
              "110526           0        0             1      No  \n",
              "\n",
              "[48228 rows x 14 columns]"
            ],
            "text/html": [
              "\n",
              "  <div id=\"df-e5f2357b-d6bc-47db-828d-dd0dbc7d88ab\">\n",
              "    <div class=\"colab-df-container\">\n",
              "      <div>\n",
              "<style scoped>\n",
              "    .dataframe tbody tr th:only-of-type {\n",
              "        vertical-align: middle;\n",
              "    }\n",
              "\n",
              "    .dataframe tbody tr th {\n",
              "        vertical-align: top;\n",
              "    }\n",
              "\n",
              "    .dataframe thead th {\n",
              "        text-align: right;\n",
              "    }\n",
              "</style>\n",
              "<table border=\"1\" class=\"dataframe\">\n",
              "  <thead>\n",
              "    <tr style=\"text-align: right;\">\n",
              "      <th></th>\n",
              "      <th>PatientId</th>\n",
              "      <th>AppointmentID</th>\n",
              "      <th>Gender</th>\n",
              "      <th>ScheduledDay</th>\n",
              "      <th>AppointmentDay</th>\n",
              "      <th>Age</th>\n",
              "      <th>Neighbourhood</th>\n",
              "      <th>Scholarship</th>\n",
              "      <th>Hipertension</th>\n",
              "      <th>Diabetes</th>\n",
              "      <th>Alcoholism</th>\n",
              "      <th>Handcap</th>\n",
              "      <th>SMS_received</th>\n",
              "      <th>No-show</th>\n",
              "    </tr>\n",
              "  </thead>\n",
              "  <tbody>\n",
              "    <tr>\n",
              "      <th>27</th>\n",
              "      <td>12154843752835</td>\n",
              "      <td>5628345</td>\n",
              "      <td>F</td>\n",
              "      <td>2016-04-27 10:51:45+00:00</td>\n",
              "      <td>2016-04-29</td>\n",
              "      <td>4</td>\n",
              "      <td>CONQUISTA</td>\n",
              "      <td>0</td>\n",
              "      <td>0</td>\n",
              "      <td>0</td>\n",
              "      <td>0</td>\n",
              "      <td>0</td>\n",
              "      <td>0</td>\n",
              "      <td>No</td>\n",
              "    </tr>\n",
              "    <tr>\n",
              "      <th>154</th>\n",
              "      <td>19252634865</td>\n",
              "      <td>5636933</td>\n",
              "      <td>F</td>\n",
              "      <td>2016-04-28 16:38:34+00:00</td>\n",
              "      <td>2016-04-29</td>\n",
              "      <td>30</td>\n",
              "      <td>ITARARÉ</td>\n",
              "      <td>0</td>\n",
              "      <td>0</td>\n",
              "      <td>0</td>\n",
              "      <td>0</td>\n",
              "      <td>0</td>\n",
              "      <td>0</td>\n",
              "      <td>No</td>\n",
              "    </tr>\n",
              "    <tr>\n",
              "      <th>288</th>\n",
              "      <td>22462135793684</td>\n",
              "      <td>5532908</td>\n",
              "      <td>M</td>\n",
              "      <td>2016-03-31 12:39:06+00:00</td>\n",
              "      <td>2016-04-29</td>\n",
              "      <td>43</td>\n",
              "      <td>CARATOÍRA</td>\n",
              "      <td>0</td>\n",
              "      <td>0</td>\n",
              "      <td>0</td>\n",
              "      <td>0</td>\n",
              "      <td>0</td>\n",
              "      <td>1</td>\n",
              "      <td>Yes</td>\n",
              "    </tr>\n",
              "    <tr>\n",
              "      <th>290</th>\n",
              "      <td>7222383233748</td>\n",
              "      <td>5566070</td>\n",
              "      <td>M</td>\n",
              "      <td>2016-04-11 09:50:18+00:00</td>\n",
              "      <td>2016-04-29</td>\n",
              "      <td>7</td>\n",
              "      <td>CARATOÍRA</td>\n",
              "      <td>0</td>\n",
              "      <td>0</td>\n",
              "      <td>0</td>\n",
              "      <td>0</td>\n",
              "      <td>0</td>\n",
              "      <td>1</td>\n",
              "      <td>No</td>\n",
              "    </tr>\n",
              "    <tr>\n",
              "      <th>316</th>\n",
              "      <td>17565785761493</td>\n",
              "      <td>5582867</td>\n",
              "      <td>F</td>\n",
              "      <td>2016-04-14 10:01:09+00:00</td>\n",
              "      <td>2016-04-29</td>\n",
              "      <td>1</td>\n",
              "      <td>JOANA D´ARC</td>\n",
              "      <td>0</td>\n",
              "      <td>0</td>\n",
              "      <td>0</td>\n",
              "      <td>0</td>\n",
              "      <td>0</td>\n",
              "      <td>0</td>\n",
              "      <td>No</td>\n",
              "    </tr>\n",
              "    <tr>\n",
              "      <th>...</th>\n",
              "      <td>...</td>\n",
              "      <td>...</td>\n",
              "      <td>...</td>\n",
              "      <td>...</td>\n",
              "      <td>...</td>\n",
              "      <td>...</td>\n",
              "      <td>...</td>\n",
              "      <td>...</td>\n",
              "      <td>...</td>\n",
              "      <td>...</td>\n",
              "      <td>...</td>\n",
              "      <td>...</td>\n",
              "      <td>...</td>\n",
              "      <td>...</td>\n",
              "    </tr>\n",
              "    <tr>\n",
              "      <th>110521</th>\n",
              "      <td>36355337746436</td>\n",
              "      <td>5651072</td>\n",
              "      <td>F</td>\n",
              "      <td>2016-05-03 08:23:40+00:00</td>\n",
              "      <td>2016-06-07</td>\n",
              "      <td>53</td>\n",
              "      <td>MARIA ORTIZ</td>\n",
              "      <td>0</td>\n",
              "      <td>0</td>\n",
              "      <td>0</td>\n",
              "      <td>0</td>\n",
              "      <td>0</td>\n",
              "      <td>1</td>\n",
              "      <td>No</td>\n",
              "    </tr>\n",
              "    <tr>\n",
              "      <th>110522</th>\n",
              "      <td>2572134369293</td>\n",
              "      <td>5651768</td>\n",
              "      <td>F</td>\n",
              "      <td>2016-05-03 09:15:35+00:00</td>\n",
              "      <td>2016-06-07</td>\n",
              "      <td>56</td>\n",
              "      <td>MARIA ORTIZ</td>\n",
              "      <td>0</td>\n",
              "      <td>0</td>\n",
              "      <td>0</td>\n",
              "      <td>0</td>\n",
              "      <td>0</td>\n",
              "      <td>1</td>\n",
              "      <td>No</td>\n",
              "    </tr>\n",
              "    <tr>\n",
              "      <th>110523</th>\n",
              "      <td>3596266328735</td>\n",
              "      <td>5650093</td>\n",
              "      <td>F</td>\n",
              "      <td>2016-05-03 07:27:33+00:00</td>\n",
              "      <td>2016-06-07</td>\n",
              "      <td>51</td>\n",
              "      <td>MARIA ORTIZ</td>\n",
              "      <td>0</td>\n",
              "      <td>0</td>\n",
              "      <td>0</td>\n",
              "      <td>0</td>\n",
              "      <td>0</td>\n",
              "      <td>1</td>\n",
              "      <td>No</td>\n",
              "    </tr>\n",
              "    <tr>\n",
              "      <th>110525</th>\n",
              "      <td>92134931435557</td>\n",
              "      <td>5630323</td>\n",
              "      <td>F</td>\n",
              "      <td>2016-04-27 15:09:23+00:00</td>\n",
              "      <td>2016-06-07</td>\n",
              "      <td>38</td>\n",
              "      <td>MARIA ORTIZ</td>\n",
              "      <td>0</td>\n",
              "      <td>0</td>\n",
              "      <td>0</td>\n",
              "      <td>0</td>\n",
              "      <td>0</td>\n",
              "      <td>1</td>\n",
              "      <td>No</td>\n",
              "    </tr>\n",
              "    <tr>\n",
              "      <th>110526</th>\n",
              "      <td>377511518121127</td>\n",
              "      <td>5629448</td>\n",
              "      <td>F</td>\n",
              "      <td>2016-04-27 13:30:56+00:00</td>\n",
              "      <td>2016-06-07</td>\n",
              "      <td>54</td>\n",
              "      <td>MARIA ORTIZ</td>\n",
              "      <td>0</td>\n",
              "      <td>0</td>\n",
              "      <td>0</td>\n",
              "      <td>0</td>\n",
              "      <td>0</td>\n",
              "      <td>1</td>\n",
              "      <td>No</td>\n",
              "    </tr>\n",
              "  </tbody>\n",
              "</table>\n",
              "<p>48228 rows × 14 columns</p>\n",
              "</div>\n",
              "      <button class=\"colab-df-convert\" onclick=\"convertToInteractive('df-e5f2357b-d6bc-47db-828d-dd0dbc7d88ab')\"\n",
              "              title=\"Convert this dataframe to an interactive table.\"\n",
              "              style=\"display:none;\">\n",
              "        \n",
              "  <svg xmlns=\"http://www.w3.org/2000/svg\" height=\"24px\"viewBox=\"0 0 24 24\"\n",
              "       width=\"24px\">\n",
              "    <path d=\"M0 0h24v24H0V0z\" fill=\"none\"/>\n",
              "    <path d=\"M18.56 5.44l.94 2.06.94-2.06 2.06-.94-2.06-.94-.94-2.06-.94 2.06-2.06.94zm-11 1L8.5 8.5l.94-2.06 2.06-.94-2.06-.94L8.5 2.5l-.94 2.06-2.06.94zm10 10l.94 2.06.94-2.06 2.06-.94-2.06-.94-.94-2.06-.94 2.06-2.06.94z\"/><path d=\"M17.41 7.96l-1.37-1.37c-.4-.4-.92-.59-1.43-.59-.52 0-1.04.2-1.43.59L10.3 9.45l-7.72 7.72c-.78.78-.78 2.05 0 2.83L4 21.41c.39.39.9.59 1.41.59.51 0 1.02-.2 1.41-.59l7.78-7.78 2.81-2.81c.8-.78.8-2.07 0-2.86zM5.41 20L4 18.59l7.72-7.72 1.47 1.35L5.41 20z\"/>\n",
              "  </svg>\n",
              "      </button>\n",
              "      \n",
              "  <style>\n",
              "    .colab-df-container {\n",
              "      display:flex;\n",
              "      flex-wrap:wrap;\n",
              "      gap: 12px;\n",
              "    }\n",
              "\n",
              "    .colab-df-convert {\n",
              "      background-color: #E8F0FE;\n",
              "      border: none;\n",
              "      border-radius: 50%;\n",
              "      cursor: pointer;\n",
              "      display: none;\n",
              "      fill: #1967D2;\n",
              "      height: 32px;\n",
              "      padding: 0 0 0 0;\n",
              "      width: 32px;\n",
              "    }\n",
              "\n",
              "    .colab-df-convert:hover {\n",
              "      background-color: #E2EBFA;\n",
              "      box-shadow: 0px 1px 2px rgba(60, 64, 67, 0.3), 0px 1px 3px 1px rgba(60, 64, 67, 0.15);\n",
              "      fill: #174EA6;\n",
              "    }\n",
              "\n",
              "    [theme=dark] .colab-df-convert {\n",
              "      background-color: #3B4455;\n",
              "      fill: #D2E3FC;\n",
              "    }\n",
              "\n",
              "    [theme=dark] .colab-df-convert:hover {\n",
              "      background-color: #434B5C;\n",
              "      box-shadow: 0px 1px 3px 1px rgba(0, 0, 0, 0.15);\n",
              "      filter: drop-shadow(0px 1px 2px rgba(0, 0, 0, 0.3));\n",
              "      fill: #FFFFFF;\n",
              "    }\n",
              "  </style>\n",
              "\n",
              "      <script>\n",
              "        const buttonEl =\n",
              "          document.querySelector('#df-e5f2357b-d6bc-47db-828d-dd0dbc7d88ab button.colab-df-convert');\n",
              "        buttonEl.style.display =\n",
              "          google.colab.kernel.accessAllowed ? 'block' : 'none';\n",
              "\n",
              "        async function convertToInteractive(key) {\n",
              "          const element = document.querySelector('#df-e5f2357b-d6bc-47db-828d-dd0dbc7d88ab');\n",
              "          const dataTable =\n",
              "            await google.colab.kernel.invokeFunction('convertToInteractive',\n",
              "                                                     [key], {});\n",
              "          if (!dataTable) return;\n",
              "\n",
              "          const docLinkHtml = 'Like what you see? Visit the ' +\n",
              "            '<a target=\"_blank\" href=https://colab.research.google.com/notebooks/data_table.ipynb>data table notebook</a>'\n",
              "            + ' to learn more about interactive tables.';\n",
              "          element.innerHTML = '';\n",
              "          dataTable['output_type'] = 'display_data';\n",
              "          await google.colab.output.renderOutput(dataTable, element);\n",
              "          const docLink = document.createElement('div');\n",
              "          docLink.innerHTML = docLinkHtml;\n",
              "          element.appendChild(docLink);\n",
              "        }\n",
              "      </script>\n",
              "    </div>\n",
              "  </div>\n",
              "  "
            ]
          },
          "metadata": {},
          "execution_count": 12
        }
      ],
      "source": [
        "# Vérifions s'il y a des PatientId dupliqués: \n",
        "cp_duplicate = cp[cp['PatientId'].duplicated()==True]\n",
        "cp_duplicate"
      ]
    },
    {
      "cell_type": "markdown",
      "metadata": {
        "id": "8oOuy_hyVHBT"
      },
      "source": [
        "# Interpretation:\n",
        "Il y a des patient qui ont demande plusieurs rendez-vous.  "
      ]
    },
    {
      "cell_type": "code",
      "execution_count": null,
      "metadata": {
        "colab": {
          "base_uri": "https://localhost:8080/"
        },
        "id": "g26Cv5EDU4K-",
        "outputId": "1e338bcf-c6e9-4e25-9e2f-e2d502dfcbf0"
      },
      "outputs": [
        {
          "output_type": "execute_result",
          "data": {
            "text/plain": [
              "24379"
            ]
          },
          "metadata": {},
          "execution_count": 13
        }
      ],
      "source": [
        "#Retrouvons le nombre de patients ayant eu plusieurs rendez-vous:\n",
        "len(list(cp_duplicate['PatientId'].unique()))"
      ]
    },
    {
      "cell_type": "markdown",
      "metadata": {
        "id": "7ugNuoCQXcQv"
      },
      "source": [
        "Cela nous montre qu'il y a eu 24379 patient ayant plusieurs rendez-vous."
      ]
    },
    {
      "cell_type": "code",
      "execution_count": null,
      "metadata": {
        "colab": {
          "base_uri": "https://localhost:8080/"
        },
        "id": "dWKnsVbZWySD",
        "outputId": "feef77d5-44ed-40e8-9307-5bbebee7fd01"
      },
      "outputs": [
        {
          "output_type": "stream",
          "name": "stdout",
          "text": [
            "<class 'pandas.core.frame.DataFrame'>\n",
            "RangeIndex: 110527 entries, 0 to 110526\n",
            "Data columns (total 14 columns):\n",
            " #   Column          Non-Null Count   Dtype              \n",
            "---  ------          --------------   -----              \n",
            " 0   PatientId       110527 non-null  int64              \n",
            " 1   AppointmentID   110527 non-null  int64              \n",
            " 2   Gender          110527 non-null  object             \n",
            " 3   ScheduledDay    110527 non-null  datetime64[ns, UTC]\n",
            " 4   AppointmentDay  110527 non-null  datetime64[ns]     \n",
            " 5   Age             110527 non-null  int64              \n",
            " 6   Neighbourhood   110527 non-null  object             \n",
            " 7   Scholarship     110527 non-null  int64              \n",
            " 8   Hipertension    110527 non-null  int64              \n",
            " 9   Diabetes        110527 non-null  int64              \n",
            " 10  Alcoholism      110527 non-null  int64              \n",
            " 11  Handcap         110527 non-null  int64              \n",
            " 12  SMS_received    110527 non-null  int64              \n",
            " 13  No-show         110527 non-null  object             \n",
            "dtypes: datetime64[ns, UTC](1), datetime64[ns](1), int64(9), object(3)\n",
            "memory usage: 11.8+ MB\n"
          ]
        }
      ],
      "source": [
        "# Verifions les types de donnees:\n",
        "cp.info()"
      ]
    },
    {
      "cell_type": "code",
      "execution_count": null,
      "metadata": {
        "colab": {
          "base_uri": "https://localhost:8080/",
          "height": 590
        },
        "id": "F90mp0lMZ1SP",
        "outputId": "48761a07-2557-4b1f-bd78-ee02be836e91"
      },
      "outputs": [
        {
          "output_type": "execute_result",
          "data": {
            "text/plain": [
              "           PatientId  AppointmentID               ScheduledDay  Gender  \\\n",
              "count   1.105270e+05   1.105270e+05                     110527  110527   \n",
              "unique           NaN            NaN                     103549       2   \n",
              "top              NaN            NaN  2016-05-06 07:09:54+00:00       F   \n",
              "freq             NaN            NaN                         24   71840   \n",
              "first            NaN            NaN  2015-11-10 07:13:56+00:00     NaN   \n",
              "last             NaN            NaN  2016-06-08 20:07:23+00:00     NaN   \n",
              "mean    1.474963e+14   5.675305e+06                        NaN     NaN   \n",
              "std     2.560949e+14   7.129575e+04                        NaN     NaN   \n",
              "min     3.921700e+04   5.030230e+06                        NaN     NaN   \n",
              "25%     4.172614e+12   5.640286e+06                        NaN     NaN   \n",
              "50%     3.173184e+13   5.680573e+06                        NaN     NaN   \n",
              "75%     9.439172e+13   5.725524e+06                        NaN     NaN   \n",
              "max     9.999816e+14   5.790484e+06                        NaN     NaN   \n",
              "\n",
              "             AppointmentDay            Age   Neighbourhood    Scholarship  \\\n",
              "count                110527  110527.000000          110527  110527.000000   \n",
              "unique                   27            NaN              81            NaN   \n",
              "top     2016-06-06 00:00:00            NaN  JARDIM CAMBURI            NaN   \n",
              "freq                   4692            NaN            7717            NaN   \n",
              "first   2016-04-29 00:00:00            NaN             NaN            NaN   \n",
              "last    2016-06-08 00:00:00            NaN             NaN            NaN   \n",
              "mean                    NaN      37.088874             NaN       0.098266   \n",
              "std                     NaN      23.110205             NaN       0.297675   \n",
              "min                     NaN      -1.000000             NaN       0.000000   \n",
              "25%                     NaN      18.000000             NaN       0.000000   \n",
              "50%                     NaN      37.000000             NaN       0.000000   \n",
              "75%                     NaN      55.000000             NaN       0.000000   \n",
              "max                     NaN     115.000000             NaN       1.000000   \n",
              "\n",
              "         Hipertension       Diabetes     Alcoholism        Handcap  \\\n",
              "count   110527.000000  110527.000000  110527.000000  110527.000000   \n",
              "unique            NaN            NaN            NaN            NaN   \n",
              "top               NaN            NaN            NaN            NaN   \n",
              "freq              NaN            NaN            NaN            NaN   \n",
              "first             NaN            NaN            NaN            NaN   \n",
              "last              NaN            NaN            NaN            NaN   \n",
              "mean         0.197246       0.071865       0.030400       0.022248   \n",
              "std          0.397921       0.258265       0.171686       0.161543   \n",
              "min          0.000000       0.000000       0.000000       0.000000   \n",
              "25%          0.000000       0.000000       0.000000       0.000000   \n",
              "50%          0.000000       0.000000       0.000000       0.000000   \n",
              "75%          0.000000       0.000000       0.000000       0.000000   \n",
              "max          1.000000       1.000000       1.000000       4.000000   \n",
              "\n",
              "         SMS_received No-show  \n",
              "count   110527.000000  110527  \n",
              "unique            NaN       2  \n",
              "top               NaN      No  \n",
              "freq              NaN   88208  \n",
              "first             NaN     NaN  \n",
              "last              NaN     NaN  \n",
              "mean         0.321026     NaN  \n",
              "std          0.466873     NaN  \n",
              "min          0.000000     NaN  \n",
              "25%          0.000000     NaN  \n",
              "50%          0.000000     NaN  \n",
              "75%          1.000000     NaN  \n",
              "max          1.000000     NaN  "
            ],
            "text/html": [
              "\n",
              "  <div id=\"df-c4cf4f5f-1596-4b8f-a08e-fd6cb7505a26\">\n",
              "    <div class=\"colab-df-container\">\n",
              "      <div>\n",
              "<style scoped>\n",
              "    .dataframe tbody tr th:only-of-type {\n",
              "        vertical-align: middle;\n",
              "    }\n",
              "\n",
              "    .dataframe tbody tr th {\n",
              "        vertical-align: top;\n",
              "    }\n",
              "\n",
              "    .dataframe thead th {\n",
              "        text-align: right;\n",
              "    }\n",
              "</style>\n",
              "<table border=\"1\" class=\"dataframe\">\n",
              "  <thead>\n",
              "    <tr style=\"text-align: right;\">\n",
              "      <th></th>\n",
              "      <th>PatientId</th>\n",
              "      <th>AppointmentID</th>\n",
              "      <th>ScheduledDay</th>\n",
              "      <th>Gender</th>\n",
              "      <th>AppointmentDay</th>\n",
              "      <th>Age</th>\n",
              "      <th>Neighbourhood</th>\n",
              "      <th>Scholarship</th>\n",
              "      <th>Hipertension</th>\n",
              "      <th>Diabetes</th>\n",
              "      <th>Alcoholism</th>\n",
              "      <th>Handcap</th>\n",
              "      <th>SMS_received</th>\n",
              "      <th>No-show</th>\n",
              "    </tr>\n",
              "  </thead>\n",
              "  <tbody>\n",
              "    <tr>\n",
              "      <th>count</th>\n",
              "      <td>1.105270e+05</td>\n",
              "      <td>1.105270e+05</td>\n",
              "      <td>110527</td>\n",
              "      <td>110527</td>\n",
              "      <td>110527</td>\n",
              "      <td>110527.000000</td>\n",
              "      <td>110527</td>\n",
              "      <td>110527.000000</td>\n",
              "      <td>110527.000000</td>\n",
              "      <td>110527.000000</td>\n",
              "      <td>110527.000000</td>\n",
              "      <td>110527.000000</td>\n",
              "      <td>110527.000000</td>\n",
              "      <td>110527</td>\n",
              "    </tr>\n",
              "    <tr>\n",
              "      <th>unique</th>\n",
              "      <td>NaN</td>\n",
              "      <td>NaN</td>\n",
              "      <td>103549</td>\n",
              "      <td>2</td>\n",
              "      <td>27</td>\n",
              "      <td>NaN</td>\n",
              "      <td>81</td>\n",
              "      <td>NaN</td>\n",
              "      <td>NaN</td>\n",
              "      <td>NaN</td>\n",
              "      <td>NaN</td>\n",
              "      <td>NaN</td>\n",
              "      <td>NaN</td>\n",
              "      <td>2</td>\n",
              "    </tr>\n",
              "    <tr>\n",
              "      <th>top</th>\n",
              "      <td>NaN</td>\n",
              "      <td>NaN</td>\n",
              "      <td>2016-05-06 07:09:54+00:00</td>\n",
              "      <td>F</td>\n",
              "      <td>2016-06-06 00:00:00</td>\n",
              "      <td>NaN</td>\n",
              "      <td>JARDIM CAMBURI</td>\n",
              "      <td>NaN</td>\n",
              "      <td>NaN</td>\n",
              "      <td>NaN</td>\n",
              "      <td>NaN</td>\n",
              "      <td>NaN</td>\n",
              "      <td>NaN</td>\n",
              "      <td>No</td>\n",
              "    </tr>\n",
              "    <tr>\n",
              "      <th>freq</th>\n",
              "      <td>NaN</td>\n",
              "      <td>NaN</td>\n",
              "      <td>24</td>\n",
              "      <td>71840</td>\n",
              "      <td>4692</td>\n",
              "      <td>NaN</td>\n",
              "      <td>7717</td>\n",
              "      <td>NaN</td>\n",
              "      <td>NaN</td>\n",
              "      <td>NaN</td>\n",
              "      <td>NaN</td>\n",
              "      <td>NaN</td>\n",
              "      <td>NaN</td>\n",
              "      <td>88208</td>\n",
              "    </tr>\n",
              "    <tr>\n",
              "      <th>first</th>\n",
              "      <td>NaN</td>\n",
              "      <td>NaN</td>\n",
              "      <td>2015-11-10 07:13:56+00:00</td>\n",
              "      <td>NaN</td>\n",
              "      <td>2016-04-29 00:00:00</td>\n",
              "      <td>NaN</td>\n",
              "      <td>NaN</td>\n",
              "      <td>NaN</td>\n",
              "      <td>NaN</td>\n",
              "      <td>NaN</td>\n",
              "      <td>NaN</td>\n",
              "      <td>NaN</td>\n",
              "      <td>NaN</td>\n",
              "      <td>NaN</td>\n",
              "    </tr>\n",
              "    <tr>\n",
              "      <th>last</th>\n",
              "      <td>NaN</td>\n",
              "      <td>NaN</td>\n",
              "      <td>2016-06-08 20:07:23+00:00</td>\n",
              "      <td>NaN</td>\n",
              "      <td>2016-06-08 00:00:00</td>\n",
              "      <td>NaN</td>\n",
              "      <td>NaN</td>\n",
              "      <td>NaN</td>\n",
              "      <td>NaN</td>\n",
              "      <td>NaN</td>\n",
              "      <td>NaN</td>\n",
              "      <td>NaN</td>\n",
              "      <td>NaN</td>\n",
              "      <td>NaN</td>\n",
              "    </tr>\n",
              "    <tr>\n",
              "      <th>mean</th>\n",
              "      <td>1.474963e+14</td>\n",
              "      <td>5.675305e+06</td>\n",
              "      <td>NaN</td>\n",
              "      <td>NaN</td>\n",
              "      <td>NaN</td>\n",
              "      <td>37.088874</td>\n",
              "      <td>NaN</td>\n",
              "      <td>0.098266</td>\n",
              "      <td>0.197246</td>\n",
              "      <td>0.071865</td>\n",
              "      <td>0.030400</td>\n",
              "      <td>0.022248</td>\n",
              "      <td>0.321026</td>\n",
              "      <td>NaN</td>\n",
              "    </tr>\n",
              "    <tr>\n",
              "      <th>std</th>\n",
              "      <td>2.560949e+14</td>\n",
              "      <td>7.129575e+04</td>\n",
              "      <td>NaN</td>\n",
              "      <td>NaN</td>\n",
              "      <td>NaN</td>\n",
              "      <td>23.110205</td>\n",
              "      <td>NaN</td>\n",
              "      <td>0.297675</td>\n",
              "      <td>0.397921</td>\n",
              "      <td>0.258265</td>\n",
              "      <td>0.171686</td>\n",
              "      <td>0.161543</td>\n",
              "      <td>0.466873</td>\n",
              "      <td>NaN</td>\n",
              "    </tr>\n",
              "    <tr>\n",
              "      <th>min</th>\n",
              "      <td>3.921700e+04</td>\n",
              "      <td>5.030230e+06</td>\n",
              "      <td>NaN</td>\n",
              "      <td>NaN</td>\n",
              "      <td>NaN</td>\n",
              "      <td>-1.000000</td>\n",
              "      <td>NaN</td>\n",
              "      <td>0.000000</td>\n",
              "      <td>0.000000</td>\n",
              "      <td>0.000000</td>\n",
              "      <td>0.000000</td>\n",
              "      <td>0.000000</td>\n",
              "      <td>0.000000</td>\n",
              "      <td>NaN</td>\n",
              "    </tr>\n",
              "    <tr>\n",
              "      <th>25%</th>\n",
              "      <td>4.172614e+12</td>\n",
              "      <td>5.640286e+06</td>\n",
              "      <td>NaN</td>\n",
              "      <td>NaN</td>\n",
              "      <td>NaN</td>\n",
              "      <td>18.000000</td>\n",
              "      <td>NaN</td>\n",
              "      <td>0.000000</td>\n",
              "      <td>0.000000</td>\n",
              "      <td>0.000000</td>\n",
              "      <td>0.000000</td>\n",
              "      <td>0.000000</td>\n",
              "      <td>0.000000</td>\n",
              "      <td>NaN</td>\n",
              "    </tr>\n",
              "    <tr>\n",
              "      <th>50%</th>\n",
              "      <td>3.173184e+13</td>\n",
              "      <td>5.680573e+06</td>\n",
              "      <td>NaN</td>\n",
              "      <td>NaN</td>\n",
              "      <td>NaN</td>\n",
              "      <td>37.000000</td>\n",
              "      <td>NaN</td>\n",
              "      <td>0.000000</td>\n",
              "      <td>0.000000</td>\n",
              "      <td>0.000000</td>\n",
              "      <td>0.000000</td>\n",
              "      <td>0.000000</td>\n",
              "      <td>0.000000</td>\n",
              "      <td>NaN</td>\n",
              "    </tr>\n",
              "    <tr>\n",
              "      <th>75%</th>\n",
              "      <td>9.439172e+13</td>\n",
              "      <td>5.725524e+06</td>\n",
              "      <td>NaN</td>\n",
              "      <td>NaN</td>\n",
              "      <td>NaN</td>\n",
              "      <td>55.000000</td>\n",
              "      <td>NaN</td>\n",
              "      <td>0.000000</td>\n",
              "      <td>0.000000</td>\n",
              "      <td>0.000000</td>\n",
              "      <td>0.000000</td>\n",
              "      <td>0.000000</td>\n",
              "      <td>1.000000</td>\n",
              "      <td>NaN</td>\n",
              "    </tr>\n",
              "    <tr>\n",
              "      <th>max</th>\n",
              "      <td>9.999816e+14</td>\n",
              "      <td>5.790484e+06</td>\n",
              "      <td>NaN</td>\n",
              "      <td>NaN</td>\n",
              "      <td>NaN</td>\n",
              "      <td>115.000000</td>\n",
              "      <td>NaN</td>\n",
              "      <td>1.000000</td>\n",
              "      <td>1.000000</td>\n",
              "      <td>1.000000</td>\n",
              "      <td>1.000000</td>\n",
              "      <td>4.000000</td>\n",
              "      <td>1.000000</td>\n",
              "      <td>NaN</td>\n",
              "    </tr>\n",
              "  </tbody>\n",
              "</table>\n",
              "</div>\n",
              "      <button class=\"colab-df-convert\" onclick=\"convertToInteractive('df-c4cf4f5f-1596-4b8f-a08e-fd6cb7505a26')\"\n",
              "              title=\"Convert this dataframe to an interactive table.\"\n",
              "              style=\"display:none;\">\n",
              "        \n",
              "  <svg xmlns=\"http://www.w3.org/2000/svg\" height=\"24px\"viewBox=\"0 0 24 24\"\n",
              "       width=\"24px\">\n",
              "    <path d=\"M0 0h24v24H0V0z\" fill=\"none\"/>\n",
              "    <path d=\"M18.56 5.44l.94 2.06.94-2.06 2.06-.94-2.06-.94-.94-2.06-.94 2.06-2.06.94zm-11 1L8.5 8.5l.94-2.06 2.06-.94-2.06-.94L8.5 2.5l-.94 2.06-2.06.94zm10 10l.94 2.06.94-2.06 2.06-.94-2.06-.94-.94-2.06-.94 2.06-2.06.94z\"/><path d=\"M17.41 7.96l-1.37-1.37c-.4-.4-.92-.59-1.43-.59-.52 0-1.04.2-1.43.59L10.3 9.45l-7.72 7.72c-.78.78-.78 2.05 0 2.83L4 21.41c.39.39.9.59 1.41.59.51 0 1.02-.2 1.41-.59l7.78-7.78 2.81-2.81c.8-.78.8-2.07 0-2.86zM5.41 20L4 18.59l7.72-7.72 1.47 1.35L5.41 20z\"/>\n",
              "  </svg>\n",
              "      </button>\n",
              "      \n",
              "  <style>\n",
              "    .colab-df-container {\n",
              "      display:flex;\n",
              "      flex-wrap:wrap;\n",
              "      gap: 12px;\n",
              "    }\n",
              "\n",
              "    .colab-df-convert {\n",
              "      background-color: #E8F0FE;\n",
              "      border: none;\n",
              "      border-radius: 50%;\n",
              "      cursor: pointer;\n",
              "      display: none;\n",
              "      fill: #1967D2;\n",
              "      height: 32px;\n",
              "      padding: 0 0 0 0;\n",
              "      width: 32px;\n",
              "    }\n",
              "\n",
              "    .colab-df-convert:hover {\n",
              "      background-color: #E2EBFA;\n",
              "      box-shadow: 0px 1px 2px rgba(60, 64, 67, 0.3), 0px 1px 3px 1px rgba(60, 64, 67, 0.15);\n",
              "      fill: #174EA6;\n",
              "    }\n",
              "\n",
              "    [theme=dark] .colab-df-convert {\n",
              "      background-color: #3B4455;\n",
              "      fill: #D2E3FC;\n",
              "    }\n",
              "\n",
              "    [theme=dark] .colab-df-convert:hover {\n",
              "      background-color: #434B5C;\n",
              "      box-shadow: 0px 1px 3px 1px rgba(0, 0, 0, 0.15);\n",
              "      filter: drop-shadow(0px 1px 2px rgba(0, 0, 0, 0.3));\n",
              "      fill: #FFFFFF;\n",
              "    }\n",
              "  </style>\n",
              "\n",
              "      <script>\n",
              "        const buttonEl =\n",
              "          document.querySelector('#df-c4cf4f5f-1596-4b8f-a08e-fd6cb7505a26 button.colab-df-convert');\n",
              "        buttonEl.style.display =\n",
              "          google.colab.kernel.accessAllowed ? 'block' : 'none';\n",
              "\n",
              "        async function convertToInteractive(key) {\n",
              "          const element = document.querySelector('#df-c4cf4f5f-1596-4b8f-a08e-fd6cb7505a26');\n",
              "          const dataTable =\n",
              "            await google.colab.kernel.invokeFunction('convertToInteractive',\n",
              "                                                     [key], {});\n",
              "          if (!dataTable) return;\n",
              "\n",
              "          const docLinkHtml = 'Like what you see? Visit the ' +\n",
              "            '<a target=\"_blank\" href=https://colab.research.google.com/notebooks/data_table.ipynb>data table notebook</a>'\n",
              "            + ' to learn more about interactive tables.';\n",
              "          element.innerHTML = '';\n",
              "          dataTable['output_type'] = 'display_data';\n",
              "          await google.colab.output.renderOutput(dataTable, element);\n",
              "          const docLink = document.createElement('div');\n",
              "          docLink.innerHTML = docLinkHtml;\n",
              "          element.appendChild(docLink);\n",
              "        }\n",
              "      </script>\n",
              "    </div>\n",
              "  </div>\n",
              "  "
            ]
          },
          "metadata": {},
          "execution_count": 15
        }
      ],
      "source": [
        "#Observation des donnees agregees\n",
        "cp1 = cp[['PatientId', 'AppointmentID','ScheduledDay', 'Gender', 'AppointmentDay','Age', 'Neighbourhood', 'Scholarship', 'Hipertension','Diabetes',\t'Alcoholism',\t'Handcap',\t'SMS_received',\t'No-show']]\n",
        "cp1.describe(include='all')"
      ]
    },
    {
      "cell_type": "markdown",
      "metadata": {
        "id": "wGmZmIwijMWe"
      },
      "source": [
        "# Interpretation:\n",
        "- Les rendez-vous sont pris entre la date du **29 Avril 2016**  au **08 Juin 2016**. La date de rendez-vous la plus frequente est le **06 Juin 2016** qui apparait **4692** fois.\t \n",
        "- Les dates de reservations sont comprises entre le **10 Novembre 2015** et **08 Juin 2016**. La date de reservations la plus frequente est le **06 Mai 2016** qui apparait **24** fois.\n",
        "- Le quartier dans lequel il y a plus de rendez-vous pour consultation est **JARDIM CAMBURI** avec **7717** occurences.\n",
        "- L'**age moyen** des patients est **37 ans**. **25%** des patients ont moins de **18 ans** avec le patient le plus jeunes a**-1 an** ce qui n'est pas possible car un homme ne peut avoir un age negatif. Le plus viens a **115 ans**.\n",
        "- Un patient est soit un handicapé, soit il ne l'est pas. Donc la colonnes des handicapes est une colonne categorielle de deux classes **0** ou **1**. Donc, le maximum **4** ici represente une **valeur aberrante.**"
      ]
    },
    {
      "cell_type": "code",
      "execution_count": null,
      "metadata": {
        "id": "EuiplgK6iCgX"
      },
      "outputs": [],
      "source": [
        "cp3 = cp1"
      ]
    },
    {
      "cell_type": "code",
      "execution_count": null,
      "metadata": {
        "colab": {
          "base_uri": "https://localhost:8080/",
          "height": 1000
        },
        "id": "dEb081oOhtUp",
        "outputId": "220b1e2f-fe18-4011-cb9f-c9e880e96b92"
      },
      "outputs": [
        {
          "output_type": "execute_result",
          "data": {
            "text/plain": [
              "array([[<matplotlib.axes._subplots.AxesSubplot object at 0x7fb646a4fdd0>,\n",
              "        <matplotlib.axes._subplots.AxesSubplot object at 0x7fb646a373d0>,\n",
              "        <matplotlib.axes._subplots.AxesSubplot object at 0x7fb6469b29d0>],\n",
              "       [<matplotlib.axes._subplots.AxesSubplot object at 0x7fb646968b90>,\n",
              "        <matplotlib.axes._subplots.AxesSubplot object at 0x7fb646926650>,\n",
              "        <matplotlib.axes._subplots.AxesSubplot object at 0x7fb6468ddc50>],\n",
              "       [<matplotlib.axes._subplots.AxesSubplot object at 0x7fb6468a0310>,\n",
              "        <matplotlib.axes._subplots.AxesSubplot object at 0x7fb6469856d0>,\n",
              "        <matplotlib.axes._subplots.AxesSubplot object at 0x7fb646985790>],\n",
              "       [<matplotlib.axes._subplots.AxesSubplot object at 0x7fb64680a810>,\n",
              "        <matplotlib.axes._subplots.AxesSubplot object at 0x7fb646783350>,\n",
              "        <matplotlib.axes._subplots.AxesSubplot object at 0x7fb6467b9950>]],\n",
              "      dtype=object)"
            ]
          },
          "metadata": {},
          "execution_count": 17
        },
        {
          "output_type": "display_data",
          "data": {
            "text/plain": [
              "<Figure size 1152x1008 with 12 Axes>"
            ],
            "image/png": "[encoded data removed]"
          },
          "metadata": {
            "needs_background": "light"
          }
        }
      ],
      "source": [
        "#Observation de la distribution:\n",
        "cp3.hist(figsize=(16,14))"
      ]
    },
    {
      "cell_type": "markdown",
      "metadata": {
        "id": "ifiiKup3drJv"
      },
      "source": [
        "# Interpretation:\n",
        "- Tres peu de patients sont alcooliques: approximativement 4000 patients alcooliques.\n",
        "- Tres peu de patients sont **diabétiques** bien qu'il y ait un peu plus de diabétiques que d'alcooliques, **approximativement le double des alcooliques**: soit **8000 patients**. Puisque les bières ont une teneur en sucre très élevée, nous sommes tentés de croire que bon nombre des patients atteints de diabète sont alcooliques.\n",
        "- Approximativement **21000 patients** sont **hypertendus**. \n",
        "- Environ **2000 patients** sont atteints d'un **handicape**.\n",
        "- Environ **36000 patients** ont reçus au moins un **SMS**. Cela nous mène vers le soupçon de conclusion qu'approximativement toutes les personnes atteintes **d'une maladie ou un handicapes** ont reçu au **moins un message**.\n",
        "- Pres de **90000 fois les patients** se sont presentes au rendez-vous.\n",
        "- Environ **10000 patients** ont recu une bourse de traitement ou de suivi bresilienne **Bolsa Família.**"
      ]
    },
    {
      "cell_type": "code",
      "execution_count": null,
      "metadata": {
        "colab": {
          "base_uri": "https://localhost:8080/"
        },
        "id": "XZGlBXihaLAU",
        "outputId": "51b680a6-5cde-4a26-e8fb-3b5ce48a2bd2"
      },
      "outputs": [
        {
          "output_type": "stream",
          "name": "stdout",
          "text": [
            "Le nombre de patients ayant moin d'un an est: 1.\n",
            "Le nombre de patients ayant un age nul est 3539.\n",
            "Le nombre de patients ayant l'age de 115 est 5.\n",
            "Le nombre de patients ayant au moins 100 ans est 11.\n"
          ]
        }
      ],
      "source": [
        "print(\"Le nombre de patients ayant moin d'un an est: {}.\".format(cp3[cp3['Age'] == -1].shape[0]))\n",
        "print(\"Le nombre de patients ayant un age nul est {}.\".format(cp3[cp3['Age'] == 0].shape[0]))\n",
        "print(\"Le nombre de patients ayant l'age de 115 est {}.\".format(cp3[cp3['Age'] ==115].shape[0]))\n",
        "print(\"Le nombre de patients ayant au moins 100 ans est {}.\".format(cp3[cp3['Age'] >= 100].shape[0]))"
      ]
    },
    {
      "cell_type": "code",
      "execution_count": null,
      "metadata": {
        "colab": {
          "base_uri": "https://localhost:8080/",
          "height": 679
        },
        "id": "3KYdyhVBawCR",
        "outputId": "d4a6bfd0-e385-48d2-de0a-872a9f0fa2ef"
      },
      "outputs": [
        {
          "output_type": "execute_result",
          "data": {
            "text/plain": [
              "              PatientId  AppointmentID              ScheduledDay Gender  \\\n",
              "0        29872499824296        5642903 2016-04-29 18:38:08+00:00      F   \n",
              "1       558997776694438        5642503 2016-04-29 16:08:27+00:00      M   \n",
              "2         4262962299951        5642549 2016-04-29 16:19:04+00:00      F   \n",
              "3          867951213174        5642828 2016-04-29 17:29:31+00:00      F   \n",
              "4         8841186448183        5642494 2016-04-29 16:07:23+00:00      F   \n",
              "...                 ...            ...                       ...    ...   \n",
              "110522    2572134369293        5651768 2016-05-03 09:15:35+00:00      F   \n",
              "110523    3596266328735        5650093 2016-05-03 07:27:33+00:00      F   \n",
              "110524   15576631729893        5630692 2016-04-27 16:03:52+00:00      F   \n",
              "110525   92134931435557        5630323 2016-04-27 15:09:23+00:00      F   \n",
              "110526  377511518121127        5629448 2016-04-27 13:30:56+00:00      F   \n",
              "\n",
              "       AppointmentDay  Age      Neighbourhood  Scholarship  Hipertension  \\\n",
              "0          2016-04-29   62    JARDIM DA PENHA            0             1   \n",
              "1          2016-04-29   56    JARDIM DA PENHA            0             0   \n",
              "2          2016-04-29   62      MATA DA PRAIA            0             0   \n",
              "3          2016-04-29    8  PONTAL DE CAMBURI            0             0   \n",
              "4          2016-04-29   56    JARDIM DA PENHA            0             1   \n",
              "...               ...  ...                ...          ...           ...   \n",
              "110522     2016-06-07   56        MARIA ORTIZ            0             0   \n",
              "110523     2016-06-07   51        MARIA ORTIZ            0             0   \n",
              "110524     2016-06-07   21        MARIA ORTIZ            0             0   \n",
              "110525     2016-06-07   38        MARIA ORTIZ            0             0   \n",
              "110526     2016-06-07   54        MARIA ORTIZ            0             0   \n",
              "\n",
              "        Diabetes  Alcoholism  Handcap  SMS_received No-show  \n",
              "0              0           0        0             0      No  \n",
              "1              0           0        0             0      No  \n",
              "2              0           0        0             0      No  \n",
              "3              0           0        0             0      No  \n",
              "4              1           0        0             0      No  \n",
              "...          ...         ...      ...           ...     ...  \n",
              "110522         0           0        0             1      No  \n",
              "110523         0           0        0             1      No  \n",
              "110524         0           0        0             1      No  \n",
              "110525         0           0        0             1      No  \n",
              "110526         0           0        0             1      No  \n",
              "\n",
              "[106987 rows x 14 columns]"
            ],
            "text/html": [
              "\n",
              "  <div id=\"df-43907ed6-6d38-4e3f-be63-e12515b4a616\">\n",
              "    <div class=\"colab-df-container\">\n",
              "      <div>\n",
              "<style scoped>\n",
              "    .dataframe tbody tr th:only-of-type {\n",
              "        vertical-align: middle;\n",
              "    }\n",
              "\n",
              "    .dataframe tbody tr th {\n",
              "        vertical-align: top;\n",
              "    }\n",
              "\n",
              "    .dataframe thead th {\n",
              "        text-align: right;\n",
              "    }\n",
              "</style>\n",
              "<table border=\"1\" class=\"dataframe\">\n",
              "  <thead>\n",
              "    <tr style=\"text-align: right;\">\n",
              "      <th></th>\n",
              "      <th>PatientId</th>\n",
              "      <th>AppointmentID</th>\n",
              "      <th>ScheduledDay</th>\n",
              "      <th>Gender</th>\n",
              "      <th>AppointmentDay</th>\n",
              "      <th>Age</th>\n",
              "      <th>Neighbourhood</th>\n",
              "      <th>Scholarship</th>\n",
              "      <th>Hipertension</th>\n",
              "      <th>Diabetes</th>\n",
              "      <th>Alcoholism</th>\n",
              "      <th>Handcap</th>\n",
              "      <th>SMS_received</th>\n",
              "      <th>No-show</th>\n",
              "    </tr>\n",
              "  </thead>\n",
              "  <tbody>\n",
              "    <tr>\n",
              "      <th>0</th>\n",
              "      <td>29872499824296</td>\n",
              "      <td>5642903</td>\n",
              "      <td>2016-04-29 18:38:08+00:00</td>\n",
              "      <td>F</td>\n",
              "      <td>2016-04-29</td>\n",
              "      <td>62</td>\n",
              "      <td>JARDIM DA PENHA</td>\n",
              "      <td>0</td>\n",
              "      <td>1</td>\n",
              "      <td>0</td>\n",
              "      <td>0</td>\n",
              "      <td>0</td>\n",
              "      <td>0</td>\n",
              "      <td>No</td>\n",
              "    </tr>\n",
              "    <tr>\n",
              "      <th>1</th>\n",
              "      <td>558997776694438</td>\n",
              "      <td>5642503</td>\n",
              "      <td>2016-04-29 16:08:27+00:00</td>\n",
              "      <td>M</td>\n",
              "      <td>2016-04-29</td>\n",
              "      <td>56</td>\n",
              "      <td>JARDIM DA PENHA</td>\n",
              "      <td>0</td>\n",
              "      <td>0</td>\n",
              "      <td>0</td>\n",
              "      <td>0</td>\n",
              "      <td>0</td>\n",
              "      <td>0</td>\n",
              "      <td>No</td>\n",
              "    </tr>\n",
              "    <tr>\n",
              "      <th>2</th>\n",
              "      <td>4262962299951</td>\n",
              "      <td>5642549</td>\n",
              "      <td>2016-04-29 16:19:04+00:00</td>\n",
              "      <td>F</td>\n",
              "      <td>2016-04-29</td>\n",
              "      <td>62</td>\n",
              "      <td>MATA DA PRAIA</td>\n",
              "      <td>0</td>\n",
              "      <td>0</td>\n",
              "      <td>0</td>\n",
              "      <td>0</td>\n",
              "      <td>0</td>\n",
              "      <td>0</td>\n",
              "      <td>No</td>\n",
              "    </tr>\n",
              "    <tr>\n",
              "      <th>3</th>\n",
              "      <td>867951213174</td>\n",
              "      <td>5642828</td>\n",
              "      <td>2016-04-29 17:29:31+00:00</td>\n",
              "      <td>F</td>\n",
              "      <td>2016-04-29</td>\n",
              "      <td>8</td>\n",
              "      <td>PONTAL DE CAMBURI</td>\n",
              "      <td>0</td>\n",
              "      <td>0</td>\n",
              "      <td>0</td>\n",
              "      <td>0</td>\n",
              "      <td>0</td>\n",
              "      <td>0</td>\n",
              "      <td>No</td>\n",
              "    </tr>\n",
              "    <tr>\n",
              "      <th>4</th>\n",
              "      <td>8841186448183</td>\n",
              "      <td>5642494</td>\n",
              "      <td>2016-04-29 16:07:23+00:00</td>\n",
              "      <td>F</td>\n",
              "      <td>2016-04-29</td>\n",
              "      <td>56</td>\n",
              "      <td>JARDIM DA PENHA</td>\n",
              "      <td>0</td>\n",
              "      <td>1</td>\n",
              "      <td>1</td>\n",
              "      <td>0</td>\n",
              "      <td>0</td>\n",
              "      <td>0</td>\n",
              "      <td>No</td>\n",
              "    </tr>\n",
              "    <tr>\n",
              "      <th>...</th>\n",
              "      <td>...</td>\n",
              "      <td>...</td>\n",
              "      <td>...</td>\n",
              "      <td>...</td>\n",
              "      <td>...</td>\n",
              "      <td>...</td>\n",
              "      <td>...</td>\n",
              "      <td>...</td>\n",
              "      <td>...</td>\n",
              "      <td>...</td>\n",
              "      <td>...</td>\n",
              "      <td>...</td>\n",
              "      <td>...</td>\n",
              "      <td>...</td>\n",
              "    </tr>\n",
              "    <tr>\n",
              "      <th>110522</th>\n",
              "      <td>2572134369293</td>\n",
              "      <td>5651768</td>\n",
              "      <td>2016-05-03 09:15:35+00:00</td>\n",
              "      <td>F</td>\n",
              "      <td>2016-06-07</td>\n",
              "      <td>56</td>\n",
              "      <td>MARIA ORTIZ</td>\n",
              "      <td>0</td>\n",
              "      <td>0</td>\n",
              "      <td>0</td>\n",
              "      <td>0</td>\n",
              "      <td>0</td>\n",
              "      <td>1</td>\n",
              "      <td>No</td>\n",
              "    </tr>\n",
              "    <tr>\n",
              "      <th>110523</th>\n",
              "      <td>3596266328735</td>\n",
              "      <td>5650093</td>\n",
              "      <td>2016-05-03 07:27:33+00:00</td>\n",
              "      <td>F</td>\n",
              "      <td>2016-06-07</td>\n",
              "      <td>51</td>\n",
              "      <td>MARIA ORTIZ</td>\n",
              "      <td>0</td>\n",
              "      <td>0</td>\n",
              "      <td>0</td>\n",
              "      <td>0</td>\n",
              "      <td>0</td>\n",
              "      <td>1</td>\n",
              "      <td>No</td>\n",
              "    </tr>\n",
              "    <tr>\n",
              "      <th>110524</th>\n",
              "      <td>15576631729893</td>\n",
              "      <td>5630692</td>\n",
              "      <td>2016-04-27 16:03:52+00:00</td>\n",
              "      <td>F</td>\n",
              "      <td>2016-06-07</td>\n",
              "      <td>21</td>\n",
              "      <td>MARIA ORTIZ</td>\n",
              "      <td>0</td>\n",
              "      <td>0</td>\n",
              "      <td>0</td>\n",
              "      <td>0</td>\n",
              "      <td>0</td>\n",
              "      <td>1</td>\n",
              "      <td>No</td>\n",
              "    </tr>\n",
              "    <tr>\n",
              "      <th>110525</th>\n",
              "      <td>92134931435557</td>\n",
              "      <td>5630323</td>\n",
              "      <td>2016-04-27 15:09:23+00:00</td>\n",
              "      <td>F</td>\n",
              "      <td>2016-06-07</td>\n",
              "      <td>38</td>\n",
              "      <td>MARIA ORTIZ</td>\n",
              "      <td>0</td>\n",
              "      <td>0</td>\n",
              "      <td>0</td>\n",
              "      <td>0</td>\n",
              "      <td>0</td>\n",
              "      <td>1</td>\n",
              "      <td>No</td>\n",
              "    </tr>\n",
              "    <tr>\n",
              "      <th>110526</th>\n",
              "      <td>377511518121127</td>\n",
              "      <td>5629448</td>\n",
              "      <td>2016-04-27 13:30:56+00:00</td>\n",
              "      <td>F</td>\n",
              "      <td>2016-06-07</td>\n",
              "      <td>54</td>\n",
              "      <td>MARIA ORTIZ</td>\n",
              "      <td>0</td>\n",
              "      <td>0</td>\n",
              "      <td>0</td>\n",
              "      <td>0</td>\n",
              "      <td>0</td>\n",
              "      <td>1</td>\n",
              "      <td>No</td>\n",
              "    </tr>\n",
              "  </tbody>\n",
              "</table>\n",
              "<p>106987 rows × 14 columns</p>\n",
              "</div>\n",
              "      <button class=\"colab-df-convert\" onclick=\"convertToInteractive('df-43907ed6-6d38-4e3f-be63-e12515b4a616')\"\n",
              "              title=\"Convert this dataframe to an interactive table.\"\n",
              "              style=\"display:none;\">\n",
              "        \n",
              "  <svg xmlns=\"http://www.w3.org/2000/svg\" height=\"24px\"viewBox=\"0 0 24 24\"\n",
              "       width=\"24px\">\n",
              "    <path d=\"M0 0h24v24H0V0z\" fill=\"none\"/>\n",
              "    <path d=\"M18.56 5.44l.94 2.06.94-2.06 2.06-.94-2.06-.94-.94-2.06-.94 2.06-2.06.94zm-11 1L8.5 8.5l.94-2.06 2.06-.94-2.06-.94L8.5 2.5l-.94 2.06-2.06.94zm10 10l.94 2.06.94-2.06 2.06-.94-2.06-.94-.94-2.06-.94 2.06-2.06.94z\"/><path d=\"M17.41 7.96l-1.37-1.37c-.4-.4-.92-.59-1.43-.59-.52 0-1.04.2-1.43.59L10.3 9.45l-7.72 7.72c-.78.78-.78 2.05 0 2.83L4 21.41c.39.39.9.59 1.41.59.51 0 1.02-.2 1.41-.59l7.78-7.78 2.81-2.81c.8-.78.8-2.07 0-2.86zM5.41 20L4 18.59l7.72-7.72 1.47 1.35L5.41 20z\"/>\n",
              "  </svg>\n",
              "      </button>\n",
              "      \n",
              "  <style>\n",
              "    .colab-df-container {\n",
              "      display:flex;\n",
              "      flex-wrap:wrap;\n",
              "      gap: 12px;\n",
              "    }\n",
              "\n",
              "    .colab-df-convert {\n",
              "      background-color: #E8F0FE;\n",
              "      border: none;\n",
              "      border-radius: 50%;\n",
              "      cursor: pointer;\n",
              "      display: none;\n",
              "      fill: #1967D2;\n",
              "      height: 32px;\n",
              "      padding: 0 0 0 0;\n",
              "      width: 32px;\n",
              "    }\n",
              "\n",
              "    .colab-df-convert:hover {\n",
              "      background-color: #E2EBFA;\n",
              "      box-shadow: 0px 1px 2px rgba(60, 64, 67, 0.3), 0px 1px 3px 1px rgba(60, 64, 67, 0.15);\n",
              "      fill: #174EA6;\n",
              "    }\n",
              "\n",
              "    [theme=dark] .colab-df-convert {\n",
              "      background-color: #3B4455;\n",
              "      fill: #D2E3FC;\n",
              "    }\n",
              "\n",
              "    [theme=dark] .colab-df-convert:hover {\n",
              "      background-color: #434B5C;\n",
              "      box-shadow: 0px 1px 3px 1px rgba(0, 0, 0, 0.15);\n",
              "      filter: drop-shadow(0px 1px 2px rgba(0, 0, 0, 0.3));\n",
              "      fill: #FFFFFF;\n",
              "    }\n",
              "  </style>\n",
              "\n",
              "      <script>\n",
              "        const buttonEl =\n",
              "          document.querySelector('#df-43907ed6-6d38-4e3f-be63-e12515b4a616 button.colab-df-convert');\n",
              "        buttonEl.style.display =\n",
              "          google.colab.kernel.accessAllowed ? 'block' : 'none';\n",
              "\n",
              "        async function convertToInteractive(key) {\n",
              "          const element = document.querySelector('#df-43907ed6-6d38-4e3f-be63-e12515b4a616');\n",
              "          const dataTable =\n",
              "            await google.colab.kernel.invokeFunction('convertToInteractive',\n",
              "                                                     [key], {});\n",
              "          if (!dataTable) return;\n",
              "\n",
              "          const docLinkHtml = 'Like what you see? Visit the ' +\n",
              "            '<a target=\"_blank\" href=https://colab.research.google.com/notebooks/data_table.ipynb>data table notebook</a>'\n",
              "            + ' to learn more about interactive tables.';\n",
              "          element.innerHTML = '';\n",
              "          dataTable['output_type'] = 'display_data';\n",
              "          await google.colab.output.renderOutput(dataTable, element);\n",
              "          const docLink = document.createElement('div');\n",
              "          docLink.innerHTML = docLinkHtml;\n",
              "          element.appendChild(docLink);\n",
              "        }\n",
              "      </script>\n",
              "    </div>\n",
              "  </div>\n",
              "  "
            ]
          },
          "metadata": {},
          "execution_count": 19
        }
      ],
      "source": [
        "# Retirer tous les patients qui on soit un age null, soit un age negatif.\n",
        "cp2 = cp3[cp3['Age']>=1]\n",
        "cp2"
      ]
    },
    {
      "cell_type": "code",
      "execution_count": null,
      "metadata": {
        "colab": {
          "base_uri": "https://localhost:8080/",
          "height": 590
        },
        "id": "6Dh9gzW3exOU",
        "outputId": "eda36383-b5b9-48b8-f8a1-f2aa71717b3c"
      },
      "outputs": [
        {
          "output_type": "execute_result",
          "data": {
            "text/plain": [
              "           PatientId  AppointmentID               ScheduledDay  Gender  \\\n",
              "count   1.069870e+05   1.069870e+05                     106987  106987   \n",
              "unique           NaN            NaN                     100307       2   \n",
              "top              NaN            NaN  2016-05-06 07:09:54+00:00       F   \n",
              "freq             NaN            NaN                         24   70118   \n",
              "first            NaN            NaN  2015-11-10 07:13:56+00:00     NaN   \n",
              "last             NaN            NaN  2016-06-08 20:07:23+00:00     NaN   \n",
              "mean    1.472814e+14   5.675434e+06                        NaN     NaN   \n",
              "std     2.558267e+14   7.133274e+04                        NaN     NaN   \n",
              "min     3.921700e+04   5.030230e+06                        NaN     NaN   \n",
              "25%     4.173523e+12   5.640490e+06                        NaN     NaN   \n",
              "50%     3.172463e+13   5.680744e+06                        NaN     NaN   \n",
              "75%     9.433600e+13   5.725634e+06                        NaN     NaN   \n",
              "max     9.999816e+14   5.790484e+06                        NaN     NaN   \n",
              "\n",
              "             AppointmentDay            Age   Neighbourhood    Scholarship  \\\n",
              "count                106987  106987.000000          106987  106987.000000   \n",
              "unique                   27            NaN              81            NaN   \n",
              "top     2016-06-06 00:00:00            NaN  JARDIM CAMBURI            NaN   \n",
              "freq                   4528            NaN            7586            NaN   \n",
              "first   2016-04-29 00:00:00            NaN             NaN            NaN   \n",
              "last    2016-06-08 00:00:00            NaN             NaN            NaN   \n",
              "mean                    NaN      38.316085             NaN       0.101031   \n",
              "std                     NaN      22.466214             NaN       0.301371   \n",
              "min                     NaN       1.000000             NaN       0.000000   \n",
              "25%                     NaN      19.000000             NaN       0.000000   \n",
              "50%                     NaN      38.000000             NaN       0.000000   \n",
              "75%                     NaN      56.000000             NaN       0.000000   \n",
              "max                     NaN     115.000000             NaN       1.000000   \n",
              "\n",
              "         Hipertension       Diabetes     Alcoholism        Handcap  \\\n",
              "count   106987.000000  106987.000000  106987.000000  106987.000000   \n",
              "unique            NaN            NaN            NaN            NaN   \n",
              "top               NaN            NaN            NaN            NaN   \n",
              "freq              NaN            NaN            NaN            NaN   \n",
              "first             NaN            NaN            NaN            NaN   \n",
              "last              NaN            NaN            NaN            NaN   \n",
              "mean         0.203772       0.074243       0.031406       0.022975   \n",
              "std          0.402804       0.262167       0.174412       0.164115   \n",
              "min          0.000000       0.000000       0.000000       0.000000   \n",
              "25%          0.000000       0.000000       0.000000       0.000000   \n",
              "50%          0.000000       0.000000       0.000000       0.000000   \n",
              "75%          0.000000       0.000000       0.000000       0.000000   \n",
              "max          1.000000       1.000000       1.000000       4.000000   \n",
              "\n",
              "         SMS_received No-show  \n",
              "count   106987.000000  106987  \n",
              "unique            NaN       2  \n",
              "top               NaN      No  \n",
              "freq              NaN   85307  \n",
              "first             NaN     NaN  \n",
              "last              NaN     NaN  \n",
              "mean         0.323264     NaN  \n",
              "std          0.467725     NaN  \n",
              "min          0.000000     NaN  \n",
              "25%          0.000000     NaN  \n",
              "50%          0.000000     NaN  \n",
              "75%          1.000000     NaN  \n",
              "max          1.000000     NaN  "
            ],
            "text/html": [
              "\n",
              "  <div id=\"df-5176aeb1-ecb2-4d3f-a334-1252e26a5d17\">\n",
              "    <div class=\"colab-df-container\">\n",
              "      <div>\n",
              "<style scoped>\n",
              "    .dataframe tbody tr th:only-of-type {\n",
              "        vertical-align: middle;\n",
              "    }\n",
              "\n",
              "    .dataframe tbody tr th {\n",
              "        vertical-align: top;\n",
              "    }\n",
              "\n",
              "    .dataframe thead th {\n",
              "        text-align: right;\n",
              "    }\n",
              "</style>\n",
              "<table border=\"1\" class=\"dataframe\">\n",
              "  <thead>\n",
              "    <tr style=\"text-align: right;\">\n",
              "      <th></th>\n",
              "      <th>PatientId</th>\n",
              "      <th>AppointmentID</th>\n",
              "      <th>ScheduledDay</th>\n",
              "      <th>Gender</th>\n",
              "      <th>AppointmentDay</th>\n",
              "      <th>Age</th>\n",
              "      <th>Neighbourhood</th>\n",
              "      <th>Scholarship</th>\n",
              "      <th>Hipertension</th>\n",
              "      <th>Diabetes</th>\n",
              "      <th>Alcoholism</th>\n",
              "      <th>Handcap</th>\n",
              "      <th>SMS_received</th>\n",
              "      <th>No-show</th>\n",
              "    </tr>\n",
              "  </thead>\n",
              "  <tbody>\n",
              "    <tr>\n",
              "      <th>count</th>\n",
              "      <td>1.069870e+05</td>\n",
              "      <td>1.069870e+05</td>\n",
              "      <td>106987</td>\n",
              "      <td>106987</td>\n",
              "      <td>106987</td>\n",
              "      <td>106987.000000</td>\n",
              "      <td>106987</td>\n",
              "      <td>106987.000000</td>\n",
              "      <td>106987.000000</td>\n",
              "      <td>106987.000000</td>\n",
              "      <td>106987.000000</td>\n",
              "      <td>106987.000000</td>\n",
              "      <td>106987.000000</td>\n",
              "      <td>106987</td>\n",
              "    </tr>\n",
              "    <tr>\n",
              "      <th>unique</th>\n",
              "      <td>NaN</td>\n",
              "      <td>NaN</td>\n",
              "      <td>100307</td>\n",
              "      <td>2</td>\n",
              "      <td>27</td>\n",
              "      <td>NaN</td>\n",
              "      <td>81</td>\n",
              "      <td>NaN</td>\n",
              "      <td>NaN</td>\n",
              "      <td>NaN</td>\n",
              "      <td>NaN</td>\n",
              "      <td>NaN</td>\n",
              "      <td>NaN</td>\n",
              "      <td>2</td>\n",
              "    </tr>\n",
              "    <tr>\n",
              "      <th>top</th>\n",
              "      <td>NaN</td>\n",
              "      <td>NaN</td>\n",
              "      <td>2016-05-06 07:09:54+00:00</td>\n",
              "      <td>F</td>\n",
              "      <td>2016-06-06 00:00:00</td>\n",
              "      <td>NaN</td>\n",
              "      <td>JARDIM CAMBURI</td>\n",
              "      <td>NaN</td>\n",
              "      <td>NaN</td>\n",
              "      <td>NaN</td>\n",
              "      <td>NaN</td>\n",
              "      <td>NaN</td>\n",
              "      <td>NaN</td>\n",
              "      <td>No</td>\n",
              "    </tr>\n",
              "    <tr>\n",
              "      <th>freq</th>\n",
              "      <td>NaN</td>\n",
              "      <td>NaN</td>\n",
              "      <td>24</td>\n",
              "      <td>70118</td>\n",
              "      <td>4528</td>\n",
              "      <td>NaN</td>\n",
              "      <td>7586</td>\n",
              "      <td>NaN</td>\n",
              "      <td>NaN</td>\n",
              "      <td>NaN</td>\n",
              "      <td>NaN</td>\n",
              "      <td>NaN</td>\n",
              "      <td>NaN</td>\n",
              "      <td>85307</td>\n",
              "    </tr>\n",
              "    <tr>\n",
              "      <th>first</th>\n",
              "      <td>NaN</td>\n",
              "      <td>NaN</td>\n",
              "      <td>2015-11-10 07:13:56+00:00</td>\n",
              "      <td>NaN</td>\n",
              "      <td>2016-04-29 00:00:00</td>\n",
              "      <td>NaN</td>\n",
              "      <td>NaN</td>\n",
              "      <td>NaN</td>\n",
              "      <td>NaN</td>\n",
              "      <td>NaN</td>\n",
              "      <td>NaN</td>\n",
              "      <td>NaN</td>\n",
              "      <td>NaN</td>\n",
              "      <td>NaN</td>\n",
              "    </tr>\n",
              "    <tr>\n",
              "      <th>last</th>\n",
              "      <td>NaN</td>\n",
              "      <td>NaN</td>\n",
              "      <td>2016-06-08 20:07:23+00:00</td>\n",
              "      <td>NaN</td>\n",
              "      <td>2016-06-08 00:00:00</td>\n",
              "      <td>NaN</td>\n",
              "      <td>NaN</td>\n",
              "      <td>NaN</td>\n",
              "      <td>NaN</td>\n",
              "      <td>NaN</td>\n",
              "      <td>NaN</td>\n",
              "      <td>NaN</td>\n",
              "      <td>NaN</td>\n",
              "      <td>NaN</td>\n",
              "    </tr>\n",
              "    <tr>\n",
              "      <th>mean</th>\n",
              "      <td>1.472814e+14</td>\n",
              "      <td>5.675434e+06</td>\n",
              "      <td>NaN</td>\n",
              "      <td>NaN</td>\n",
              "      <td>NaN</td>\n",
              "      <td>38.316085</td>\n",
              "      <td>NaN</td>\n",
              "      <td>0.101031</td>\n",
              "      <td>0.203772</td>\n",
              "      <td>0.074243</td>\n",
              "      <td>0.031406</td>\n",
              "      <td>0.022975</td>\n",
              "      <td>0.323264</td>\n",
              "      <td>NaN</td>\n",
              "    </tr>\n",
              "    <tr>\n",
              "      <th>std</th>\n",
              "      <td>2.558267e+14</td>\n",
              "      <td>7.133274e+04</td>\n",
              "      <td>NaN</td>\n",
              "      <td>NaN</td>\n",
              "      <td>NaN</td>\n",
              "      <td>22.466214</td>\n",
              "      <td>NaN</td>\n",
              "      <td>0.301371</td>\n",
              "      <td>0.402804</td>\n",
              "      <td>0.262167</td>\n",
              "      <td>0.174412</td>\n",
              "      <td>0.164115</td>\n",
              "      <td>0.467725</td>\n",
              "      <td>NaN</td>\n",
              "    </tr>\n",
              "    <tr>\n",
              "      <th>min</th>\n",
              "      <td>3.921700e+04</td>\n",
              "      <td>5.030230e+06</td>\n",
              "      <td>NaN</td>\n",
              "      <td>NaN</td>\n",
              "      <td>NaN</td>\n",
              "      <td>1.000000</td>\n",
              "      <td>NaN</td>\n",
              "      <td>0.000000</td>\n",
              "      <td>0.000000</td>\n",
              "      <td>0.000000</td>\n",
              "      <td>0.000000</td>\n",
              "      <td>0.000000</td>\n",
              "      <td>0.000000</td>\n",
              "      <td>NaN</td>\n",
              "    </tr>\n",
              "    <tr>\n",
              "      <th>25%</th>\n",
              "      <td>4.173523e+12</td>\n",
              "      <td>5.640490e+06</td>\n",
              "      <td>NaN</td>\n",
              "      <td>NaN</td>\n",
              "      <td>NaN</td>\n",
              "      <td>19.000000</td>\n",
              "      <td>NaN</td>\n",
              "      <td>0.000000</td>\n",
              "      <td>0.000000</td>\n",
              "      <td>0.000000</td>\n",
              "      <td>0.000000</td>\n",
              "      <td>0.000000</td>\n",
              "      <td>0.000000</td>\n",
              "      <td>NaN</td>\n",
              "    </tr>\n",
              "    <tr>\n",
              "      <th>50%</th>\n",
              "      <td>3.172463e+13</td>\n",
              "      <td>5.680744e+06</td>\n",
              "      <td>NaN</td>\n",
              "      <td>NaN</td>\n",
              "      <td>NaN</td>\n",
              "      <td>38.000000</td>\n",
              "      <td>NaN</td>\n",
              "      <td>0.000000</td>\n",
              "      <td>0.000000</td>\n",
              "      <td>0.000000</td>\n",
              "      <td>0.000000</td>\n",
              "      <td>0.000000</td>\n",
              "      <td>0.000000</td>\n",
              "      <td>NaN</td>\n",
              "    </tr>\n",
              "    <tr>\n",
              "      <th>75%</th>\n",
              "      <td>9.433600e+13</td>\n",
              "      <td>5.725634e+06</td>\n",
              "      <td>NaN</td>\n",
              "      <td>NaN</td>\n",
              "      <td>NaN</td>\n",
              "      <td>56.000000</td>\n",
              "      <td>NaN</td>\n",
              "      <td>0.000000</td>\n",
              "      <td>0.000000</td>\n",
              "      <td>0.000000</td>\n",
              "      <td>0.000000</td>\n",
              "      <td>0.000000</td>\n",
              "      <td>1.000000</td>\n",
              "      <td>NaN</td>\n",
              "    </tr>\n",
              "    <tr>\n",
              "      <th>max</th>\n",
              "      <td>9.999816e+14</td>\n",
              "      <td>5.790484e+06</td>\n",
              "      <td>NaN</td>\n",
              "      <td>NaN</td>\n",
              "      <td>NaN</td>\n",
              "      <td>115.000000</td>\n",
              "      <td>NaN</td>\n",
              "      <td>1.000000</td>\n",
              "      <td>1.000000</td>\n",
              "      <td>1.000000</td>\n",
              "      <td>1.000000</td>\n",
              "      <td>4.000000</td>\n",
              "      <td>1.000000</td>\n",
              "      <td>NaN</td>\n",
              "    </tr>\n",
              "  </tbody>\n",
              "</table>\n",
              "</div>\n",
              "      <button class=\"colab-df-convert\" onclick=\"convertToInteractive('df-5176aeb1-ecb2-4d3f-a334-1252e26a5d17')\"\n",
              "              title=\"Convert this dataframe to an interactive table.\"\n",
              "              style=\"display:none;\">\n",
              "        \n",
              "  <svg xmlns=\"http://www.w3.org/2000/svg\" height=\"24px\"viewBox=\"0 0 24 24\"\n",
              "       width=\"24px\">\n",
              "    <path d=\"M0 0h24v24H0V0z\" fill=\"none\"/>\n",
              "    <path d=\"M18.56 5.44l.94 2.06.94-2.06 2.06-.94-2.06-.94-.94-2.06-.94 2.06-2.06.94zm-11 1L8.5 8.5l.94-2.06 2.06-.94-2.06-.94L8.5 2.5l-.94 2.06-2.06.94zm10 10l.94 2.06.94-2.06 2.06-.94-2.06-.94-.94-2.06-.94 2.06-2.06.94z\"/><path d=\"M17.41 7.96l-1.37-1.37c-.4-.4-.92-.59-1.43-.59-.52 0-1.04.2-1.43.59L10.3 9.45l-7.72 7.72c-.78.78-.78 2.05 0 2.83L4 21.41c.39.39.9.59 1.41.59.51 0 1.02-.2 1.41-.59l7.78-7.78 2.81-2.81c.8-.78.8-2.07 0-2.86zM5.41 20L4 18.59l7.72-7.72 1.47 1.35L5.41 20z\"/>\n",
              "  </svg>\n",
              "      </button>\n",
              "      \n",
              "  <style>\n",
              "    .colab-df-container {\n",
              "      display:flex;\n",
              "      flex-wrap:wrap;\n",
              "      gap: 12px;\n",
              "    }\n",
              "\n",
              "    .colab-df-convert {\n",
              "      background-color: #E8F0FE;\n",
              "      border: none;\n",
              "      border-radius: 50%;\n",
              "      cursor: pointer;\n",
              "      display: none;\n",
              "      fill: #1967D2;\n",
              "      height: 32px;\n",
              "      padding: 0 0 0 0;\n",
              "      width: 32px;\n",
              "    }\n",
              "\n",
              "    .colab-df-convert:hover {\n",
              "      background-color: #E2EBFA;\n",
              "      box-shadow: 0px 1px 2px rgba(60, 64, 67, 0.3), 0px 1px 3px 1px rgba(60, 64, 67, 0.15);\n",
              "      fill: #174EA6;\n",
              "    }\n",
              "\n",
              "    [theme=dark] .colab-df-convert {\n",
              "      background-color: #3B4455;\n",
              "      fill: #D2E3FC;\n",
              "    }\n",
              "\n",
              "    [theme=dark] .colab-df-convert:hover {\n",
              "      background-color: #434B5C;\n",
              "      box-shadow: 0px 1px 3px 1px rgba(0, 0, 0, 0.15);\n",
              "      filter: drop-shadow(0px 1px 2px rgba(0, 0, 0, 0.3));\n",
              "      fill: #FFFFFF;\n",
              "    }\n",
              "  </style>\n",
              "\n",
              "      <script>\n",
              "        const buttonEl =\n",
              "          document.querySelector('#df-5176aeb1-ecb2-4d3f-a334-1252e26a5d17 button.colab-df-convert');\n",
              "        buttonEl.style.display =\n",
              "          google.colab.kernel.accessAllowed ? 'block' : 'none';\n",
              "\n",
              "        async function convertToInteractive(key) {\n",
              "          const element = document.querySelector('#df-5176aeb1-ecb2-4d3f-a334-1252e26a5d17');\n",
              "          const dataTable =\n",
              "            await google.colab.kernel.invokeFunction('convertToInteractive',\n",
              "                                                     [key], {});\n",
              "          if (!dataTable) return;\n",
              "\n",
              "          const docLinkHtml = 'Like what you see? Visit the ' +\n",
              "            '<a target=\"_blank\" href=https://colab.research.google.com/notebooks/data_table.ipynb>data table notebook</a>'\n",
              "            + ' to learn more about interactive tables.';\n",
              "          element.innerHTML = '';\n",
              "          dataTable['output_type'] = 'display_data';\n",
              "          await google.colab.output.renderOutput(dataTable, element);\n",
              "          const docLink = document.createElement('div');\n",
              "          docLink.innerHTML = docLinkHtml;\n",
              "          element.appendChild(docLink);\n",
              "        }\n",
              "      </script>\n",
              "    </div>\n",
              "  </div>\n",
              "  "
            ]
          },
          "metadata": {},
          "execution_count": 20
        }
      ],
      "source": [
        "#Observation des donnees agregees\n",
        "cp2.describe(include='all')"
      ]
    },
    {
      "cell_type": "code",
      "execution_count": null,
      "metadata": {
        "colab": {
          "base_uri": "https://localhost:8080/",
          "height": 180
        },
        "id": "1uzwMMaXfUtU",
        "outputId": "83a7e7a3-50e5-42e8-f8b7-f7bf971c7914"
      },
      "outputs": [
        {
          "output_type": "display_data",
          "data": {
            "text/plain": [
              "<Figure size 1152x144 with 1 Axes>"
            ],
            "image/png": "[encoded data removed]"
          },
          "metadata": {
            "needs_background": "light"
          }
        }
      ],
      "source": [
        "#Visualiser la distribution de l'age des patients\n",
        "plt.figure(figsize=(16,2))\n",
        "plt.xticks(rotation=90)\n",
        "_ = sns.boxplot(x=cp2.Age)"
      ]
    },
    {
      "cell_type": "markdown",
      "metadata": {
        "id": "_2iV3esQf1le"
      },
      "source": [
        "# Interpretation:\n",
        "Les patients sont majoritairement ages de 1 a 102 ans et il y a 5 patients ages de 115 ans pour ce qui est du reste. "
      ]
    },
    {
      "cell_type": "code",
      "execution_count": null,
      "metadata": {
        "colab": {
          "base_uri": "https://localhost:8080/",
          "height": 622
        },
        "id": "6MMAweC3fk8x",
        "outputId": "f66ac8d9-fe89-4d52-e915-3ee5ed3b6688"
      },
      "outputs": [
        {
          "output_type": "display_data",
          "data": {
            "text/plain": [
              "<Figure size 1440x720 with 1 Axes>"
            ],
            "image/png": "[encoded data removed]"
          },
          "metadata": {
            "needs_background": "light"
          }
        }
      ],
      "source": [
        "#Visualisons le nombre de rendez-vous par age:\n",
        "plt.figure(figsize=(20,10))\n",
        "plt.xticks(rotation=90)\n",
        "ax = sns.countplot(x=cp2.Age)\n",
        "ax.set_title(\"Nombre de rendez-vous par classe d'ages.\")\n",
        "plt.show()"
      ]
    },
    {
      "cell_type": "markdown",
      "metadata": {
        "id": "gM1S4fH2sWwL"
      },
      "source": [
        "### Handicape"
      ]
    },
    {
      "cell_type": "code",
      "execution_count": null,
      "metadata": {
        "colab": {
          "base_uri": "https://localhost:8080/"
        },
        "id": "auRh_jpzmMoM",
        "outputId": "0b2ec36f-a714-481c-e565-a42ed55578e5"
      },
      "outputs": [
        {
          "output_type": "stream",
          "name": "stdout",
          "text": [
            "Classe Unique des handicapes est:  [0 1 2 3 4]\n"
          ]
        }
      ],
      "source": [
        "# Afficher les classes uniques des handicapes:\n",
        "print(\"Classe Unique des handicapes est:  {}\".format(cp2.Handcap.unique()))"
      ]
    },
    {
      "cell_type": "code",
      "execution_count": null,
      "metadata": {
        "colab": {
          "base_uri": "https://localhost:8080/"
        },
        "id": "k2jvEKmC4xjA",
        "outputId": "0d42caca-22cc-49a7-9030-4041afc94487"
      },
      "outputs": [
        {
          "output_type": "execute_result",
          "data": {
            "text/plain": [
              "0    104747\n",
              "1      2041\n",
              "2       183\n",
              "3        13\n",
              "4         3\n",
              "Name: Handcap, dtype: int64"
            ]
          },
          "metadata": {},
          "execution_count": 42
        }
      ],
      "source": [
        "# Visualisons le nombre de valeur dans chaque classe de handicape:\n",
        "cp2.Handcap.value_counts()"
      ]
    },
    {
      "cell_type": "markdown",
      "metadata": {
        "id": "cW-4LtQ-5LT5"
      },
      "source": [
        "Le resultat nous permet de conclure qu'il s'agit des differents degres de handicape. "
      ]
    },
    {
      "cell_type": "markdown",
      "metadata": {
        "id": "vplIac7Wsgow"
      },
      "source": [
        "### Diabetes\t"
      ]
    },
    {
      "cell_type": "code",
      "execution_count": null,
      "metadata": {
        "colab": {
          "base_uri": "https://localhost:8080/"
        },
        "id": "yHkOdUmishbH",
        "outputId": "7fe6d219-3de0-4ff7-e42d-f61e7614335a"
      },
      "outputs": [
        {
          "output_type": "stream",
          "name": "stdout",
          "text": [
            "Classe Unique des diabetiques est: [0 1]\n"
          ]
        }
      ],
      "source": [
        "# Afficher les classes uniques des diabetiques:\n",
        "print(\"Classe Unique des diabetiques est: {}\".format(cp2.Diabetes.unique()))"
      ]
    },
    {
      "cell_type": "markdown",
      "metadata": {
        "id": "jSGhsaSZsoWT"
      },
      "source": [
        "### SMS_received"
      ]
    },
    {
      "cell_type": "code",
      "execution_count": null,
      "metadata": {
        "colab": {
          "base_uri": "https://localhost:8080/"
        },
        "id": "ARsOYiw-sorn",
        "outputId": "b74bf2a7-aa84-4bca-dd74-c9046eb4d072"
      },
      "outputs": [
        {
          "output_type": "stream",
          "name": "stdout",
          "text": [
            "Classe Unique des SMS est: [0 1]\n"
          ]
        }
      ],
      "source": [
        "# Afficher les classes uniques des SMS:\n",
        "print(\"Classe Unique des SMS est: {}\".format(cp2.SMS_received.unique()))"
      ]
    },
    {
      "cell_type": "markdown",
      "metadata": {
        "id": "-1qpDfMGtBFq"
      },
      "source": [
        "### Alcooliques"
      ]
    },
    {
      "cell_type": "code",
      "execution_count": null,
      "metadata": {
        "colab": {
          "base_uri": "https://localhost:8080/"
        },
        "id": "HEjW1SJxtBX7",
        "outputId": "8075244c-94b1-493a-d803-a64c568b961c"
      },
      "outputs": [
        {
          "output_type": "stream",
          "name": "stdout",
          "text": [
            "Classe Unique des alcooliques est: [0 1]\n"
          ]
        }
      ],
      "source": [
        "# Afficher les classes uniques des alcooliques:\n",
        "print(\"Classe Unique des alcooliques est: {}\".format(cp2.Alcoholism.unique()))"
      ]
    },
    {
      "cell_type": "markdown",
      "metadata": {
        "id": "XXv8GeGCuE7i"
      },
      "source": [
        "### Hipertendus"
      ]
    },
    {
      "cell_type": "code",
      "execution_count": null,
      "metadata": {
        "colab": {
          "base_uri": "https://localhost:8080/"
        },
        "id": "sX2ahVu9uGIt",
        "outputId": "0dca8136-fba4-48ee-9c3b-f3cb326243ae"
      },
      "outputs": [
        {
          "output_type": "stream",
          "name": "stdout",
          "text": [
            "Classe Unique des Hipertendus est: [1 0]\n"
          ]
        }
      ],
      "source": [
        "# Afficher les classes uniques des Hipertendus:\n",
        "print(\"Classe Unique des Hipertendus est: {}\".format(cp2.Hipertension.unique()))"
      ]
    },
    {
      "cell_type": "markdown",
      "metadata": {
        "id": "WABu0OgxuGZ4"
      },
      "source": [
        "### Boursiers"
      ]
    },
    {
      "cell_type": "code",
      "execution_count": null,
      "metadata": {
        "colab": {
          "base_uri": "https://localhost:8080/"
        },
        "id": "a0rJE0psuGuq",
        "outputId": "935b1049-1e14-4800-f908-884e6c0e0545"
      },
      "outputs": [
        {
          "output_type": "stream",
          "name": "stdout",
          "text": [
            "Classe Unique des boursiers est: [0 1]\n"
          ]
        }
      ],
      "source": [
        "# Afficher les classes uniques des boursiers:\n",
        "print(\"Classe Unique des boursiers est: {}\".format(cp2.Scholarship.unique()))"
      ]
    },
    {
      "cell_type": "markdown",
      "metadata": {
        "id": "eWXWXr1cuHfA"
      },
      "source": [
        "### No-show"
      ]
    },
    {
      "cell_type": "code",
      "execution_count": null,
      "metadata": {
        "colab": {
          "base_uri": "https://localhost:8080/"
        },
        "id": "j5l12YpDuHt8",
        "outputId": "88ad825f-1eb7-445f-d73d-a7e560b33422"
      },
      "outputs": [
        {
          "output_type": "stream",
          "name": "stdout",
          "text": [
            "Classe Unique des No-show est: ['No' 'Yes']\n"
          ]
        }
      ],
      "source": [
        "# Afficher les classes uniques des No-show:\n",
        "print(\"Classe Unique des No-show est: {}\".format(cp2['No-show'].unique()))"
      ]
    },
    {
      "cell_type": "markdown",
      "metadata": {
        "id": "kNabMyszJdMt"
      },
      "source": [
        "| **Noms** | **Types** | **Descriptions** |\n",
        "|----------|-----------|------------------|\n",
        "|PatientId | Entier | Matricule du Patient|\n",
        "|AppointmentID|Entier|Identite du rendez-vous|\n",
        "|Gender |M ou F |Si `F` alors **femme** ou `M` si **Homme**|\n",
        "| ScheduledDay| date | Jour et heure de la prise du rendez-vous |\n",
        "| AppointmentDay | date | Jour et heure du rendez-vous|\n",
        "| Age | Entier | Quel age a le patient |\n",
        "| Neighbourhood | Entier | Lieu ou Location de l'hopital  |\n",
        "| Scholarship | Booleen | Dire si oui ou non le patient detient le programme de prise en charge Bresilien **Bolsa Família** |\n",
        "| Hipertension | Booleen |  Dire si oui ou non le patient a l'hypertension |\n",
        "| Diabetes | Booleen |  Dire si oui ou non le patient a le diabete  |\n",
        "| Alcoholism | Booleen |  Dire si oui ou non le patient est alcoolique|\n",
        "| Handcap | Booleen |  Dire le degre de handicape du patient  |\n",
        "| SMS_received | Booleen |  Dire si oui ou non le patient a recu un ou plusieurs messages. |\n",
        "| No-show | Booleen | Dire `No` si le patient s'est presente au rendez-vous et `Yes` s'il ne l'a pas fait |\n"
      ]
    },
    {
      "cell_type": "markdown",
      "metadata": {
        "id": "QKeLFkBygsdl"
      },
      "source": [
        "## Questions Importantes:\n",
        "1. Quel est le pourcentage de patients qui a manque le rendez-vous de consultation? \n",
        "2. Quelle est distribution des patients suivants le genre presentée ou pas à la consultation?\n",
        "3. Combien de patient ont demande plusieurs rendez-vous?\n",
        "4. Quelle est la répartition par âge du diabète qui s'est manifesté et qui ne s'est pas présenté ?\n",
        "5. Comment les activités réalisées par un bureau de prise de rendez-vous (envoi de SMS, participation à une bourse) influencent le ratio show/no-show ?\n",
        "6. Quels facteurs sont importants à connaître pour prédire si un patient se présentera à son rendez-vous prévu ?"
      ]
    },
    {
      "cell_type": "markdown",
      "metadata": {
        "id": "jLcGjKUOxB0x"
      },
      "source": [
        "## Analyse exploratoire des donnees."
      ]
    },
    {
      "cell_type": "markdown",
      "metadata": {
        "id": "zqeYct0IHJMM"
      },
      "source": [
        "### Définir des valeurs de style pour toutes nos visualisations"
      ]
    },
    {
      "cell_type": "code",
      "execution_count": null,
      "metadata": {
        "id": "5YqlD2rFHISW"
      },
      "outputs": [],
      "source": [
        "sns.set_context(\"talk\")\n",
        "sns.set_style(\"whitegrid\")\n",
        "colors = sns.color_palette('pastel')[0:5]"
      ]
    },
    {
      "cell_type": "markdown",
      "metadata": {
        "id": "hcygZUvUHcr-"
      },
      "source": [
        "## Quel est le pourcentage de patients qui a manque le rendez-vous de consultation?"
      ]
    },
    {
      "cell_type": "code",
      "execution_count": null,
      "metadata": {
        "colab": {
          "base_uri": "https://localhost:8080/"
        },
        "id": "0pVAGwR1HdUf",
        "outputId": "ea589809-94a3-4782-eadf-e83a0524fe8f"
      },
      "outputs": [
        {
          "output_type": "execute_result",
          "data": {
            "text/plain": [
              "2"
            ]
          },
          "metadata": {},
          "execution_count": 32
        }
      ],
      "source": [
        "cp2['No-show'].nunique()"
      ]
    },
    {
      "cell_type": "code",
      "execution_count": null,
      "metadata": {
        "colab": {
          "base_uri": "https://localhost:8080/",
          "height": 521
        },
        "id": "wMWq04ESff01",
        "outputId": "f1c8d324-73c0-42dd-a0dc-cc5f41724f06"
      },
      "outputs": [
        {
          "output_type": "display_data",
          "data": {
            "text/plain": [
              "<Figure size 720x576 with 1 Axes>"
            ],
            "image/png": "[encoded data removed]"
          },
          "metadata": {}
        },
        {
          "output_type": "stream",
          "name": "stdout",
          "text": [
            "20.26% de patients ont manqué leur rendez-vous de consultation.\n",
            "79.74% de patients ont été à leur rendez-vous de consultation.\n"
          ]
        }
      ],
      "source": [
        "# Pourcentage de patients ayant manque ou non au rendez-vous de consultation:\n",
        "plt.figure(figsize=(10,8))\n",
        "ax = cp2['No-show'].value_counts().plot(kind='pie', autopct='%.0f%%', colors = colors)\n",
        "ax.set_title(\"Patient s'etant presente ou non au rendez-vous de consultation.\")\n",
        "plt.show()\n",
        "\n",
        "# Confirmer le resultat de facon numerique:\n",
        "Nombre_rendez_vous = cp2.shape[0]\n",
        "Rendez_vous_manquer = cp2[cp2['No-show']=='Yes'].shape[0]\n",
        "ratio = round((Rendez_vous_manquer/Nombre_rendez_vous)*100, 2)\n",
        "print('{}% de patients ont manqué leur rendez-vous de consultation.'.format(ratio))\n",
        "print('{}% de patients ont été à leur rendez-vous de consultation.'.format(100 - ratio))"
      ]
    },
    {
      "cell_type": "markdown",
      "metadata": {
        "id": "2gL9dSk5WxKI"
      },
      "source": [
        "## Quelle est distribution des patients suivants le genre presentée ou pas à la consultation?"
      ]
    },
    {
      "cell_type": "code",
      "execution_count": null,
      "metadata": {
        "colab": {
          "base_uri": "https://localhost:8080/",
          "height": 390
        },
        "id": "ClFuXi9dQxcc",
        "outputId": "0def4a15-d79b-4643-850c-621cf829f724"
      },
      "outputs": [
        {
          "output_type": "display_data",
          "data": {
            "text/plain": [
              "<Figure size 432x288 with 1 Axes>"
            ],
            "image/png": "[encoded data removed]"
          },
          "metadata": {}
        },
        {
          "output_type": "stream",
          "name": "stdout",
          "text": [
            "Sur 70118 rendez-vous pris par les femmes, 14275 ont été manqués avec un ratio de 20.36%.\n",
            "Sur 36869 rendez-vous pris par les hommes, 7405 ont été manqués avec un ratio de 20.08%.\n",
            "Sur 70118 rendez-vous pris par les femmes, 14275 ont été presentés avec un ratio de 79.64%.\n",
            "Sur 36869 rendez-vous pris par les hommes, 7405 ont été presentés avec un ratio de 79.92%.\n"
          ]
        }
      ],
      "source": [
        "#Extraction des données suivant le genre:\n",
        "rendez_vous_f = cp2[cp2['Gender'] == \"F\"]\n",
        "rendez_vous_m = cp2[cp2['Gender'] == \"M\"]\n",
        "\n",
        "#Nombre de données extraites suivant le genre:\n",
        "Nombre_rendez_vous_f = rendez_vous_f.shape[0]\n",
        "Nombre_rendez_vous_m = rendez_vous_m.shape[0]\n",
        "\n",
        "#Nombre de rendez-vous manque extraites suivant le genre:\n",
        "Rendez_vous_manquer_f = rendez_vous_f[rendez_vous_f['No-show']=='Yes'].shape[0]\n",
        "Rendez_vous_manquer_m = rendez_vous_m[rendez_vous_m['No-show']=='Yes'].shape[0]\n",
        "\n",
        "#Ratio des rendez-vous manque extraites suivant le genre:\n",
        "ratio_f = round((Rendez_vous_manquer_f/Nombre_rendez_vous_f)*100, 2)\n",
        "ratio_m = round((Rendez_vous_manquer_m/Nombre_rendez_vous_m)*100, 2)\n",
        "\n",
        "# Visualisation sur un diagramme a bar:\n",
        "ax = sns.countplot(x=cp2.Gender, hue=cp2['No-show'], data=cp2)\n",
        "ax.set_title(\"S'est presenté ou ne s'est pas presenté au rendez-vous pour les hommes et les femmes.\")\n",
        "x_ticks_labels=['Femme', 'Homme']\n",
        "plt.show();\n",
        "\n",
        "# Affichage de rapport chiffres:\n",
        "print('Sur {} rendez-vous pris par les femmes, {} ont été manqués avec un ratio de {}%.'.format(Nombre_rendez_vous_f, Rendez_vous_manquer_f, ratio_f))\n",
        "print('Sur {} rendez-vous pris par les hommes, {} ont été manqués avec un ratio de {}%.'.format(Nombre_rendez_vous_m, Rendez_vous_manquer_m, ratio_m))\n",
        "print('Sur {} rendez-vous pris par les femmes, {} ont été presentés avec un ratio de {}%.'.format(Nombre_rendez_vous_f, Rendez_vous_manquer_f, 100 -ratio_f))\n",
        "print('Sur {} rendez-vous pris par les hommes, {} ont été presentés avec un ratio de {}%.'.format(Nombre_rendez_vous_m, Rendez_vous_manquer_m, 100 -ratio_m))\n"
      ]
    },
    {
      "cell_type": "markdown",
      "metadata": {
        "id": "oHIZnCALW-6T"
      },
      "source": [
        "## Combien de patient ont demande plusieurs rendez-vous?"
      ]
    },
    {
      "cell_type": "code",
      "execution_count": null,
      "metadata": {
        "colab": {
          "base_uri": "https://localhost:8080/"
        },
        "id": "PirpGnCoXC-m",
        "outputId": "fe37e576-2e08-4f12-9e18-eb4c7f81070d"
      },
      "outputs": [
        {
          "output_type": "stream",
          "name": "stdout",
          "text": [
            "Le nombre de patient ayant pris plusieurs rendez-vous est 46717\n"
          ]
        }
      ],
      "source": [
        "#Retrouvons le nombre de patients ayant eu plusieurs rendez-vous:\n",
        "nbre = cp2.shape[0] - (cp2['PatientId'].unique()).shape[0]\n",
        "print(\"Le nombre de patient ayant pris plusieurs rendez-vous est {}\".format(nbre))"
      ]
    },
    {
      "cell_type": "code",
      "execution_count": null,
      "metadata": {
        "colab": {
          "base_uri": "https://localhost:8080/"
        },
        "id": "xZLiGYxxZyzv",
        "outputId": "11d64cc7-c967-4ca4-e711-a994e0bf8642"
      },
      "outputs": [
        {
          "output_type": "execute_result",
          "data": {
            "text/plain": [
              "822145925426128    88\n",
              "99637671331        84\n",
              "26886125921145     70\n",
              "33534783483176     65\n",
              "258424392677       62\n",
              "75797461494159     62\n",
              "871374938638855    62\n",
              "6264198675331      62\n",
              "66844879846766     57\n",
              "872278549442       55\n",
              "Name: PatientId, dtype: int64"
            ]
          },
          "metadata": {},
          "execution_count": 36
        }
      ],
      "source": [
        "#Extraire les lignes ayant des patients ayant le top 20 du nombre de rendez-vous:\n",
        "rdv = cp2['PatientId'].value_counts().iloc[0:10]\n",
        "rdv"
      ]
    },
    {
      "cell_type": "code",
      "execution_count": null,
      "metadata": {
        "colab": {
          "base_uri": "https://localhost:8080/"
        },
        "id": "DmhSEi-YvLND",
        "outputId": "59ed8ea9-256f-4ebe-8f7d-fb4b965cf659"
      },
      "outputs": [
        {
          "output_type": "stream",
          "name": "stdout",
          "text": [
            "Les rendez-vous s'etendent sur une duree de 40 jours.\n"
          ]
        }
      ],
      "source": [
        "# Duree de tous les rendez-vous.\n",
        "duree= pd.to_datetime(cp2['AppointmentDay']).dt.date.max() - pd.to_datetime(cp2['AppointmentDay']).dt.date.min()\n",
        "print(\"Les rendez-vous s'etendent sur une duree de {} jours.\".format(duree.days))"
      ]
    },
    {
      "cell_type": "markdown",
      "metadata": {
        "id": "xP5YZNV_uGwn"
      },
      "source": [
        "Certains patients ont plusieurs rendez-vous. Les patients ayant le top 20 du nombre de rendez-vous varient entre **88 à 55 occurences**. Si l'on tient compte du fait que la durée des visites s'étend sur un mois et demi environ, un rendez-vous correspond très probablement à un examen, une consultation ou à une visite chez un spécialiste. Ainsi, lors d'une seule visite d'un patient dans un hôpital, plusieurs rendez-vous peuvent être programmés. L'une des raisons pour lesquelles les patients ne se présentent pas peut être le fait qu'ils sont trop fatigués pour participer à tous les examens lors d'une visite particulière, ou que les heures d'ouverture ne sont pas suffisantes pour se présenter à tous les rendez-vous. Il peut également y avoir d'autres raisons. \n",
        "\n"
      ]
    },
    {
      "cell_type": "markdown",
      "metadata": {
        "id": "Fg-QJmTtyZlV"
      },
      "source": [
        "## Quelle est la répartition par âge du diabète qui s'est manifesté et qui ne s'est pas présenté ?"
      ]
    },
    {
      "cell_type": "code",
      "execution_count": null,
      "metadata": {
        "colab": {
          "base_uri": "https://localhost:8080/",
          "height": 143
        },
        "id": "KmnWpNjMzSAT",
        "outputId": "acc65ffa-cc89-4309-c5f6-a9bb2782c7fc"
      },
      "outputs": [
        {
          "output_type": "execute_result",
          "data": {
            "text/plain": [
              "          No-show_num\n",
              "Diabetes             \n",
              "1            0.180033\n",
              "0            0.204455"
            ],
            "text/html": [
              "\n",
              "  <div id=\"df-20ce70cf-419e-4bdb-b27e-822bf437224f\">\n",
              "    <div class=\"colab-df-container\">\n",
              "      <div>\n",
              "<style scoped>\n",
              "    .dataframe tbody tr th:only-of-type {\n",
              "        vertical-align: middle;\n",
              "    }\n",
              "\n",
              "    .dataframe tbody tr th {\n",
              "        vertical-align: top;\n",
              "    }\n",
              "\n",
              "    .dataframe thead th {\n",
              "        text-align: right;\n",
              "    }\n",
              "</style>\n",
              "<table border=\"1\" class=\"dataframe\">\n",
              "  <thead>\n",
              "    <tr style=\"text-align: right;\">\n",
              "      <th></th>\n",
              "      <th>No-show_num</th>\n",
              "    </tr>\n",
              "    <tr>\n",
              "      <th>Diabetes</th>\n",
              "      <th></th>\n",
              "    </tr>\n",
              "  </thead>\n",
              "  <tbody>\n",
              "    <tr>\n",
              "      <th>1</th>\n",
              "      <td>0.180033</td>\n",
              "    </tr>\n",
              "    <tr>\n",
              "      <th>0</th>\n",
              "      <td>0.204455</td>\n",
              "    </tr>\n",
              "  </tbody>\n",
              "</table>\n",
              "</div>\n",
              "      <button class=\"colab-df-convert\" onclick=\"convertToInteractive('df-20ce70cf-419e-4bdb-b27e-822bf437224f')\"\n",
              "              title=\"Convert this dataframe to an interactive table.\"\n",
              "              style=\"display:none;\">\n",
              "        \n",
              "  <svg xmlns=\"http://www.w3.org/2000/svg\" height=\"24px\"viewBox=\"0 0 24 24\"\n",
              "       width=\"24px\">\n",
              "    <path d=\"M0 0h24v24H0V0z\" fill=\"none\"/>\n",
              "    <path d=\"M18.56 5.44l.94 2.06.94-2.06 2.06-.94-2.06-.94-.94-2.06-.94 2.06-2.06.94zm-11 1L8.5 8.5l.94-2.06 2.06-.94-2.06-.94L8.5 2.5l-.94 2.06-2.06.94zm10 10l.94 2.06.94-2.06 2.06-.94-2.06-.94-.94-2.06-.94 2.06-2.06.94z\"/><path d=\"M17.41 7.96l-1.37-1.37c-.4-.4-.92-.59-1.43-.59-.52 0-1.04.2-1.43.59L10.3 9.45l-7.72 7.72c-.78.78-.78 2.05 0 2.83L4 21.41c.39.39.9.59 1.41.59.51 0 1.02-.2 1.41-.59l7.78-7.78 2.81-2.81c.8-.78.8-2.07 0-2.86zM5.41 20L4 18.59l7.72-7.72 1.47 1.35L5.41 20z\"/>\n",
              "  </svg>\n",
              "      </button>\n",
              "      \n",
              "  <style>\n",
              "    .colab-df-container {\n",
              "      display:flex;\n",
              "      flex-wrap:wrap;\n",
              "      gap: 12px;\n",
              "    }\n",
              "\n",
              "    .colab-df-convert {\n",
              "      background-color: #E8F0FE;\n",
              "      border: none;\n",
              "      border-radius: 50%;\n",
              "      cursor: pointer;\n",
              "      display: none;\n",
              "      fill: #1967D2;\n",
              "      height: 32px;\n",
              "      padding: 0 0 0 0;\n",
              "      width: 32px;\n",
              "    }\n",
              "\n",
              "    .colab-df-convert:hover {\n",
              "      background-color: #E2EBFA;\n",
              "      box-shadow: 0px 1px 2px rgba(60, 64, 67, 0.3), 0px 1px 3px 1px rgba(60, 64, 67, 0.15);\n",
              "      fill: #174EA6;\n",
              "    }\n",
              "\n",
              "    [theme=dark] .colab-df-convert {\n",
              "      background-color: #3B4455;\n",
              "      fill: #D2E3FC;\n",
              "    }\n",
              "\n",
              "    [theme=dark] .colab-df-convert:hover {\n",
              "      background-color: #434B5C;\n",
              "      box-shadow: 0px 1px 3px 1px rgba(0, 0, 0, 0.15);\n",
              "      filter: drop-shadow(0px 1px 2px rgba(0, 0, 0, 0.3));\n",
              "      fill: #FFFFFF;\n",
              "    }\n",
              "  </style>\n",
              "\n",
              "      <script>\n",
              "        const buttonEl =\n",
              "          document.querySelector('#df-20ce70cf-419e-4bdb-b27e-822bf437224f button.colab-df-convert');\n",
              "        buttonEl.style.display =\n",
              "          google.colab.kernel.accessAllowed ? 'block' : 'none';\n",
              "\n",
              "        async function convertToInteractive(key) {\n",
              "          const element = document.querySelector('#df-20ce70cf-419e-4bdb-b27e-822bf437224f');\n",
              "          const dataTable =\n",
              "            await google.colab.kernel.invokeFunction('convertToInteractive',\n",
              "                                                     [key], {});\n",
              "          if (!dataTable) return;\n",
              "\n",
              "          const docLinkHtml = 'Like what you see? Visit the ' +\n",
              "            '<a target=\"_blank\" href=https://colab.research.google.com/notebooks/data_table.ipynb>data table notebook</a>'\n",
              "            + ' to learn more about interactive tables.';\n",
              "          element.innerHTML = '';\n",
              "          dataTable['output_type'] = 'display_data';\n",
              "          await google.colab.output.renderOutput(dataTable, element);\n",
              "          const docLink = document.createElement('div');\n",
              "          docLink.innerHTML = docLinkHtml;\n",
              "          element.appendChild(docLink);\n",
              "        }\n",
              "      </script>\n",
              "    </div>\n",
              "  </div>\n",
              "  "
            ]
          },
          "metadata": {},
          "execution_count": 38
        }
      ],
      "source": [
        "# Convertir les valeurs booleennes en numeriques (Yes->1, No->0):\n",
        "cp2['No-show_num'] = np.where(cp2['No-show']=='Yes', 1, 0)\n",
        "\n",
        "# Grouper suivant la manifestation ou non du diabete\n",
        "cp2[['Diabetes', 'No-show_num']].groupby('Diabetes').mean().sort_values(by='No-show_num')"
      ]
    },
    {
      "cell_type": "markdown",
      "metadata": {
        "id": "RUWsL-kx8lxn"
      },
      "source": [
        "En général, **18% des diabétiques** ne se sont pas présentés, ce qui représente une baisse d'environ **2%** par rapport à la moyenne générale des non-diabetiques qui ne sont presentes. Il semble que les diabétiques soient plus attentifs à leur santé et prennent leurs rendez-vous médicaux plus au sérieux que les non-diabétiques."
      ]
    },
    {
      "cell_type": "code",
      "execution_count": null,
      "metadata": {
        "colab": {
          "base_uri": "https://localhost:8080/",
          "height": 626
        },
        "id": "0_QfORk29cbw",
        "outputId": "f77d8e89-42f7-4252-a6c3-41013c80ed98"
      },
      "outputs": [
        {
          "output_type": "display_data",
          "data": {
            "text/plain": [
              "<Figure size 1026.96x633.6 with 4 Axes>"
            ],
            "image/png": "[encoded data removed]"
          },
          "metadata": {}
        }
      ],
      "source": [
        "grid = sns.FacetGrid(cp2, col='No-show_num', row='Diabetes', height=4.4, aspect=1.6)\n",
        "grid.map(plt.hist, 'Age', alpha=.5, bins=20)\n",
        "grid.add_legend();"
      ]
    },
    {
      "cell_type": "markdown",
      "metadata": {
        "id": "K7r0UzpJ-L1J"
      },
      "source": [
        "### La forme de la distribution du diabète est symétrique. La moyenne de cette distribution est d'environ 60. Pour la calculer plus précisément, ainsi que son écart-type, il faut utiliser une méthode statistique."
      ]
    },
    {
      "cell_type": "markdown",
      "metadata": {
        "id": "dHrxPVZeKm4R"
      },
      "source": [
        "## Comment les activités réalisées par un bureau de prise de rendez-vous (envoi de SMS, participation à une bourse) influencent le ratio show/no-show ?"
      ]
    },
    {
      "cell_type": "code",
      "execution_count": null,
      "metadata": {
        "colab": {
          "base_uri": "https://localhost:8080/",
          "height": 626
        },
        "id": "WeI9_uvevpi-",
        "outputId": "8ef5089f-0464-4c09-8ea0-bddc02eaa382"
      },
      "outputs": [
        {
          "output_type": "display_data",
          "data": {
            "text/plain": [
              "<Figure size 580.53x633.6 with 2 Axes>"
            ],
            "image/png": "[encoded data removed]"
          },
          "metadata": {}
        }
      ],
      "source": [
        "# Le Pointplot utilise la méthode du bootstraping pour estimer une moyenne et une erreur-type.\n",
        "# Rendez-vous liés aux patients diabétiques et recevant des SMS\n",
        "grid = sns.FacetGrid(cp2, row='SMS_received', height=4.4, aspect=1.6)\n",
        "grid.map(sns.pointplot, 'Diabetes', 'No-show_num', 'Gender', palette='deep', dodge=True)\n",
        "grid.add_legend();"
      ]
    },
    {
      "cell_type": "markdown",
      "metadata": {
        "id": "4Ba1xMV3_Mk0"
      },
      "source": [
        "On pourrait (et cela sera contre intuitif à la fois) de dire que les patients diabétiques se présentent tres faiblement s'ils reçoivent des SMS. Malheureusement, l'erreur standard pour le diabète est trop élevée, ce qui réduit notre confiance dans le résultat présenté dans le diagramme ci-dessus."
      ]
    },
    {
      "cell_type": "code",
      "execution_count": null,
      "metadata": {
        "colab": {
          "base_uri": "https://localhost:8080/",
          "height": 626
        },
        "id": "33Fl1cG02oir",
        "outputId": "6961fc40-7e0f-4fb8-e021-574b560a816b"
      },
      "outputs": [
        {
          "output_type": "display_data",
          "data": {
            "text/plain": [
              "<Figure size 580.53x633.6 with 2 Axes>"
            ],
            "image/png": "[encoded data removed]"
          },
          "metadata": {}
        }
      ],
      "source": [
        "# Rendez-vous liés aux patients souffrant d'hypertension et recevant des SMS :\n",
        "grid = sns.FacetGrid(cp2, row='SMS_received', height=4.4, aspect=1.6)\n",
        "grid.map(sns.pointplot, 'Hipertension', 'No-show_num', 'Gender', palette='deep', dodge=True)\n",
        "grid.add_legend();"
      ]
    },
    {
      "cell_type": "markdown",
      "metadata": {
        "id": "Y_PsBkJHAmf2"
      },
      "source": [
        "Parmi les rendez-vous pris par des patients souffrant d'hypertension, il semble que l'envoi de SMS entraîne un taux plus élevé d'absences (22-24 % contre 16 %). Un autre élément surprenant nous apprend que le taux de non-présentation des hommes est inférieur à celui des femmes. Normalement, je dirais le contraire. Dans les deux cas (que le SMS soit envoyé ou non), le taux de non-présentation des patients souffrant d'hypertension est inférieur à celui des patients sans hypertension.\n"
      ]
    },
    {
      "cell_type": "code",
      "execution_count": null,
      "metadata": {
        "colab": {
          "base_uri": "https://localhost:8080/",
          "height": 626
        },
        "id": "KMrdxJ5-m1GW",
        "outputId": "2bfc12b7-bc41-4f75-d650-300b548ec1e0"
      },
      "outputs": [
        {
          "output_type": "display_data",
          "data": {
            "text/plain": [
              "<Figure size 580.53x633.6 with 2 Axes>"
            ],
            "image/png": "[encoded data removed]"
          },
          "metadata": {}
        }
      ],
      "source": [
        "# Rendez-vous liés aux patients atteints de diabète et à la participation aux bourses de santes :\n",
        "grid = sns.FacetGrid(cp2, row='Scholarship', height=4.4, aspect=1.6)\n",
        "grid.map(sns.pointplot, 'Diabetes', 'No-show_num', 'Gender', palette='deep', dodge=True)\n",
        "grid.add_legend();"
      ]
    },
    {
      "cell_type": "code",
      "execution_count": null,
      "metadata": {
        "colab": {
          "base_uri": "https://localhost:8080/",
          "height": 626
        },
        "id": "TWxoL0gjmF0P",
        "outputId": "e26c7985-7b6c-4c4e-d85d-e5dbfef72cdd"
      },
      "outputs": [
        {
          "output_type": "display_data",
          "data": {
            "text/plain": [
              "<Figure size 580.53x633.6 with 2 Axes>"
            ],
            "image/png": "[encoded data removed]"
          },
          "metadata": {}
        }
      ],
      "source": [
        "# Rendez-vous liés aux patients atteints de Hipertension et à la participation aux bourses de santes :\n",
        "grid = sns.FacetGrid(cp2, row='Scholarship', height=4.4, aspect=1.6)\n",
        "grid.map(sns.pointplot, 'Hipertension', 'No-show_num', 'Gender', palette='deep', dodge=True)\n",
        "grid.add_legend();"
      ]
    },
    {
      "cell_type": "markdown",
      "metadata": {
        "id": "mNylKlpmKyBI"
      },
      "source": [
        "## Quels facteurs sont importants à connaître pour prédire si un patient se présentera à son rendez-vous prévu ?"
      ]
    },
    {
      "cell_type": "code",
      "execution_count": null,
      "metadata": {
        "colab": {
          "base_uri": "https://localhost:8080/",
          "height": 703
        },
        "id": "L3Rv7B-qK3rR",
        "outputId": "4b7d90ed-a57b-4cb9-d8c7-25dfc97375a0"
      },
      "outputs": [
        {
          "output_type": "display_data",
          "data": {
            "text/plain": [
              "<Figure size 1800x1080 with 7 Axes>"
            ],
            "image/png": "[encoded data removed]"
          },
          "metadata": {}
        }
      ],
      "source": [
        "# First, let's look at categorical variables\n",
        "Variable_categorielle = ['Gender', 'Scholarship', 'Hipertension', 'Diabetes', 'Alcoholism', 'Handcap', 'SMS_received']\n",
        "\n",
        "fig = plt.figure(figsize=(25, 15))\n",
        "for i, var in enumerate(Variable_categorielle):\n",
        "    ax = fig.add_subplot(3, 3, i+1)\n",
        "    cp2.groupby([var, 'No-show'])[var].count().unstack('No-show').plot(ax=ax, kind='bar', stacked=True)"
      ]
    },
    {
      "cell_type": "markdown",
      "metadata": {
        "id": "emhUtpj3Q4v5"
      },
      "source": [
        " Les graphiques confirment un pourcentage des patients absents au rendez-vous semble être supérieur à 20% pour la plupart des catégories.\n",
        "\n"
      ]
    },
    {
      "cell_type": "code",
      "execution_count": null,
      "metadata": {
        "colab": {
          "base_uri": "https://localhost:8080/",
          "height": 279
        },
        "id": "RKmkQEs0NLr8",
        "outputId": "784a34a9-8ee7-4fa6-fe4e-6cf30d6ac0cd"
      },
      "outputs": [
        {
          "output_type": "display_data",
          "data": {
            "text/plain": [
              "<Figure size 432x288 with 1 Axes>"
            ],
            "image/png": "[encoded data removed]"
          },
          "metadata": {}
        }
      ],
      "source": [
        "# Visualisons maintenant de plus près les variables numériques Age :\n",
        "cp2.Age[cp2['No-show'] == 'No'].hist(alpha=0.8, bins=20);\n",
        "cp2.Age[cp2['No-show'] == 'Yes'].hist(alpha=0.8, bins=20);"
      ]
    },
    {
      "cell_type": "markdown",
      "metadata": {
        "id": "8Y7EbiIyOcH2"
      },
      "source": [
        "Les nourrissons se présentent le plus souvent, puis les personnes âgées de 50 à 55 ans. Mais entre 1 - 65 ans, le pourcentage des patients absents au rendez-vous semble être supérieur à 20%."
      ]
    },
    {
      "cell_type": "markdown",
      "metadata": {
        "id": "MF_s5mqSEBeY"
      },
      "source": [
        "# Conclusion:\n",
        "Pour mener a bien cette etude, nous avons géré des problèmes de types de données, supprimé des données erronées, l'ajout de nouvelles caractéristiques basées sur les données existantes.\n",
        " Nous avons également examiné la plupart des variables indépendantes de l'ensemble de données et fait quelques observations en les comparant les unes aux autres ainsi qu'à la variable dépendante (No-show). Comme il ne s'agissait que d'une analyse exploratoire, de nombreuses corrélations potentielles peuvent rester non découvertes. Les données devraient être étudiées plus en profondeur à l'aide d'une analyse statistique plus avancée afin de révéler de nouvelles perspectives et corrélations.\n",
        "\n",
        "Les Observations les plus importantes sont les suivants :\n",
        "- Les dates de reservations sont comprises entre le **10 Novembre 2015** et **08 Juin 2016**. La date de reservations la plus frequente est le **06 Mai 2016** qui apparait **24** fois.\n",
        "- Les rendez-vous sont pris entre la date du **29 Avril 2016**  au **08 Juin 2016**. La date de rendez-vous la plus frequente est le **06 Juin 2016** qui apparait **4692** fois.\t \n",
        "- Le quartier dans lequel il y a plus de rendez-vous pour consultation est **JARDIM CAMBURI** avec **7717** occurences.\n",
        "- L'**age moyen** des patients est **37 ans**. **25%** des patients ont moins de **18 ans** avec le patient le plus jeunes a**-1 an** ce qui n'est pas possible car un homme ne peut avoir un age negatif. Le plus viens a **115 ans**.\n",
        "- Tres peu de patients sont alcooliques: approximativement 4000 patients alcooliques.\n",
        "- Tres peu de patients sont **diabétiques** bien qu'il y ait un peu plus de diabétiques que d'alcooliques, **approximativement le double des alcooliques**: soit **8000 patients**. Puisque les bières ont une teneur en sucre très élevée, nous sommes tentés de croire que bon nombre des patients atteints de diabète sont alcooliques.\n",
        "- Approximativement **21000 patients** sont **hypertendus**. \n",
        "- Environ **2000 patients** sont atteints d'un **handicape**.\n",
        "- Environ **36000 patients** ont reçus au moins un **SMS**. Cela nous mène vers le soupçon de conclusion qu'approximativement toutes les personnes atteintes **d'une maladie ou un handicapes** ont reçu au **moins un message**.\n",
        "- Pres de **90000 fois les patients** se sont presentes au rendez-vous.\n",
        "- Environ **10000 patients** ont recu une bourse de traitement ou de suivi bresilienne **Bolsa Família.**\n",
        "- En moyenne, les patients ont attendu 10 jours pour obtenir un rendez-vous. 50% des patients ont attendu jusqu'à 4 jours et 75% jusqu'à 15 jours pour un rendez-vous. Le temps d'attente le plus long a été de 179 jours.\n",
        "- Près de 40 000 patients ont programmé leur visite le jour même.\n",
        "Sur l'ensemble des patients ayant pris un rendez-vous le jour même (38561 au total), 1792 patients ne se sont pas présentés (5%).\n",
        "\n",
        "- Il y a beaucoup de personnes très jeunes dans l'ensemble de données (la plupart d'entre elles sont âgées de 0 an), mais en général, l'âge des patients est réparti de manière égale et le nombre de patients diminue de manière drastique pour les patients âgés de plus de 60 ans.\n",
        "\n",
        "- Les patients ont 37 ans en moyenne. 25% des patients ont moins de 18 ans et la plupart d'entre eux ont moins de 55 ans."
      ]
    },
    {
      "cell_type": "markdown",
      "source": [
        "# Recommendations\n",
        "Les absences des patients au rendez-vous pourrait perturber le système de prise en charge des soins de santé en créant des inefficacités et en empêchant l'utilisation de ressources précieuses. L'identification de tous les facteurs possibles sous-jacents aux absences avec des stratégies d'atténuation appropriées, par exemple des systèmes de planification dynamique avec l'utilisation d'outils d'analyse prédictive via l'apprentissage automatique et l'intelligence artificielle, peut aider les organisations de soins de santé à réduire et à absorber l'impact des absences. Tout ceci data le but de rendre plus efficaces et efficients les soins de santé. Par ailleurs, de telles approches permettraient de mieux faire correspondre l'offre à la demande attendue dans de telles circonstances. Les recommandations ci-dessous pour le processus de planification peuvent également être utiles dans le but de réduire les taux de non-présentation :\n",
        "- Ajout de rappels automatisés pour ajuster les comportements des patients (par exemple, SMS, appels téléphoniques, e-mails) permettrait de reduire de maniere considerable les absences aux rendez-vous de soin sanitaire. \n",
        "- Établir une ligne téléphonique d'annulation séparée et utiliser un langage de communication intelligent dans les rappels d'appels téléphoniques, pour donner au patient le confort et le courage d'annuler les rendez-vous réservés s'ils ne sont plus nécessaires.\n",
        "- En utilisant les dossiers de santé électroniques (DSE), les prestataires de soins de santé peuvent accéder à l'historique des absences au rendez-vous des patients et créer des modèles prédictifs capables d'évaluer chaque patient et sa probabilité d'absence au rendez-vous. En tenant compte du dossier de electroniques de rendez-vous (tenant compte des absences) des patients et de leur probabilité de manquer leur rendez-vous, des outils et des méthodes d'analyse prédictive peuvent être utilisés pour créer des conditions de surréservation. \n",
        "- L'industrie de la santé pourrait envisager d'adopter cette pratique en appliquant des sanctions financières ou des incitations lorsque les patients manquent ou assistent à leurs rendez-vous. De plus, les prestataires de soins de santé peuvent adopter une politique de congé pour les patients qui ne se présentent pas à plusieurs reprises afin de forcer les patients à développer un bon sens des responsabilités.\n",
        "- Afin de réduire l'anxiété et la peur chez les patients subissant tout type d'examen (en particulier une IRM), il est crucial de développer des stratégies, telles que la fourniture d'informations détaillées aux patients, l'utilisation d'outils audiovisuels et de protocoles de réduction de l'anxiété. Ces stratégies, en plus de fournir aux prestataires de soins de santé une formation adéquate, peuvent permettre aux patients de mieux connaître leur état de santé et de se préparer mentalement à se rendre à leur rendez-vous sans inquiétude ni peur inutiles.\n",
        "\n",
        "Les observations et les recommandations de cette étude peuvent être utilisés pour examiner différents facteurs d'absences aux rendez-vous et leurs impacts potentiels dans une étude de cas particulière où la peur et l'anxiété sont potentiellement des moteurs pour des taux élevés d'absences aux rendez-vous. Bien que les résultats de cette étude fournissent des informations importantes, les études futures pourraient bénéficier d'études qualitatives et quantitatives plus structurées pour mieux classer l'importance des facteurs en tant que facteurs d'absences des patients."
      ],
      "metadata": {
        "id": "jfYtxnuNArg7"
      }
    },
    {
      "cell_type": "code",
      "source": [],
      "metadata": {
        "id": "M2NdyT-dBS6T"
      },
      "execution_count": null,
      "outputs": []
    }
  ],
  "metadata": {
    "colab": {
      "provenance": []
    },
    "kernelspec": {
      "display_name": "Python 3",
      "name": "python3"
    },
    "language_info": {
      "name": "python"
    }
  },
  "nbformat": 4,
  "nbformat_minor": 0
}